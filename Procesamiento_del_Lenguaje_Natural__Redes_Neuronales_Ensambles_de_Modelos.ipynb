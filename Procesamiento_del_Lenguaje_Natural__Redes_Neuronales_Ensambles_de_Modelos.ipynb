{
  "cells": [
    {
      "cell_type": "markdown",
      "metadata": {
        "id": "MmbC-hjg-VgY"
      },
      "source": [
        "\n",
        "#**TP2: Propiedades en Venta**\n",
        "\n",
        "\n",
        "\n",
        "---\n",
        "\n",
        "\n",
        "---\n",
        "\n",
        "\n",
        "## *Facultad de Ingeniería, Universidad de Buenos Aires*\n",
        "\n",
        "---\n",
        "### *2do Cuatrimestre de 2022*\n",
        "\n",
        "---\n",
        "### *Organización de Datos*\n",
        "\n",
        "### *Curso: Rodriguez*\n",
        "\n",
        "---"
      ]
    },
    {
      "cell_type": "markdown",
      "metadata": {
        "id": "Db9ZDFusQOrk"
      },
      "source": [
        "## **Objetivo del trabajo**\n",
        "\n",
        "---\n",
        "---\n",
        "\n",
        "Los conjuntos de datos a utilizar properati_argentina_2021 y properati_argentina_2021_decrip\n",
        "se encuentran disponibles en el siguiente enlace, la descripción de las variables se encuentra\n",
        "disponible aquí . Para este trabajo se plantean los siguientes objetivos generales:\n",
        "- Procesamiento del Lenguaje Natural: el objetivo será analizar las descripciones de los avisos para construir nuevos features y reentrenar algunos modelos del TP1.\n",
        "- Redes Neuronales: se deberán implementar dos modelos de red neuronal uno para\n",
        "clasificación y otro para regresión.\n",
        "- Ensamble de Modelos: el objetivo será construir dos ensambles híbridos uno para clasificación y otro para regresión pudiendo utilizar los modelos del TP1\n",
        "\n",
        "---\n",
        "\n",
        "\n",
        "\n"
      ]
    },
    {
      "cell_type": "markdown",
      "metadata": {
        "id": "5_KX0EDafNjW"
      },
      "source": [
        "## **Setup previo**\n"
      ]
    },
    {
      "cell_type": "markdown",
      "metadata": {
        "id": "k2xOFAXeeCwG"
      },
      "source": [
        "Importamos todas las librerías a utilizar a lo largo del trabajo."
      ]
    },
    {
      "cell_type": "code",
      "execution_count": null,
      "metadata": {
        "id": "ZUd0sPK1eBJf"
      },
      "outputs": [],
      "source": [
        "import pandas as pd\n",
        "import numpy as np\n",
        "import seaborn as sns\n",
        "import matplotlib.pyplot as plt\n",
        "from matplotlib import cm\n",
        "import sklearn as sk\n",
        "from sklearn import datasets\n",
        "import warnings\n",
        "warnings.simplefilter(action='ignore', category=FutureWarning)\n",
        "from sklearn.preprocessing import StandardScaler\n",
        "from importlib import reload"
      ]
    },
    {
      "cell_type": "markdown",
      "metadata": {
        "id": "Mq6gr4q3eXGj"
      },
      "source": [
        "Importamos el dataset original y lo guardamos para su posterior uso."
      ]
    },
    {
      "cell_type": "code",
      "execution_count": null,
      "metadata": {
        "id": "cjU1vXHUIZ82"
      },
      "outputs": [],
      "source": [
        "dwn_url='https://drive.google.com/uc?id=1QOcQ3hOhzxadj34y_wcvwYNa0-fNrmn3'\n",
        "ds_original = pd.read_csv(dwn_url)"
      ]
    },
    {
      "cell_type": "markdown",
      "metadata": {
        "id": "V0l0mDC9DSJI"
      },
      "source": [
        "Importamos el dataset que contiene las descripciones. Para ello previamente separamos el dataset en dos conjuntos donde uno contiene todas las filas del split train y otro del test."
      ]
    },
    {
      "cell_type": "code",
      "execution_count": null,
      "metadata": {
        "id": "zhp3OkUiB4HA"
      },
      "outputs": [],
      "source": [
        "dwn_url_descrip_train='https://drive.google.com/uc?id=1d41f4YY2KC-rZ0DHR3izgB2jVaxyFs1r'\n",
        "ds_descrip_train = pd.read_csv(dwn_url_descrip_train)\n",
        "\n",
        "dwn_url_descrip_test='https://drive.google.com/uc?id=1L4zk4ektIEgeMMnhWXclzrHsK1o4EyKD'\n",
        "ds_descrip_test = pd.read_csv(dwn_url_descrip_test)"
      ]
    },
    {
      "cell_type": "code",
      "execution_count": null,
      "metadata": {
        "id": "LOlvCQIfDYG7"
      },
      "outputs": [],
      "source": [
        "x_train = pd.read_csv('https://drive.google.com/uc?id=1sOpD9HgOjs6LzVEksLAX8-4AEbP4-wzh')\n",
        "x_test = pd.read_csv('https://drive.google.com/uc?id=1S8sI6QdQalkiUJg8mT_dO00_TO_WvGKQ')\n",
        "\n",
        "y_train = pd.read_csv('https://drive.google.com/uc?id=1r9yX8AecV66Ya2UJi4IbPB2JVo_gwT2S')\n",
        "y_test = pd.read_csv('https://drive.google.com/uc?id=112e7sRozO0YRRjgdOJxEXfiVuhJ0xSvl')"
      ]
    },
    {
      "cell_type": "code",
      "execution_count": null,
      "metadata": {
        "id": "O8S_1cVYpzAh"
      },
      "outputs": [],
      "source": [
        "x_train_target = pd.read_csv('https://drive.google.com/uc?id=1xVlHoR4jXTNdOslM5W0Tvciz-qagN5x0')\n",
        "\n",
        "x_test_target = pd.read_csv('https://drive.google.com/uc?id=1QgQmGjIwzMckA84GlNt26WmVoLbuHbwV')"
      ]
    },
    {
      "cell_type": "code",
      "execution_count": null,
      "metadata": {
        "id": "0uykH6sXqI8i"
      },
      "outputs": [],
      "source": [
        "x_train_target=x_train_target.iloc[:,1:10]\n",
        "x_test_target=x_test_target.iloc[:,1:10]"
      ]
    },
    {
      "cell_type": "code",
      "execution_count": null,
      "metadata": {
        "id": "3bMl4XWeoL2F"
      },
      "outputs": [],
      "source": [
        "# función auxiliar para mostrar gráficos completos \n",
        "def mostrar_metadata_grafico(titulo, ylabel=None, xlabel=None, leyendas=None):\n",
        "  plt.title(titulo)\n",
        "  if ylabel:\n",
        "    plt.ylabel = ylabel\n",
        "  if xlabel:\n",
        "    plt.xlabel = xlabel\n",
        "  if leyendas:\n",
        "    plt.legend = leyendas\n",
        "  plt.show()"
      ]
    },
    {
      "cell_type": "markdown",
      "metadata": {
        "id": "HVa6Oo1VQXeO"
      },
      "source": [
        "Eliminamos la primer columna que hace referencia a los indices que tenia cuando se exporto el dataset. \n"
      ]
    },
    {
      "cell_type": "code",
      "execution_count": null,
      "metadata": {
        "id": "Gdg-q3LGrY2s"
      },
      "outputs": [],
      "source": [
        "y_train = y_train.property_price\n",
        "y_test = y_test.property_price\n",
        "\n",
        "x_train = x_train.iloc[:,1:20]\n",
        "x_test = x_test.iloc[:,1:20]\n",
        "\n",
        "ds_descrip_train = ds_descrip_train.iloc[:,1:3]\n",
        "ds_descrip_test = ds_descrip_test.iloc[:,1:3]"
      ]
    },
    {
      "cell_type": "markdown",
      "source": [
        "Luego agregamos la columna descripción a los dataset train y test."
      ],
      "metadata": {
        "id": "H0uPGmv5CAz7"
      }
    },
    {
      "cell_type": "code",
      "execution_count": null,
      "metadata": {
        "id": "Co0EyPEidawy"
      },
      "outputs": [],
      "source": [
        "x_train=pd.merge(x_train, ds_descrip_train, how='left', on='id')\n",
        "x_test=pd.merge(x_test, ds_descrip_test, how='left', on='id')"
      ]
    },
    {
      "cell_type": "markdown",
      "metadata": {
        "id": "EigQ5AL3QjTV"
      },
      "source": [
        "## Ampliación del dataset"
      ]
    },
    {
      "cell_type": "markdown",
      "metadata": {
        "id": "UElSd7GhQo0f"
      },
      "source": [
        "Utilizaremos la columna descripción para encontrar aspectos de una propiedad. Luego utilizaremos esos aspectos para crear nuevas columnas y ampliar el detaset original."
      ]
    },
    {
      "cell_type": "markdown",
      "metadata": {
        "id": "ooPSfv4GQw2z"
      },
      "source": [
        "En principio, analizaremos las frases o valores repetidos."
      ]
    },
    {
      "cell_type": "markdown",
      "metadata": {
        "id": "LkFMJHh6Q8tT"
      },
      "source": [
        "Primero creamos un nuevo data frame para obtener la frecuencia de las palabras en cada una de las descripciones. Este dataframe se forma de manera tal que cada fila contiene cada palabra de las descripción correspondiente, conservando los valores de los demás features. "
      ]
    },
    {
      "cell_type": "code",
      "execution_count": null,
      "metadata": {
        "id": "HN2YaI6auH1O"
      },
      "outputs": [],
      "source": [
        "description_token_train = x_train[['property_description']]\n",
        "description_token_test = x_test[['property_description']]"
      ]
    },
    {
      "cell_type": "code",
      "execution_count": null,
      "metadata": {
        "id": "LUIFWpQ0jLSq",
        "colab": {
          "base_uri": "https://localhost:8080/"
        },
        "outputId": "94c8e073-c1e1-4c2b-a14a-b77708c37ccd"
      },
      "outputs": [
        {
          "output_type": "stream",
          "name": "stderr",
          "text": [
            "/usr/local/lib/python3.8/dist-packages/pandas/core/generic.py:5516: SettingWithCopyWarning: \n",
            "A value is trying to be set on a copy of a slice from a DataFrame.\n",
            "Try using .loc[row_indexer,col_indexer] = value instead\n",
            "\n",
            "See the caveats in the documentation: https://pandas.pydata.org/pandas-docs/stable/user_guide/indexing.html#returning-a-view-versus-a-copy\n",
            "  self[name] = value\n"
          ]
        }
      ],
      "source": [
        "description_token_train.property_description = description_token_train.property_description.str.split()\n",
        "description_token_test.property_description = description_token_test.property_description.str.split()"
      ]
    },
    {
      "cell_type": "code",
      "execution_count": null,
      "metadata": {
        "id": "HRlnO2HZlIWL"
      },
      "outputs": [],
      "source": [
        "description_token_train = description_token_train.explode('property_description')\n",
        "description_token_test = description_token_test.explode('property_description')"
      ]
    },
    {
      "cell_type": "code",
      "execution_count": null,
      "metadata": {
        "id": "lQMmfLyTUKkk"
      },
      "outputs": [],
      "source": [
        "description_token_train = description_token_train.reset_index()\n",
        "description_token_test = description_token_test.reset_index()"
      ]
    },
    {
      "cell_type": "markdown",
      "metadata": {
        "id": "iiZ1QvCUR0qW"
      },
      "source": [
        "Modificamos las palabras que presentan mayúsculas para que únicamente comiencen con letras minúsculas. "
      ]
    },
    {
      "cell_type": "code",
      "execution_count": null,
      "metadata": {
        "id": "jF72ZVrFH0fc"
      },
      "outputs": [],
      "source": [
        "description_token_train['property_description'] = description_token_train['property_description'].str.lower()\n",
        "description_token_test['property_description'] = description_token_test['property_description'].str.lower()"
      ]
    },
    {
      "cell_type": "code",
      "execution_count": null,
      "metadata": {
        "id": "zbfC_-dTY0Dr"
      },
      "outputs": [],
      "source": [
        "description_token_train.rename(columns = {'property_description':'palabra', 'index':'indice'}, inplace = True)\n",
        "description_token_test.rename(columns = {'property_description':'palabra', 'index':'indice'}, inplace = True)"
      ]
    },
    {
      "cell_type": "markdown",
      "metadata": {
        "id": "KrMtxL1KU0OQ"
      },
      "source": [
        "Definimos una nueva función buscar_palabra para que se puedan buscar palabras (en el dataset que se pase por parametro) en una columna específica. "
      ]
    },
    {
      "cell_type": "code",
      "execution_count": null,
      "metadata": {
        "id": "LoqXjDj5gKro"
      },
      "outputs": [],
      "source": [
        "def buscar_palabra(ds=description_token_train,nombre=None):\n",
        "  ds_palabra_buscada = ds[0:0]#creo el ds en estado vacio pero conservo las columnas\n",
        "  for i in range(len(nombre)):\n",
        "    con_coma_despues = nombre[i]+',' # concateno una coma\n",
        "\n",
        "    ds_post_coma = ds[(ds['palabra'] == con_coma_despues)] # filtro por palabra buscada\n",
        "    ds_aux = ds[(ds['palabra'] == nombre[i])]              # filtro por palabra buscada con coma \n",
        "    ds_palabra_buscada = pd.concat([ds_palabra_buscada, ds_aux, ds_post_coma])  #concateno ambos ds filtrados formando uno solo\n",
        "\n",
        "  return ds_palabra_buscada"
      ]
    },
    {
      "cell_type": "markdown",
      "source": [
        "Definimos una nueva función mostrar_frecuencias para poder graficar las frecuencias de ciertas palabras en un dataset. "
      ],
      "metadata": {
        "id": "qQkJEm-wONjg"
      }
    },
    {
      "cell_type": "code",
      "execution_count": null,
      "metadata": {
        "id": "9owt5fqNi9Fp"
      },
      "outputs": [],
      "source": [
        "def mostrar_frecuencias(df, columna='palabra', ancho=25, alto=10):\n",
        "    frecuencia_por_valor = df.groupby(columna).size().to_frame(\"frecuencia\")\n",
        "    frecuencia_por_valor = frecuencia_por_valor.sort_values(by=\"frecuencia\", ascending=False).reset_index()\n",
        "    frecuencia_por_valor.head(40).plot.bar(x=columna, y=\"frecuencia\", figsize=(ancho, alto))\n",
        "    mostrar_metadata_grafico(f\"frecuencias de valores posibles de {columna}\", ylabel=\"frecuencia\", xlabel=\"valores posibles\")"
      ]
    },
    {
      "cell_type": "markdown",
      "metadata": {
        "id": "bx30ajssQeF8"
      },
      "source": [
        "# Procesamiento del Lenguaje Natural"
      ]
    },
    {
      "cell_type": "markdown",
      "metadata": {
        "id": "mDqyrSoVaNJT"
      },
      "source": [
        "#### Análisis de frecuencias "
      ]
    },
    {
      "cell_type": "markdown",
      "source": [
        "Agregamos ciertas palabras comunes presentes en las descripciones de cada propiedad. Dentro de este grupo se encuentran preposiciones, numeros, signos de puntación, entre otros."
      ],
      "metadata": {
        "id": "AHbQhbZIOdxI"
      }
    },
    {
      "cell_type": "code",
      "execution_count": null,
      "metadata": {
        "id": "sb2Tab7OUHhS"
      },
      "outputs": [],
      "source": [
        "palabras_comunes = [',', '.','a', 'ante', 'bajo', 'cabe', 'con', 'contra', 'de', 'desde', 'durante', 'en', 'entre', 'hacia', 'hasta','mediante', 'para', 'por', 'según', 'sin', 'so', 'sobre', 'tras', 'versus', 'vía', 'y', 'el', 'o', 'la', 'del', 'al', 'que', 'un', 'las', 'los', 'se', 'una', 'son', 'es', '1', '2', '3', '4', '5', '6', '7', '8', '9', '10', '11', '12',\n",
        "'casa', 'departamento', 'ph', 'dos', 'tres', 'cuatro', 'cinco', 'seis', 'siete','1','1°','1er', '2', '2°', '2do','3', '3°', '3er','4', '4°', '4to','5', '5°', '5to','6', '6°', '6to','7', '7°', '7mo','8', '8°', '8vo',\n",
        "'9', '9°', '9no','10', '10°', '10mo','11', '11°','primer','segundo', 'tercer', 'cuarto', 'quinto','sexto', 'septimo', 'octavo', 'noveno', 'decimo', '-', 'no', 'ambientes',\n",
        "'muy', 'x', 'tu', '/', 'dormitorio', 'valor', 'esta', 'corredor', 'inmueble', 'edificio', 'responsable:', 'medidas', 'propiedad.', 'cuenta', 'excelente', '\\n\\n', '#',\n",
        " 'm2', 'querés!', 'podés.', 'personas', 'encuentra', 'ley', 'dormitorios', 'id', 'comprá', '\\n\\n ', '<br>', 'accede', 'ser', 'su', 'propiedad', 'accedé', 'todos', 'metros',\n",
        "  'venta', 'barrio', 'zona', 'lo', 'como', 'todo', 'tiene', 'puede', 'operación', 'operaciones','propietario', 'valores']"
      ]
    },
    {
      "cell_type": "code",
      "execution_count": null,
      "metadata": {
        "id": "oG4zvbsdcZoL"
      },
      "outputs": [],
      "source": [
        "barras_n = description_token_train[description_token_train['palabra'].map(description_token_train['palabra'].value_counts()) == 18119].palabra.values # palabras /n de diferentes tipos\n",
        "frec_igual_a_uno = description_token_train[description_token_train['palabra'].map(description_token_train['palabra'].value_counts()) == 1].palabra.values"
      ]
    },
    {
      "cell_type": "code",
      "execution_count": null,
      "metadata": {
        "id": "LoqZE-VaU7Yy"
      },
      "outputs": [],
      "source": [
        "ds_sin_palabras_comunes = description_token_train[~description_token_train.palabra.isin(palabras_comunes)]\n",
        "ds_sin_palabras_comunes = ds_sin_palabras_comunes[~ds_sin_palabras_comunes.palabra.isin(barras_n)]\n",
        "ds_sin_palabras_comunes = ds_sin_palabras_comunes[~ds_sin_palabras_comunes.palabra.isin(frec_igual_a_uno)]"
      ]
    },
    {
      "cell_type": "markdown",
      "source": [
        "Se analizará la frecuencia de las palabras en el dataset, evitando aquellas que son muy comunes en las descripciones de las propiedades."
      ],
      "metadata": {
        "id": "GAI3VnDdQs4a"
      }
    },
    {
      "cell_type": "code",
      "execution_count": null,
      "metadata": {
        "colab": {
          "base_uri": "https://localhost:8080/",
          "height": 689
        },
        "id": "O4tGiR14i-IM",
        "outputId": "9271da5d-724c-4f00-b64c-8c4c76ad8f49"
      },
      "outputs": [
        {
          "output_type": "display_data",
          "data": {
            "text/plain": [
              "<Figure size 1800x720 with 1 Axes>"
            ],
            "image/png": "[encoded data removed]"
          },
          "metadata": {
            "needs_background": "light"
          }
        }
      ],
      "source": [
        "mostrar_frecuencias(ds_sin_palabras_comunes)"
      ]
    },
    {
      "cell_type": "markdown",
      "metadata": {
        "id": "_hG2io9Qo6ZQ"
      },
      "source": [
        "Una vez analizada la frecuencia de las palabras anteriores, estudiaremos la frecuencia de las palabras que se encuentran dentro del mimso grupo en el grafico anterior pero que no parecen obvias para aparecer en la descripción de una propiedad."
      ]
    },
    {
      "cell_type": "code",
      "execution_count": null,
      "metadata": {
        "id": "EbgRUTYAkIrM"
      },
      "outputs": [],
      "source": [
        "palabras_obvias = ['cocina', 'baño', 'piso', 'comedor', 'living', 'balcon', 'pisos', 'amplio', 'gran', 'vista', 'aire', 'terraza', 'metros', 'placard',\n",
        "                   'lavadero','planta', 'patio', 'balcón', 'cochera']\n",
        "ds_sin_palabras_obvias = ds_sin_palabras_comunes[~ds_sin_palabras_comunes.palabra.isin(palabras_obvias)]"
      ]
    },
    {
      "cell_type": "code",
      "execution_count": null,
      "metadata": {
        "colab": {
          "base_uri": "https://localhost:8080/",
          "height": 689
        },
        "id": "96blkMPEnq3y",
        "outputId": "20518c11-a5a2-459c-fcc5-4b5922afa4ee"
      },
      "outputs": [
        {
          "output_type": "display_data",
          "data": {
            "text/plain": [
              "<Figure size 1800x720 with 1 Axes>"
            ],
            "image/png": "[encoded data removed]"
          },
          "metadata": {
            "needs_background": "light"
          }
        }
      ],
      "source": [
        "mostrar_frecuencias(ds_sin_palabras_obvias)"
      ]
    },
    {
      "cell_type": "markdown",
      "metadata": {
        "id": "BR33ouYjuweR"
      },
      "source": [
        "Nos llamo la atencion que la palabra \"simula\" tiene una muy alta frecuencia, por lo tanto analizaremos sus palabras contiguas para entender la razón de su elevada frecuencia."
      ]
    },
    {
      "cell_type": "code",
      "execution_count": null,
      "metadata": {
        "colab": {
          "base_uri": "https://localhost:8080/"
        },
        "id": "UCkKBuJFq5Ms",
        "outputId": "838a3052-300d-46ce-c540-841ec2bc0665"
      },
      "outputs": [
        {
          "output_type": "stream",
          "name": "stdout",
          "text": [
            "tu    22192\n",
            "Name: palabra, dtype: int64\n",
            "-------------------------------------------------\n",
            "cuota       22144\n",
            "préstamo       27\n",
            "crédito        12\n",
            "Name: palabra, dtype: int64\n",
            "-------------------------------------------------\n",
            "en            22147\n",
            "ingresando       25\n",
            "\\n\\n              4\n",
            "Name: palabra, dtype: int64\n",
            "-------------------------------------------------\n",
            "lendar        22095\n",
            "a                25\n",
            "lendartoda       16\n",
            "Name: palabra, dtype: int64\n"
          ]
        }
      ],
      "source": [
        "ds_simula = buscar_palabra(nombre=['simulá'])\n",
        "indices_simula = ds_simula.index\n",
        "\n",
        "simula_mas_1=description_token_train.loc[indices_simula+1]\n",
        "simula_mas_2=description_token_train.loc[indices_simula+2]\n",
        "simula_mas_3=description_token_train.loc[indices_simula+3]\n",
        "simula_mas_4=description_token_train.loc[indices_simula+4]\n",
        "\n",
        "print(simula_mas_1.palabra.value_counts().head(3))\n",
        "print('-------------------------------------------------')\n",
        "print(simula_mas_2.palabra.value_counts().head(3))\n",
        "print('-------------------------------------------------')\n",
        "print(simula_mas_3.palabra.value_counts().head(3))\n",
        "print('-------------------------------------------------')\n",
        "print(simula_mas_4.palabra.value_counts().head(3))"
      ]
    },
    {
      "cell_type": "markdown",
      "metadata": {
        "id": "nf42xMeVtkJw"
      },
      "source": [
        "Vemos que en la mayoria de los casos en los cual aparece la palabra \"simulá\" en una descripcion, termina formando la frase \"Simulá tu cuota en Lendar\"."
      ]
    },
    {
      "cell_type": "markdown",
      "metadata": {
        "id": "Ct8FTKq8vdie"
      },
      "source": [
        "#### Análisis de frecuencias de posibles features"
      ]
    },
    {
      "cell_type": "markdown",
      "metadata": {
        "id": "7sUkPNyhVIEq"
      },
      "source": [
        "Definimos los amenities que se pueden llegar a tener en un departamento para luego buscar estas palabras en el dataset original y crear un nuevo dataset de amenities."
      ]
    },
    {
      "cell_type": "code",
      "execution_count": null,
      "metadata": {
        "id": "EWBKmeBG23WW"
      },
      "outputs": [],
      "source": [
        "amenities = ['gym', 'gimnasio', 'spa', 'jacuzzi', 'pileta', 'piscina', 'alberca', 'solarium', 'sum', 'quincho', 'sauna', 'lavadero', 'baulera', 'atico', 'ático', 'altillo', 'sotano', 'sótano', 'parrilla', 'garage', 'cochera', 'estacionamiento']\n",
        "ds_amenities = buscar_palabra(nombre=amenities)"
      ]
    },
    {
      "cell_type": "markdown",
      "source": [
        "Realizamos el mismo procedimiento con las palabras \"terraza\", \"patio\" y sus palabras relacionadas, creando un nuevo dataset de patio_balcon"
      ],
      "metadata": {
        "id": "GY3jNLSKXXqN"
      }
    },
    {
      "cell_type": "code",
      "source": [
        "ds_patio_balcon = buscar_palabra(nombre=['terraza', 'patio', 'jardin', 'jardín', 'balcon', 'balcón'])"
      ],
      "metadata": {
        "id": "tr_SngBZXpxB"
      },
      "execution_count": null,
      "outputs": []
    },
    {
      "cell_type": "markdown",
      "metadata": {
        "id": "3tRWw3lFWUed"
      },
      "source": [
        "Detectamos la frecuancia de ciertos aspectos que se hayan en data frame e imprimimos la cantidad de veces que estos aparecen."
      ]
    },
    {
      "cell_type": "code",
      "source": [
        "ds_amenities.shape[0]"
      ],
      "metadata": {
        "colab": {
          "base_uri": "https://localhost:8080/"
        },
        "id": "EYfWckttXR_L",
        "outputId": "f3ec9a65-2f9b-4043-d8c7-6a49232cd0e8"
      },
      "execution_count": null,
      "outputs": [
        {
          "output_type": "execute_result",
          "data": {
            "text/plain": [
              "91338"
            ]
          },
          "metadata": {},
          "execution_count": 27
        }
      ]
    },
    {
      "cell_type": "code",
      "execution_count": null,
      "metadata": {
        "colab": {
          "base_uri": "https://localhost:8080/"
        },
        "id": "foLy5RT_ksVC",
        "outputId": "e0f783ad-b0c4-4cb6-d41f-ede87d902d12"
      },
      "outputs": [
        {
          "output_type": "execute_result",
          "data": {
            "text/plain": [
              "31632"
            ]
          },
          "metadata": {},
          "execution_count": 28
        }
      ],
      "source": [
        "buscar_palabra(nombre=['luminoso','sol', 'luz', 'luminosidad', 'solar']).shape[0]"
      ]
    },
    {
      "cell_type": "code",
      "execution_count": null,
      "metadata": {
        "colab": {
          "base_uri": "https://localhost:8080/"
        },
        "id": "_GMsZeR7oJsO",
        "outputId": "20dafded-d5c1-4ae8-9ac5-d965137a0ebe"
      },
      "outputs": [
        {
          "output_type": "execute_result",
          "data": {
            "text/plain": [
              "81916"
            ]
          },
          "metadata": {},
          "execution_count": 29
        }
      ],
      "source": [
        "ds_patio_balcon.shape[0]"
      ]
    },
    {
      "cell_type": "code",
      "execution_count": null,
      "metadata": {
        "colab": {
          "base_uri": "https://localhost:8080/"
        },
        "id": "pA8wwTMgn1jJ",
        "outputId": "db4fb95e-3844-44f7-a58d-33360ed9c954"
      },
      "outputs": [
        {
          "output_type": "execute_result",
          "data": {
            "text/plain": [
              "22157"
            ]
          },
          "metadata": {},
          "execution_count": 30
        }
      ],
      "source": [
        "buscar_palabra(nombre=['expensas']).shape[0]"
      ]
    },
    {
      "cell_type": "code",
      "execution_count": null,
      "metadata": {
        "colab": {
          "base_uri": "https://localhost:8080/"
        },
        "id": "w3VtkTTtozQe",
        "outputId": "01d7a9f4-66c0-4084-a0b6-48e1b6f7a6ed"
      },
      "outputs": [
        {
          "output_type": "execute_result",
          "data": {
            "text/plain": [
              "18387"
            ]
          },
          "metadata": {},
          "execution_count": 31
        }
      ],
      "source": [
        "buscar_palabra(nombre=['seguridad','vigilancia', 'camaras', 'porteria', 'portería', 'camara', 'cámara', 'cámaras', 'alarma', 'prosegur', 'portero', 'encargado', 'guardia' ]).shape[0]"
      ]
    },
    {
      "cell_type": "code",
      "execution_count": null,
      "metadata": {
        "colab": {
          "base_uri": "https://localhost:8080/"
        },
        "id": "wl-5t3UBqD9e",
        "outputId": "21cb9fe7-c5d9-4833-9816-0ba2d7eae223"
      },
      "outputs": [
        {
          "output_type": "execute_result",
          "data": {
            "text/plain": [
              "28184"
            ]
          },
          "metadata": {},
          "execution_count": 32
        }
      ],
      "source": [
        "buscar_palabra(nombre=['amueblado','placard','armario','armarios','ropero','roperos','vestidor']).shape[0] "
      ]
    },
    {
      "cell_type": "code",
      "execution_count": null,
      "metadata": {
        "colab": {
          "base_uri": "https://localhost:8080/"
        },
        "id": "wzntVi0xrY9d",
        "outputId": "7453fad4-1169-4c93-c82f-af155d178ac9"
      },
      "outputs": [
        {
          "output_type": "execute_result",
          "data": {
            "text/plain": [
              "46426"
            ]
          },
          "metadata": {},
          "execution_count": 33
        }
      ],
      "source": [
        "buscar_palabra(nombre=['piso','pb']).shape[0] "
      ]
    },
    {
      "cell_type": "code",
      "execution_count": null,
      "metadata": {
        "colab": {
          "base_uri": "https://localhost:8080/"
        },
        "id": "QdtSEU8VsBzG",
        "outputId": "0f3b73e3-5717-4f8d-861c-bc7e80c6cd8d"
      },
      "outputs": [
        {
          "output_type": "execute_result",
          "data": {
            "text/plain": [
              "10309"
            ]
          },
          "metadata": {},
          "execution_count": 34
        }
      ],
      "source": [
        "buscar_palabra(nombre=['nuevo','estrenar']).shape[0]"
      ]
    },
    {
      "cell_type": "code",
      "execution_count": null,
      "metadata": {
        "colab": {
          "base_uri": "https://localhost:8080/"
        },
        "id": "DxKpOnl51XR5",
        "outputId": "ec0d58cb-4ff5-408e-82f4-718505cd7beb"
      },
      "outputs": [
        {
          "output_type": "execute_result",
          "data": {
            "text/plain": [
              "32365"
            ]
          },
          "metadata": {},
          "execution_count": 35
        }
      ],
      "source": [
        "buscar_palabra(nombre=['metrobus','subte','colectivo','tren','estacion','estación']).shape[0] "
      ]
    },
    {
      "cell_type": "markdown",
      "metadata": {
        "id": "uUaCYcKAZ-10"
      },
      "source": [
        "#### Creación de Features "
      ]
    },
    {
      "cell_type": "code",
      "execution_count": null,
      "metadata": {
        "id": "4kz_-s7kk3lA"
      },
      "outputs": [],
      "source": [
        "# ds_a_modificar es el dataset al que le agreamos el feature\n",
        "def crear_nuevo_feature(ds_a_modificar,nombre_feature, ds, crear_de_cero = True, valor=None):\n",
        "  if(crear_de_cero):\n",
        "    ds_a_modificar[nombre_feature] = ds_a_modificar['property_currency'].values # Creamos un nuevo feature como copia de uno existente\n",
        "    ds_a_modificar.loc[:, nombre_feature].replace(to_replace=[\"USD\"],value=[valor],inplace=True) # Modificamos el valor, para inicializarlo en nulo o un valor determinado\n",
        "  indices = ds['indice'].to_list() # Tomamos los indices reales y formamos una lista \n",
        "  for i in range(len(indices)):\n",
        "    ds_a_modificar.at[indices[i], nombre_feature] = ds[ds['indice'] == indices[i]].palabra.values # Remplazamos el valor de la fila segun su indice"
      ]
    },
    {
      "cell_type": "code",
      "execution_count": null,
      "metadata": {
        "id": "fVi9aiNsmci0"
      },
      "outputs": [],
      "source": [
        "def concatenar_ds(ds, ds_a_concatenar, combinaciones): \n",
        "  for i in range(len(combinaciones)):  \n",
        "    ds_a_concatenar = pd.concat([ds_a_concatenar,ds[ ds.palabra == combinaciones[i] ]]) \n",
        "  return ds_a_concatenar"
      ]
    },
    {
      "cell_type": "code",
      "execution_count": null,
      "metadata": {
        "id": "GQq2gs1cpNih"
      },
      "outputs": [],
      "source": [
        "def definir_numero_de_piso(ds_pisos, ds_pb, ds_plantas):  \n",
        "  ds_pisos.loc[:,\"palabra\"].replace(to_replace=['1','1°', '1er', 'primer'],value=[1,1,1,1],inplace=True)\n",
        "  ds_pisos.loc[:,\"palabra\"].replace(to_replace=['2','2°', '2do', 'segundo'],value=[2,2,2,2],inplace=True)\n",
        "  ds_pisos.loc[:,\"palabra\"].replace(to_replace=['3','3°', '3er', 'tercer'],value=[3,3,3,3],inplace=True)\n",
        "  ds_pisos.loc[:,\"palabra\"].replace(to_replace=['4','4°', '4to', 'cuarto'],value=[4,4,4,4],inplace=True)\n",
        "  ds_pisos.loc[:,\"palabra\"].replace(to_replace=['5','5°', '5to', 'quinto'],value=[5,5,5,5],inplace=True)\n",
        "  ds_pisos.loc[:,\"palabra\"].replace(to_replace=['6','6°', '6to', 'sexto'],value=[6,6,6,6],inplace=True)\n",
        "  ds_pisos.loc[:,\"palabra\"].replace(to_replace=['7','7°', '7mo', 'septimo'],value=[7,7,7,7],inplace=True)\n",
        "  ds_pisos.loc[:,\"palabra\"].replace(to_replace=['8','8°', '8vo', 'octavo'],value=[8,8,8,8],inplace=True)\n",
        "  ds_pisos.loc[:,\"palabra\"].replace(to_replace=['9','9°', '9no', 'noveno'],value=[9,9,9,9],inplace=True)\n",
        "  ds_pisos.loc[:,\"palabra\"].replace(to_replace=['10','10°', '10mo', 'decimo'],value=[10,10,10,10],inplace=True)\n",
        "  ds_pisos.loc[:,\"palabra\"].replace(to_replace=['11','11°'],value=[11,11],inplace=True)\n",
        "\n",
        "  ds_pb.loc[:,\"palabra\"].replace(to_replace=['pb','pb,'],value=[0,0],inplace=True)\n",
        "  ds_plantas.loc[:,\"palabra\"].replace(to_replace=['baja'],value=[0],inplace=True)\n",
        "  \n",
        "  return ds_pisos,ds_pb,ds_plantas"
      ]
    },
    {
      "cell_type": "code",
      "source": [
        "def asignar_comuna(ds, barrios, valor): \n",
        "  for i in range(len(barrios)):\n",
        "    ds.loc[:,\"comuna\"].replace(to_replace=[barrios[i]],value=[valor],inplace=True)"
      ],
      "metadata": {
        "id": "XKAVL9p_nzAy"
      },
      "execution_count": null,
      "outputs": []
    },
    {
      "cell_type": "code",
      "execution_count": null,
      "metadata": {
        "id": "9t5et9S4hYtG"
      },
      "outputs": [],
      "source": [
        "def cambiar_valor_de_celda(ds, valor_viejo, nuevo_valor, es_string=True):\n",
        "  for i in range(len(valor_viejo)):\n",
        "    if(es_string):\n",
        "      valor_seguido_de_coma = valor_viejo[i] + ','\n",
        "\n",
        "    ds.loc[:,\"palabra\"].replace(to_replace=[valor_viejo[i]],value=[nuevo_valor],inplace=True)\n",
        "    ds.loc[:,\"palabra\"].replace(to_replace=[valor_seguido_de_coma],value=[nuevo_valor],inplace=True)\n",
        "  return ds  "
      ]
    },
    {
      "cell_type": "code",
      "execution_count": null,
      "metadata": {
        "id": "h-nj1lApxZXJ"
      },
      "outputs": [],
      "source": [
        "# Agrupa todas las palabras en una sola\n",
        "def unificar_sinonimos_amenities(ds):\n",
        "  ds = cambiar_valor_de_celda(ds,['piscina', 'alberca'],'pileta')\n",
        "  ds = cambiar_valor_de_celda(ds,['gym'],'gimnasio')\n",
        "  ds = cambiar_valor_de_celda(ds,['altillo','ático','atico'],'baulera')\n",
        "  ds = cambiar_valor_de_celda(ds,['estacionamiento','garage'],'cochera')\n",
        "  ds = cambiar_valor_de_celda(ds,['sótano'],'sotano')\n",
        "  ds = cambiar_valor_de_celda(ds,['sum'],'quincho')\n",
        "  return ds"
      ]
    },
    {
      "cell_type": "code",
      "source": [
        "def obtener_sucesor_y_o_precesor_de_palabra(indices_palabra, ds = description_token_train, requiere_antes = True, requiere_despues = True):\n",
        "  palabra_antes = ds.loc[indices_palabra-1]\n",
        "  palabra_despues = ds.loc[indices_palabra+1]\n",
        "  if((requiere_antes) and (not requiere_despues)): return palabra_antes\n",
        "  if((not requiere_antes) and (requiere_despues)): return palabra_despues\n",
        "  return palabra_antes, palabra_despues"
      ],
      "metadata": {
        "id": "xuWLkE6s8bOQ"
      },
      "execution_count": null,
      "outputs": []
    },
    {
      "cell_type": "markdown",
      "metadata": {
        "id": "K-nnIU3IaS_W"
      },
      "source": [
        "##### Piso"
      ]
    },
    {
      "cell_type": "markdown",
      "metadata": {
        "id": "fyekItmvlkHj"
      },
      "source": [
        "###### Train"
      ]
    },
    {
      "cell_type": "markdown",
      "source": [
        "Buscamos que las palabras que le siguen a la palabra \"planta\" sean sí o sí \"baja\""
      ],
      "metadata": {
        "id": "HTaDEx-ob831"
      }
    },
    {
      "cell_type": "code",
      "execution_count": null,
      "metadata": {
        "id": "9GNeJxpkeAzN"
      },
      "outputs": [],
      "source": [
        "ds_planta = buscar_palabra(nombre=['planta'])\n",
        "indices_planta = ds_planta.index\n",
        "planta_despues = description_token_train.loc[indices_planta+1]"
      ]
    },
    {
      "cell_type": "code",
      "execution_count": null,
      "metadata": {
        "id": "XdJeB8ikeJAR"
      },
      "outputs": [],
      "source": [
        "ds_planta_baja = planta_despues[0:0]\n",
        "ds_planta_baja = concatenar_ds(planta_despues, ds_planta_baja, ['baja'])\n",
        "ds_planta_baja = ds_planta_baja[~ds_planta_baja.duplicated(subset='indice',keep='first')]"
      ]
    },
    {
      "cell_type": "code",
      "execution_count": null,
      "metadata": {
        "id": "VdW-qDauFGQD"
      },
      "outputs": [],
      "source": [
        "ds_pb = buscar_palabra(nombre=['pb'])"
      ]
    },
    {
      "cell_type": "markdown",
      "metadata": {
        "id": "NtRTfjIPIRoU"
      },
      "source": [
        "Eliminamos las filas que tienen indice duplicado conservando una muestra de ellas."
      ]
    },
    {
      "cell_type": "code",
      "execution_count": null,
      "metadata": {
        "id": "1sLxWWlKsx16"
      },
      "outputs": [],
      "source": [
        "ds_pb=ds_pb[~ds_pb.duplicated(subset='indice',keep='first')]"
      ]
    },
    {
      "cell_type": "markdown",
      "source": [
        "Procedemos a realizar un analisis de las palabras que se encuentran antes y despues de cada palabra buscada, en este caso piso."
      ],
      "metadata": {
        "id": "KWKJ3LedkGo0"
      }
    },
    {
      "cell_type": "code",
      "execution_count": null,
      "metadata": {
        "id": "VD1eQap49R6y"
      },
      "outputs": [],
      "source": [
        "ds_piso = buscar_palabra(nombre=['piso'])\n",
        "indices_piso = ds_piso.index\n",
        "\n",
        "piso_antes=description_token_train.loc[indices_piso-1]\n",
        "piso_despues=description_token_train.loc[indices_piso+1]"
      ]
    },
    {
      "cell_type": "markdown",
      "metadata": {
        "id": "1AQbnAAAhe--"
      },
      "source": [
        "Debido a que tenemos un data frame que en cada fila contiene una palabra y respeta el orden en el que cada una de estas se encuentra en la descripción, tomamos las palabras que estan justo antes y después de la palabra a analizar para verificar que la interpretación de la misma sea la buscada."
      ]
    },
    {
      "cell_type": "code",
      "execution_count": null,
      "metadata": {
        "id": "QHLUHC0Lp1vb"
      },
      "outputs": [],
      "source": [
        "combinaciones_posibles_pre_piso=['1','1°','1er', '2', '2°', '2do','3', '3°', '3er','4', '4°', '4to','5', '5°', '5to','6', '6°', '6to','7', '7°', '7mo','8', '8°', '8vo',\n",
        "     '9', '9°', '9no','10', '10°', '10mo','11', '11°','primer','segundo', 'tercer', 'cuarto', 'quinto','sexto', 'septimo', 'octavo', 'noveno', 'decimo' ]\n",
        "ds_pisos = piso_antes[0:0]\n",
        "ds_pisos = concatenar_ds(piso_antes, ds_pisos, combinaciones_posibles_pre_piso)\n",
        "\n",
        "combinaciones_posibles_post_piso=['1','1°', '2', '2°','3', '3°','4', '4°','5', '5°','6', '6°','7', '7°','8', '8°','9', '9°','10', '10°','11', '11°']\n",
        "ds_pisos = concatenar_ds(piso_despues, ds_pisos, combinaciones_posibles_post_piso)"
      ]
    },
    {
      "cell_type": "markdown",
      "metadata": {
        "id": "KuYD2Eokb_g5"
      },
      "source": [
        "Buscamos la cantidad de filas con un mismo índice."
      ]
    },
    {
      "cell_type": "code",
      "execution_count": null,
      "metadata": {
        "colab": {
          "base_uri": "https://localhost:8080/"
        },
        "id": "plLRqgoxroS0",
        "outputId": "c6ac67a1-b2b3-4a55-9429-790c782e1ba2"
      },
      "outputs": [
        {
          "output_type": "stream",
          "name": "stdout",
          "text": [
            "Cantidad de filas con un mismo indice: 1927\n"
          ]
        }
      ],
      "source": [
        "print(f\"Cantidad de filas con un mismo indice: {ds_pisos[ds_pisos.duplicated(subset='indice')].shape[0]}\")"
      ]
    },
    {
      "cell_type": "markdown",
      "metadata": {
        "id": "4jhZ6vtucU-h"
      },
      "source": [
        "Luego eliminamos las filas que contienen un mismo índice y conservamos una única muestra."
      ]
    },
    {
      "cell_type": "code",
      "execution_count": null,
      "metadata": {
        "id": "hnpD5_t4t5kr"
      },
      "outputs": [],
      "source": [
        "ds_pisos.drop(ds_pisos[ds_pisos.duplicated(subset='indice')].index, inplace=True)"
      ]
    },
    {
      "cell_type": "markdown",
      "metadata": {
        "id": "R7RCB8hPdIXi"
      },
      "source": [
        "Reemplazamos todas las palabras relacionadas a un determinado número que hagan referencia a lo mismo. "
      ]
    },
    {
      "cell_type": "code",
      "execution_count": null,
      "metadata": {
        "id": "pA84FxXno59J"
      },
      "outputs": [],
      "source": [
        "ds_pisos,ds_pb,ds_planta_baja = definir_numero_de_piso(ds_pisos,ds_pb,ds_planta_baja)"
      ]
    },
    {
      "cell_type": "markdown",
      "metadata": {
        "id": "LJUlvwBMeATe"
      },
      "source": [
        "Tomamos una columna del dataset para crear una nueva con el mismo tamaño y la inicializamos con valor nulo."
      ]
    },
    {
      "cell_type": "code",
      "execution_count": null,
      "metadata": {
        "id": "YZjHhgQJl8cv"
      },
      "outputs": [],
      "source": [
        "crear_nuevo_feature(x_train,'piso', ds_pisos, valor=-1)"
      ]
    },
    {
      "cell_type": "markdown",
      "metadata": {
        "id": "PLKoJ0pieJWC"
      },
      "source": [
        "Agregamos los valores del feature piso teniendo en cuenta el índice tanto para los pisos que ya tienen un número asignado como para los pisos que tienen asignado PB, en este caso se le va a agregar un valor de piso 0. "
      ]
    },
    {
      "cell_type": "code",
      "execution_count": null,
      "metadata": {
        "id": "3FCcfPd2HveY"
      },
      "outputs": [],
      "source": [
        "crear_nuevo_feature(x_train, 'piso', ds_pb, crear_de_cero=False)\n",
        "crear_nuevo_feature(x_train, 'piso', ds_planta_baja, crear_de_cero=False)"
      ]
    },
    {
      "cell_type": "markdown",
      "metadata": {
        "id": "Sxh0vNH5eLfa"
      },
      "source": [
        "Asignamos como piso 0 a todas las casas y phs existentes en el dataset de train."
      ]
    },
    {
      "cell_type": "code",
      "execution_count": null,
      "metadata": {
        "id": "a1s7FZKwB13y"
      },
      "outputs": [],
      "source": [
        "x_train[x_train.property_type=='Casa'] = x_train[x_train.property_type=='Casa'].assign(piso=0) \n",
        "x_train[x_train.property_type=='PH'] = x_train[x_train.property_type=='PH'].assign(piso=0) "
      ]
    },
    {
      "cell_type": "markdown",
      "metadata": {
        "id": "WOYW_cDC0XeL"
      },
      "source": [
        "Observamos el porcentaje de valores válidos para el nuevo feature creado."
      ]
    },
    {
      "cell_type": "code",
      "execution_count": null,
      "metadata": {
        "id": "2dmLKcPwJi-Q",
        "colab": {
          "base_uri": "https://localhost:8080/"
        },
        "outputId": "4fdd26ea-0a2c-4279-adcc-b8094be7a56d"
      },
      "outputs": [
        {
          "output_type": "stream",
          "name": "stdout",
          "text": [
            "El porcentaje de valores válidos en la nueva variable piso es de: 36.430634241797776\n"
          ]
        }
      ],
      "source": [
        "sin_piso = x_train[x_train.piso == -1].piso.shape[0]\n",
        "con_piso = 100 - (sin_piso/x_train.shape[0]*100)\n",
        "print(\"El porcentaje de valores válidos en la nueva variable piso es de:\",con_piso)"
      ]
    },
    {
      "cell_type": "markdown",
      "metadata": {
        "id": "Vzp1exebPXqS"
      },
      "source": [
        "Como el porcentaje de valores no nulos es superior al 12%, consideramos que es un feature factible."
      ]
    },
    {
      "cell_type": "markdown",
      "metadata": {
        "id": "wxJeRFtSlp05"
      },
      "source": [
        "###### Test"
      ]
    },
    {
      "cell_type": "markdown",
      "source": [
        "Realizamos el mismo procedimiento anterior pero ahora con el dataset de test."
      ],
      "metadata": {
        "id": "N6--dsTdl2n3"
      }
    },
    {
      "cell_type": "code",
      "execution_count": null,
      "metadata": {
        "id": "h4V4Q9SCf85o"
      },
      "outputs": [],
      "source": [
        "ds_planta_test = buscar_palabra(description_token_test,nombre=['planta'])\n",
        "indices_planta_test = ds_planta_test.index\n",
        "planta_despues_test=description_token_test.loc[indices_planta_test+1]"
      ]
    },
    {
      "cell_type": "code",
      "execution_count": null,
      "metadata": {
        "id": "ZdIxoWRkf85o"
      },
      "outputs": [],
      "source": [
        "ds_planta_baja_test = planta_despues_test[0:0]\n",
        "ds_planta_baja_test = concatenar_ds(planta_despues_test, ds_planta_baja, ['baja'])"
      ]
    },
    {
      "cell_type": "code",
      "execution_count": null,
      "metadata": {
        "id": "7q7N1_A3f85p"
      },
      "outputs": [],
      "source": [
        "ds_planta_baja_test=ds_planta_baja_test[~ds_planta_baja_test.duplicated(subset='indice',keep='first')]"
      ]
    },
    {
      "cell_type": "code",
      "execution_count": null,
      "metadata": {
        "id": "H9g6NI8VtVg5"
      },
      "outputs": [],
      "source": [
        "ds_pb_test = buscar_palabra(description_token_test, nombre=['pb'])"
      ]
    },
    {
      "cell_type": "markdown",
      "metadata": {
        "id": "bhLbvsqntVg5"
      },
      "source": [
        "Eliminamos los que tienen indice duplicado conservando una muestra de ellos."
      ]
    },
    {
      "cell_type": "code",
      "execution_count": null,
      "metadata": {
        "id": "JxI-1PwctVg5"
      },
      "outputs": [],
      "source": [
        "ds_pb_test=ds_pb_test[~ds_pb_test.duplicated(subset='indice',keep='first')]"
      ]
    },
    {
      "cell_type": "markdown",
      "metadata": {
        "id": "K-H5uae9tVg5"
      },
      "source": [
        "Procedemos a realizar un analisis de las palabras que se encuentran antes y despues de cada palabra buscada, en este caso piso."
      ]
    },
    {
      "cell_type": "code",
      "execution_count": null,
      "metadata": {
        "id": "8NQ2GBGHtVg5"
      },
      "outputs": [],
      "source": [
        "ds_piso_test = buscar_palabra(description_token_test,nombre=['piso'])\n",
        "indices_piso = ds_piso_test.index\n",
        "\n",
        "piso_antes_test=description_token_test.loc[indices_piso-1]\n",
        "piso_despues_test=description_token_test.loc[indices_piso+1]"
      ]
    },
    {
      "cell_type": "markdown",
      "metadata": {
        "id": "1nZRT_X6tVg6"
      },
      "source": [
        "Debido a que tenemos un data frame que en cada fila contiene una palabra y respeta el orden en el que cada una de estas se encuentra en la descripción, tomamos las palabras que estan justo antes y después de la palabra a analizar para verificar que la interpretación de la misma sea la buscada."
      ]
    },
    {
      "cell_type": "code",
      "execution_count": null,
      "metadata": {
        "id": "ZXxDbacrtVg6"
      },
      "outputs": [],
      "source": [
        "ds_pisos_test = piso_antes_test[0:0]\n",
        "ds_pisos_test = concatenar_ds(piso_antes_test, ds_pisos_test, combinaciones_posibles_pre_piso) #con palabras antes\n",
        "ds_pisos_test = concatenar_ds(piso_despues_test, ds_pisos_test, combinaciones_posibles_post_piso) #con palabras despues "
      ]
    },
    {
      "cell_type": "code",
      "execution_count": null,
      "metadata": {
        "id": "OxGsJ_oAtVg6"
      },
      "outputs": [],
      "source": [
        "ds_pisos_test.drop(ds_pisos_test[ds_pisos_test.duplicated(subset='indice')].index, inplace=True)"
      ]
    },
    {
      "cell_type": "code",
      "execution_count": null,
      "metadata": {
        "id": "7dDvLw9DtVg6"
      },
      "outputs": [],
      "source": [
        "ds_pisos_test,ds_pb_test,ds_planta_baja_test = definir_numero_de_piso(ds_pisos_test,ds_pb_test,ds_planta_baja_test)"
      ]
    },
    {
      "cell_type": "code",
      "execution_count": null,
      "metadata": {
        "id": "BN0MToLqtVg6"
      },
      "outputs": [],
      "source": [
        "crear_nuevo_feature(x_test,'piso', ds_pisos_test, valor=-1)\n",
        "crear_nuevo_feature(x_test,'piso', ds_pb_test, crear_de_cero=False)"
      ]
    },
    {
      "cell_type": "markdown",
      "metadata": {
        "id": "-9Do6oHltVg7"
      },
      "source": [
        "Asignamos como piso 0 a todas las casas y phs existentes en el dataset de test."
      ]
    },
    {
      "cell_type": "code",
      "execution_count": null,
      "metadata": {
        "id": "oqemdhvTtVg7"
      },
      "outputs": [],
      "source": [
        "x_test[x_test.property_type=='Casa'] = x_test[x_test.property_type=='Casa'].assign(piso=0) \n",
        "x_test[x_test.property_type=='PH'] = x_test[x_test.property_type=='PH'].assign(piso=0) "
      ]
    },
    {
      "cell_type": "markdown",
      "metadata": {
        "id": "NxZRiAImtVg7"
      },
      "source": [
        "Observamos el porcentaje de valores válidos para el nuevo feature creado."
      ]
    },
    {
      "cell_type": "code",
      "execution_count": null,
      "metadata": {
        "id": "8wVqr3f2tVg7",
        "colab": {
          "base_uri": "https://localhost:8080/"
        },
        "outputId": "46e0e24d-c367-4b33-d097-0acd3c5250bd"
      },
      "outputs": [
        {
          "output_type": "stream",
          "name": "stdout",
          "text": [
            "El porcentaje de valores validos en la nueva variable piso es de: 33.05371596762325\n"
          ]
        }
      ],
      "source": [
        "sin_piso_test= x_test[x_test.piso == -1].piso.shape[0]\n",
        "con_piso_test = 100 - (sin_piso_test/x_test.shape[0]*100)\n",
        "print(\"El porcentaje de valores validos en la nueva variable piso es de:\",con_piso_test)"
      ]
    },
    {
      "cell_type": "markdown",
      "metadata": {
        "id": "cgYdmtYwpqre"
      },
      "source": [
        "Como el porcentaje de valores no nulos es superior al 12%, consideramos que es un feature factible."
      ]
    },
    {
      "cell_type": "markdown",
      "metadata": {
        "id": "71j37dztfZEa"
      },
      "source": [
        "##### Amenities"
      ]
    },
    {
      "cell_type": "markdown",
      "metadata": {
        "id": "ZxaAZ6-flozR"
      },
      "source": [
        "###### Train"
      ]
    },
    {
      "cell_type": "markdown",
      "metadata": {
        "id": "SQmczLJ5gr4S"
      },
      "source": [
        "Buscamos la cantidad de amenities total que tiene cada propiedad, para ello filtramos por indice en el dataset ds_amenities."
      ]
    },
    {
      "cell_type": "code",
      "execution_count": null,
      "metadata": {
        "id": "5eeeX-REfgdL",
        "colab": {
          "base_uri": "https://localhost:8080/"
        },
        "outputId": "321572c1-42e5-43c2-f064-7bb4068940f6"
      },
      "outputs": [
        {
          "output_type": "execute_result",
          "data": {
            "text/plain": [
              "50511    24\n",
              "41189    24\n",
              "51704    23\n",
              "39128    23\n",
              "61225    22\n",
              "         ..\n",
              "43719     1\n",
              "43723     1\n",
              "43726     1\n",
              "43729     1\n",
              "54356     1\n",
              "Name: indice, Length: 37980, dtype: int64"
            ]
          },
          "metadata": {},
          "execution_count": 68
        }
      ],
      "source": [
        "ds_amenities['indice'].value_counts()"
      ]
    },
    {
      "cell_type": "markdown",
      "metadata": {
        "id": "CHEkV64C9D8K"
      },
      "source": [
        "Reemplazamos las palabras que son sinónimos entre sí. "
      ]
    },
    {
      "cell_type": "code",
      "execution_count": null,
      "metadata": {
        "id": "5dHvLmO_72fI"
      },
      "outputs": [],
      "source": [
        "ds_amenities = unificar_sinonimos_amenities(ds_amenities)"
      ]
    },
    {
      "cell_type": "markdown",
      "metadata": {
        "id": "kBMGwBF_icrH"
      },
      "source": [
        "Podemos obtener la cantidad total de amenities que tiene cada propiedad, sin duplicados. Para ello eliminamos las filas que tienen un mismo indice y palabras duplicadas y luego filtramos por indice en el dataset ds_amenities."
      ]
    },
    {
      "cell_type": "code",
      "execution_count": null,
      "metadata": {
        "id": "oQO51CCqhSLS",
        "colab": {
          "base_uri": "https://localhost:8080/"
        },
        "outputId": "76d90b85-f3f9-4312-d2f9-d92d20f7508e"
      },
      "outputs": [
        {
          "output_type": "stream",
          "name": "stdout",
          "text": [
            "Cantidad de filas con mismo índice y palabra: 9816\n"
          ]
        }
      ],
      "source": [
        "print(\"Cantidad de filas con mismo índice y palabra:\", ds_amenities[ds_amenities.duplicated(subset=['indice','palabra'])].shape[0])"
      ]
    },
    {
      "cell_type": "code",
      "execution_count": null,
      "metadata": {
        "id": "Ql7ZqFCDhGdw"
      },
      "outputs": [],
      "source": [
        "ds_amenities.drop(ds_amenities[ds_amenities.duplicated(subset=['indice','palabra'])].index, inplace=True)\n",
        "cant_amenities = ds_amenities['indice'].value_counts().values"
      ]
    },
    {
      "cell_type": "markdown",
      "source": [
        "Eliminamos todas las filas que tienen el mismo indice, quedandonos con solo una fila por indice, es decir que va a conservar solo un amenitie. Esto es para luego asignar en su lugar la cantidad de amenities correspondientes a cada indice."
      ],
      "metadata": {
        "id": "riLhtjPC8LJO"
      }
    },
    {
      "cell_type": "code",
      "source": [
        "ds_amenities.drop(ds_amenities[ds_amenities.duplicated(subset=['indice'])].index, inplace=True)\n",
        "ds_amenities.palabra = cant_amenities"
      ],
      "metadata": {
        "id": "a8_0dm7S6ju-"
      },
      "execution_count": null,
      "outputs": []
    },
    {
      "cell_type": "markdown",
      "source": [
        "Finalmente, procedemos a crear el nuevo feature \"amenities\" en el dataset de train."
      ],
      "metadata": {
        "id": "fp_lNAoOqCAq"
      }
    },
    {
      "cell_type": "code",
      "source": [
        "crear_nuevo_feature(x_train,'amenities', ds_amenities, valor=0)"
      ],
      "metadata": {
        "id": "6B_RqECc2xd-"
      },
      "execution_count": null,
      "outputs": []
    },
    {
      "cell_type": "markdown",
      "metadata": {
        "id": "fUdx4T670eVT"
      },
      "source": [
        "Observamos el porcentaje de valores válidos para el nuevo feature creado."
      ]
    },
    {
      "cell_type": "code",
      "execution_count": null,
      "metadata": {
        "id": "zTdybWAR0O8i",
        "colab": {
          "base_uri": "https://localhost:8080/"
        },
        "outputId": "d515a598-169b-48fe-b10c-37af95d85974"
      },
      "outputs": [
        {
          "output_type": "stream",
          "name": "stdout",
          "text": [
            "El porcentaje de valores con amenities es de: 59.936560039137085\n"
          ]
        }
      ],
      "source": [
        "sin_amenities = x_train[x_train.amenities == 0].amenities.shape[0]\n",
        "con_amenities = 100 - (sin_amenities/x_train.shape[0]*100)\n",
        "print(\"El porcentaje de valores con amenities es de:\",con_amenities)"
      ]
    },
    {
      "cell_type": "markdown",
      "metadata": {
        "id": "A-jmB3bo0h7p"
      },
      "source": [
        "Como el porcentaje de valores no nulos es superior al 12%, consideramos que es un feature factible."
      ]
    },
    {
      "cell_type": "markdown",
      "metadata": {
        "id": "rL1R8irEwcvA"
      },
      "source": [
        "######Test"
      ]
    },
    {
      "cell_type": "markdown",
      "source": [
        "Realizamos el mismo procedimiento anterior pero ahora con el dataset de test."
      ],
      "metadata": {
        "id": "UvOpmlO9rIsG"
      }
    },
    {
      "cell_type": "code",
      "execution_count": null,
      "metadata": {
        "id": "3wMXfHGywfoE"
      },
      "outputs": [],
      "source": [
        "ds_amenities_test = buscar_palabra(description_token_test,nombre=amenities)"
      ]
    },
    {
      "cell_type": "markdown",
      "metadata": {
        "id": "ZLlLwZYlwfoF"
      },
      "source": [
        "Reemplazamos las palabras que son sinónimos entre sí. "
      ]
    },
    {
      "cell_type": "code",
      "execution_count": null,
      "metadata": {
        "id": "Kkj_UloRxj6T"
      },
      "outputs": [],
      "source": [
        "ds_amenities_test = unificar_sinonimos_amenities(ds_amenities_test)"
      ]
    },
    {
      "cell_type": "code",
      "execution_count": null,
      "metadata": {
        "id": "-g9inat2wfoF"
      },
      "outputs": [],
      "source": [
        "ds_amenities_test.drop(ds_amenities_test[ds_amenities_test.duplicated(subset=['indice','palabra'])].index, inplace=True)"
      ]
    },
    {
      "cell_type": "code",
      "source": [
        "cant_amenities_test = ds_amenities_test['indice'].value_counts().values"
      ],
      "metadata": {
        "id": "u4nX4aMq9t6o"
      },
      "execution_count": null,
      "outputs": []
    },
    {
      "cell_type": "code",
      "execution_count": null,
      "metadata": {
        "id": "ZjMDNd5vwfoG"
      },
      "outputs": [],
      "source": [
        "ds_amenities_test.drop(ds_amenities_test[ds_amenities_test.duplicated(subset=['indice'])].index, inplace=True)"
      ]
    },
    {
      "cell_type": "code",
      "source": [
        "ds_amenities_test.palabra = cant_amenities_test"
      ],
      "metadata": {
        "id": "yFik2_2R95KE"
      },
      "execution_count": null,
      "outputs": []
    },
    {
      "cell_type": "markdown",
      "metadata": {
        "id": "NyZTH8jMwfoG"
      },
      "source": [
        "Observamos el porcentaje de valores válidos para el nuevo feature creado."
      ]
    },
    {
      "cell_type": "code",
      "source": [
        "crear_nuevo_feature(x_test,'amenities', ds_amenities_test, valor=0)"
      ],
      "metadata": {
        "id": "SdhEQNtZ_SxU"
      },
      "execution_count": null,
      "outputs": []
    },
    {
      "cell_type": "code",
      "execution_count": null,
      "metadata": {
        "id": "mzIgLwmjwfoG",
        "colab": {
          "base_uri": "https://localhost:8080/"
        },
        "outputId": "5c2488f5-a105-4cb7-dc3b-da53f2be352c"
      },
      "outputs": [
        {
          "output_type": "stream",
          "name": "stdout",
          "text": [
            "El porcentaje de valores con amenities es de: 59.84179543782193\n"
          ]
        }
      ],
      "source": [
        "sin_amenities = x_test[x_test.amenities == 0].amenities.shape[0]\n",
        "con_amenities = 100 - (sin_amenities/x_test.shape[0]*100)\n",
        "print(\"El porcentaje de valores con amenities es de:\",con_amenities)"
      ]
    },
    {
      "cell_type": "markdown",
      "metadata": {
        "id": "wQiE7D6-0jf3"
      },
      "source": [
        "##### Patio/Balcón"
      ]
    },
    {
      "cell_type": "markdown",
      "metadata": {
        "id": "YdhnKGjizTRo"
      },
      "source": [
        "######Train"
      ]
    },
    {
      "cell_type": "markdown",
      "source": [
        "Podemos ver que se tiene mas de una fila por cada índice."
      ],
      "metadata": {
        "id": "Rd43SBLJriTg"
      }
    },
    {
      "cell_type": "code",
      "execution_count": null,
      "metadata": {
        "id": "wtNzxHjK41E8",
        "colab": {
          "base_uri": "https://localhost:8080/"
        },
        "outputId": "a96494c0-a31a-4562-c7d5-3f2a9c821c60"
      },
      "outputs": [
        {
          "output_type": "stream",
          "name": "stdout",
          "text": [
            "Cantidad de filas con mismo índice: 39481\n"
          ]
        }
      ],
      "source": [
        "print(\"Cantidad de filas con mismo índice:\", ds_patio_balcon[ds_patio_balcon.duplicated(subset=['indice'])].shape[0])"
      ]
    },
    {
      "cell_type": "markdown",
      "source": [
        "Eliminamos todas las filas que tienen el mismo indice, quedandonos con solo una fila por indice."
      ],
      "metadata": {
        "id": "ydNH3jk8rbWx"
      }
    },
    {
      "cell_type": "code",
      "execution_count": null,
      "metadata": {
        "id": "9jUbjed95IeU",
        "colab": {
          "base_uri": "https://localhost:8080/"
        },
        "outputId": "2b1729d7-4f0e-439a-d5b3-5da87eb62da4"
      },
      "outputs": [
        {
          "output_type": "execute_result",
          "data": {
            "text/plain": [
              "3        1\n",
              "11573    1\n",
              "11578    1\n",
              "11580    1\n",
              "11581    1\n",
              "        ..\n",
              "11737    1\n",
              "11759    1\n",
              "11765    1\n",
              "11773    1\n",
              "63320    1\n",
              "Name: indice, Length: 42435, dtype: int64"
            ]
          },
          "metadata": {},
          "execution_count": 84
        }
      ],
      "source": [
        "ds_patio_balcon.drop(ds_patio_balcon[ds_patio_balcon.duplicated(subset=['indice'])].index, inplace=True)\n",
        "ds_patio_balcon['indice'].value_counts()"
      ]
    },
    {
      "cell_type": "markdown",
      "source": [
        "Como tenemos que hacer un feature booleano, tomamos la cantidad de veces que se repite el índice sabiendo que será 0 o 1, y de esta forma tenemos la afirmación o negación del booleano, respectivamente. "
      ],
      "metadata": {
        "id": "_uVtEc8ar21k"
      }
    },
    {
      "cell_type": "code",
      "execution_count": null,
      "metadata": {
        "id": "9rqlgBdR7oMY"
      },
      "outputs": [],
      "source": [
        "tiene_patio_o_balcon = ds_patio_balcon['indice'].value_counts().values"
      ]
    },
    {
      "cell_type": "code",
      "execution_count": null,
      "metadata": {
        "id": "FW5Cw_zE8E-J"
      },
      "outputs": [],
      "source": [
        "ds_patio_balcon.palabra = tiene_patio_o_balcon"
      ]
    },
    {
      "cell_type": "markdown",
      "metadata": {
        "id": "A_FLHi-68jWB"
      },
      "source": [
        "Agregamos los valores 0 y 1 para el caso de si una propiedad tiene patio o balcón. 0 para el caso negativo y 1 para el caso positivo."
      ]
    },
    {
      "cell_type": "code",
      "execution_count": null,
      "metadata": {
        "id": "tuf111-w5PxO"
      },
      "outputs": [],
      "source": [
        "crear_nuevo_feature(x_train,'tiene_patio_o_balcon', ds_patio_balcon, valor=0)"
      ]
    },
    {
      "cell_type": "code",
      "execution_count": null,
      "metadata": {
        "id": "eM0D9GOi_mo_",
        "colab": {
          "base_uri": "https://localhost:8080/"
        },
        "outputId": "83518236-f5a5-4233-c4f5-09b7871ff73b"
      },
      "outputs": [
        {
          "output_type": "stream",
          "name": "stdout",
          "text": [
            "El porcentaje de valores con patio o balcon es de: 66.96703331386999\n"
          ]
        }
      ],
      "source": [
        "sin_patio_o_balcon= x_train[x_train.tiene_patio_o_balcon == 0].tiene_patio_o_balcon.shape[0]\n",
        "con_patio_o_balcon= 100 - (sin_patio_o_balcon/x_train.shape[0]*100)\n",
        "print(\"El porcentaje de valores con patio o balcon es de:\",con_patio_o_balcon)"
      ]
    },
    {
      "cell_type": "markdown",
      "metadata": {
        "id": "dKR-yWuXr0De"
      },
      "source": [
        "Como el porcentaje de valores no nulos es superior al 12%, consideramos que es un feature factible."
      ]
    },
    {
      "cell_type": "markdown",
      "metadata": {
        "id": "XMwDVHu-zXdq"
      },
      "source": [
        "######Test"
      ]
    },
    {
      "cell_type": "markdown",
      "source": [
        "Realizamos el mismo procedimiento anterior pero ahora con el dataset de test."
      ],
      "metadata": {
        "id": "kpSiZekGsknS"
      }
    },
    {
      "cell_type": "code",
      "execution_count": null,
      "metadata": {
        "id": "kLyIUW26zc1B"
      },
      "outputs": [],
      "source": [
        "ds_patio_balcon_test = buscar_palabra(description_token_test,nombre=['terraza','patio','jardin', 'jardín', 'balcon','balcón'])"
      ]
    },
    {
      "cell_type": "code",
      "execution_count": null,
      "metadata": {
        "id": "DItM8OaMzc1C"
      },
      "outputs": [],
      "source": [
        "ds_patio_balcon_test.drop(ds_patio_balcon_test[ds_patio_balcon_test.duplicated(subset=['indice'])].index, inplace=True)"
      ]
    },
    {
      "cell_type": "code",
      "execution_count": null,
      "metadata": {
        "id": "tyJ_PK-rzc1C"
      },
      "outputs": [],
      "source": [
        "tiene_patio_o_balcon_test = ds_patio_balcon_test['indice'].value_counts().values"
      ]
    },
    {
      "cell_type": "code",
      "execution_count": null,
      "metadata": {
        "id": "Pkz3sL4izc1C"
      },
      "outputs": [],
      "source": [
        "ds_patio_balcon_test.palabra = tiene_patio_o_balcon_test"
      ]
    },
    {
      "cell_type": "markdown",
      "metadata": {
        "id": "bgQzo65pzc1C"
      },
      "source": [
        "Agregamos los valores 0 y 1 para el caso de si una propiedad tiene patio o balcón. 0 para el caso negativo y 1 para el caso positivo."
      ]
    },
    {
      "cell_type": "code",
      "execution_count": null,
      "metadata": {
        "id": "mz_R4MT9zc1C"
      },
      "outputs": [],
      "source": [
        "crear_nuevo_feature(x_test,'tiene_patio_o_balcon', ds_patio_balcon_test, valor=0)"
      ]
    },
    {
      "cell_type": "code",
      "execution_count": null,
      "metadata": {
        "id": "kRxU_FlHzc1C",
        "colab": {
          "base_uri": "https://localhost:8080/"
        },
        "outputId": "8d7049a4-76ff-4486-f49b-c9a388a90b8d"
      },
      "outputs": [
        {
          "output_type": "stream",
          "name": "stdout",
          "text": [
            "El porcentaje de valores con patio o balcon es de: 67.1596762325239\n"
          ]
        }
      ],
      "source": [
        "sin_patio_o_balcon_test= x_test[x_test.tiene_patio_o_balcon== 0].tiene_patio_o_balcon.shape[0]\n",
        "con_patio_o_balcon_test= 100 - (sin_patio_o_balcon_test/x_test.shape[0]*100)\n",
        "print(\"El porcentaje de valores con patio o balcon es de:\",con_patio_o_balcon_test)"
      ]
    },
    {
      "cell_type": "markdown",
      "metadata": {
        "id": "eKWGWnB0AHww"
      },
      "source": [
        "#####Avenidas"
      ]
    },
    {
      "cell_type": "markdown",
      "source": [
        "######Train"
      ],
      "metadata": {
        "id": "lRej5qS52nvO"
      }
    },
    {
      "cell_type": "markdown",
      "metadata": {
        "id": "DRSc95ZmJHqh"
      },
      "source": [
        "En base al analisis de la frecuencia hecho anteriormente, detectamos que la palabra \"av.\" y \"avenida\" tenian una alta frecuencia, por lo tanto realizamos un análisis de si es posible crear un feature en el cual se indique si la propiedad se encuentra sobre una avenida o no."
      ]
    },
    {
      "cell_type": "code",
      "execution_count": null,
      "metadata": {
        "id": "EqD9HZdKwF9R"
      },
      "outputs": [],
      "source": [
        "ds_av = buscar_palabra(nombre=['av.', 'avenida'])\n",
        "indices_av = ds_av.index\n",
        "\n",
        "av_antes = description_token_train.loc[indices_av-1] #obtiene las palabras que estan antes de la palabra av. o avenida \n",
        "av_despues = description_token_train.loc[indices_av+1] #obtiene las palabras que estan despues de la palabra av. o avenida "
      ]
    },
    {
      "cell_type": "markdown",
      "source": [
        "Analizamos cual es el porcentaje, respecto del total de veces que aparece la palabra avenida, de la cantidad de veces que precede la palabra \"de\" a \"av.\" o \"avenida\", teniendo en cuenta que si se forman las frases \"de av.\" o \"de avenida\" muy probablemente se este haciendo referencia a una propiedad que se encuentra en las cercanías de una avenida en particular. "
      ],
      "metadata": {
        "id": "-FTrzYmNi4ZS"
      }
    },
    {
      "cell_type": "code",
      "source": [
        "av_antes.palabra.value_counts()"
      ],
      "metadata": {
        "colab": {
          "base_uri": "https://localhost:8080/"
        },
        "id": "xkDep9IqjjDS",
        "outputId": "f023b51b-01f1-4cba-a080-923aaca94c25"
      },
      "execution_count": null,
      "outputs": [
        {
          "output_type": "execute_result",
          "data": {
            "text/plain": [
              "de                          19659\n",
              "la                           8488\n",
              "y                            3088\n",
              "sobre                        2275\n",
              "a                             975\n",
              "                            ...  \n",
              "(metrobús                       1\n",
              "vélez,                          1\n",
              "cañitas<br><br><br>sobre        1\n",
              "574.-<br><br>entre              1\n",
              "salvador).<br><br>sobre         1\n",
              "Name: palabra, Length: 1322, dtype: int64"
            ]
          },
          "metadata": {},
          "execution_count": 96
        }
      ]
    },
    {
      "cell_type": "markdown",
      "source": [
        "Buscamos las palabras anteriores a LA en donde despues de LA va \"avenida\" o \"av.\""
      ],
      "metadata": {
        "id": "2bWg6Q0Autyf"
      }
    },
    {
      "cell_type": "code",
      "source": [
        "palabra_LA_indices = av_antes[av_antes.palabra == 'la'].index\n",
        "palabra_LA_antes_de_avenida = obtener_sucesor_y_o_precesor_de_palabra(palabra_LA_indices, requiere_despues = False)\n",
        "palabra_LA_antes_de_avenida.palabra.value_counts()"
      ],
      "metadata": {
        "colab": {
          "base_uri": "https://localhost:8080/"
        },
        "id": "PugRv_utprxC",
        "outputId": "bbeac0b6-7f46-474d-b5bd-2bfddcecbe9c"
      },
      "execution_count": null,
      "outputs": [
        {
          "output_type": "execute_result",
          "data": {
            "text/plain": [
              "de                         5031\n",
              "sobre                      1357\n",
              "a                           471\n",
              "y                           291\n",
              "en                          270\n",
              "                           ... \n",
              "categoría!<br><br>sobre       1\n",
              "lópez,                        1\n",
              "esta                          1\n",
              "o                             1\n",
              "ríos,                         1\n",
              "Name: palabra, Length: 211, dtype: int64"
            ]
          },
          "metadata": {},
          "execution_count": 97
        }
      ]
    },
    {
      "cell_type": "markdown",
      "source": [
        "Buscamos las palabras anteriores a DE en donde despues de DE va \"la avenida\" o \"la av.\""
      ],
      "metadata": {
        "id": "4l7P1iiYu0dC"
      }
    },
    {
      "cell_type": "code",
      "source": [
        "palabra_DE_antes_de_la_avenida_indices = av_antes[av_antes.palabra == 'de'].index\n",
        "palabra_DE_antes_de_la_avenida = obtener_sucesor_y_o_precesor_de_palabra(palabra_DE_antes_de_la_avenida_indices, requiere_despues = False)\n",
        "palabra_DE_antes_de_la_avenida.palabra.value_counts()"
      ],
      "metadata": {
        "colab": {
          "base_uri": "https://localhost:8080/"
        },
        "id": "E1zIFef2tM9L",
        "outputId": "d3c26cdb-da87-4734-d000-d13652059de8"
      },
      "execution_count": null,
      "outputs": [
        {
          "output_type": "execute_result",
          "data": {
            "text/plain": [
              "cuadras            7226\n",
              "cuadra             4311\n",
              "metros             2915\n",
              "mts                 625\n",
              "y                   340\n",
              "                   ... \n",
              "70mts                 1\n",
              "8300                  1\n",
              "equina                1\n",
              "medio                 1\n",
              "aproximadamente       1\n",
              "Name: palabra, Length: 383, dtype: int64"
            ]
          },
          "metadata": {},
          "execution_count": 98
        }
      ]
    },
    {
      "cell_type": "markdown",
      "source": [
        "Concluimos en que cuando la palabra \"la\" precede a \"avenida\" o \"av.\" hace referencia a que la propiedad que hace referencia a tal descripción esta cerca de la avenida mencionada. Teniendo en cuenta las palabras que preceden a \"de la avenida\" o \"de av.\", encontramos todas medidas de longitud, como por ejemplo cuadras, metros, etc. "
      ],
      "metadata": {
        "id": "lKIMeAxGuojG"
      }
    },
    {
      "cell_type": "code",
      "execution_count": null,
      "metadata": {
        "id": "AX4X-bgYEL5o",
        "colab": {
          "base_uri": "https://localhost:8080/"
        },
        "outputId": "a292fa3c-4455-4633-cac9-27bcdb0dc7d9"
      },
      "outputs": [
        {
          "output_type": "stream",
          "name": "stdout",
          "text": [
            "El porcentaje de veces que figura la palabra 'de av.' o 'de avenida' respecto del total es:  43.99659825884565\n"
          ]
        }
      ],
      "source": [
        "palabra_1 = \"'de av.'\"\n",
        "palabra_2 = \"'de avenida'\"\n",
        "\n",
        "de_indices = av_antes[av_antes.palabra == 'de'].index\n",
        "palabra_DE_antes_de_avenida = obtener_sucesor_y_o_precesor_de_palabra(de_indices, requiere_despues = False)\n",
        "\n",
        "print(f'El porcentaje de veces que figura la palabra {palabra_1} o {palabra_2} respecto del total es: ',palabra_DE_antes_de_avenida.shape[0]/av_antes.palabra.shape[0]*100)"
      ]
    },
    {
      "cell_type": "markdown",
      "metadata": {
        "id": "qZV_nAkAJaSK"
      },
      "source": [
        "Vemos que la frase 'de av.' o 'de avenida' es la mas frecuente, ocupando casi un 50% de todos los casos."
      ]
    },
    {
      "cell_type": "markdown",
      "source": [
        "En general, se puede decir que cuando se tiene la frase \"de la avenida\" o \"de avenida\", la misma indica que la propiedad se encuentra en las cercanias de una avenida ya que la palabra precesora a cualquiera de las dos frases esta relacionada a medidas de longitud como pueden ser las cuadras, metros, entre otras. "
      ],
      "metadata": {
        "id": "-_8TMxiwwVp3"
      }
    },
    {
      "cell_type": "markdown",
      "source": [
        "Tomamos la decision de armar un feature el cual indique si la propiedad esta cerca o no de una avenida. Para ello, tomamos de las descripciones las palabras que preceden a la palabra \"avenida\" y sean alguna de las siguientes: \"de\", \"sobre\", \"en\", \"y\", \"la\".\n",
        "\n",
        "Para el caso de la palabra \"la\", tomaremos las descripciones que cumplan con \n",
        "la condicion de que antes de la misma se tenga como predecesores a las palabras \"de\", \"sobre\", \"en\", \"y\". "
      ],
      "metadata": {
        "id": "Wsq8r0kyxV0R"
      }
    },
    {
      "cell_type": "code",
      "source": [
        "# Tanto la frase \"de avenida\" como \"la avenida\" ya las tenemos\n",
        "\n",
        "sobre_indices = av_antes[av_antes.palabra == 'sobre'].index\n",
        "palabra_SOBRE_antes_de_avenida = obtener_sucesor_y_o_precesor_de_palabra(sobre_indices, requiere_despues = False)\n",
        "\n",
        "en_indices = av_antes[av_antes.palabra == 'en'].index\n",
        "palabra_EN_antes_de_avenida = obtener_sucesor_y_o_precesor_de_palabra(en_indices, requiere_despues = False)\n",
        "\n",
        "y_indices = av_antes[av_antes.palabra == 'y'].index\n",
        "palabra_Y_antes_de_avenida = obtener_sucesor_y_o_precesor_de_palabra(y_indices, requiere_despues = False)"
      ],
      "metadata": {
        "id": "9V0oa57fzv-8"
      },
      "execution_count": null,
      "outputs": []
    },
    {
      "cell_type": "code",
      "source": [
        "# La frase \"de la avenida\" ya lo tenemos\n",
        "\n",
        "sobre_indices = palabra_LA_antes_de_avenida[palabra_LA_antes_de_avenida.palabra == 'sobre'].index\n",
        "palabra_SOBRE_antes_de_la_avenida = obtener_sucesor_y_o_precesor_de_palabra(sobre_indices, requiere_despues = False)\n",
        "\n",
        "en_indices = palabra_LA_antes_de_avenida[palabra_LA_antes_de_avenida.palabra == 'en'].index\n",
        "palabra_EN_antes_de_la_avenida = obtener_sucesor_y_o_precesor_de_palabra(en_indices, requiere_despues = False)\n",
        "\n",
        "y_indices = palabra_LA_antes_de_avenida[palabra_LA_antes_de_avenida.palabra == 'y'].index\n",
        "palabra_Y_antes_de_la_avenida = obtener_sucesor_y_o_precesor_de_palabra(y_indices, requiere_despues = False)"
      ],
      "metadata": {
        "id": "XjZlqLLb0mBw"
      },
      "execution_count": null,
      "outputs": []
    },
    {
      "cell_type": "code",
      "source": [
        "ds_a_concatenar = ds_av[0:0]\n",
        "ds_a_concatenar = pd.concat([ds_a_concatenar,palabra_DE_antes_de_avenida, palabra_DE_antes_de_la_avenida, palabra_EN_antes_de_avenida, palabra_EN_antes_de_la_avenida, palabra_SOBRE_antes_de_avenida, palabra_SOBRE_antes_de_la_avenida, palabra_Y_antes_de_avenida, palabra_Y_antes_de_la_avenida ])"
      ],
      "metadata": {
        "id": "1Uyn7k9J103b"
      },
      "execution_count": null,
      "outputs": []
    },
    {
      "cell_type": "markdown",
      "source": [
        "Eliminamos todas las filas con índice duplicado quedandonos con una unica muestra. "
      ],
      "metadata": {
        "id": "qSdbR5CowqSV"
      }
    },
    {
      "cell_type": "code",
      "source": [
        "ds_a_concatenar = ds_a_concatenar.drop_duplicates(subset='indice')"
      ],
      "metadata": {
        "id": "gL4eS8TqvSIv"
      },
      "execution_count": null,
      "outputs": []
    },
    {
      "cell_type": "markdown",
      "source": [
        "Una vez que tenemos solo una unica muestra, procedemos a crear el feature \"esta_cerca_de_av\"."
      ],
      "metadata": {
        "id": "DG3z9tcuxJnG"
      }
    },
    {
      "cell_type": "code",
      "source": [
        "esta_cerca_de_av = ds_a_concatenar['indice'].value_counts().values"
      ],
      "metadata": {
        "id": "KXhIVpD61Adq"
      },
      "execution_count": null,
      "outputs": []
    },
    {
      "cell_type": "code",
      "source": [
        "ds_a_concatenar.palabra = esta_cerca_de_av"
      ],
      "metadata": {
        "id": "TEudwJO31J2e"
      },
      "execution_count": null,
      "outputs": []
    },
    {
      "cell_type": "code",
      "source": [
        "crear_nuevo_feature(x_train,\"esta_cerca_de_av\", ds_a_concatenar, crear_de_cero = True, valor=0)"
      ],
      "metadata": {
        "id": "5GlItxvHxan2"
      },
      "execution_count": null,
      "outputs": []
    },
    {
      "cell_type": "code",
      "source": [
        "lejos_de_av= x_train[x_train.esta_cerca_de_av== 0].esta_cerca_de_av.shape[0]\n",
        "cerca_de_av= 100 - (lejos_de_av/x_train.shape[0]*100)\n",
        "print(\"El porcentaje de propiedades que estan cerca de una avenida es de:\",cerca_de_av)"
      ],
      "metadata": {
        "colab": {
          "base_uri": "https://localhost:8080/"
        },
        "id": "UhZvjgDK2BzG",
        "outputId": "73fc67b7-fbbc-4eba-d5fb-3a7caef38090"
      },
      "execution_count": null,
      "outputs": [
        {
          "output_type": "stream",
          "name": "stdout",
          "text": [
            "El porcentaje de propiedades que estan cerca de una avenida es de: 28.787854877144255\n"
          ]
        }
      ]
    },
    {
      "cell_type": "markdown",
      "source": [
        "Como el porcentaje de valores no nulos es superior al 12%, consideramos que es un feature factible"
      ],
      "metadata": {
        "id": "JGlzwMfC2ai-"
      }
    },
    {
      "cell_type": "markdown",
      "source": [
        "######Test"
      ],
      "metadata": {
        "id": "iKw_eyF62t-A"
      }
    },
    {
      "cell_type": "markdown",
      "source": [
        "Realizamos el mismo procedimiento anterior pero ahora con el dataset de test."
      ],
      "metadata": {
        "id": "agcmH0cfxq-K"
      }
    },
    {
      "cell_type": "code",
      "execution_count": null,
      "metadata": {
        "id": "8F1zjqUQ23HX"
      },
      "outputs": [],
      "source": [
        "ds_av_test = buscar_palabra(description_token_test,nombre=['av.', 'avenida'])\n",
        "indices_av_test = ds_av_test.index\n",
        "\n",
        "av_antes_test = description_token_test.loc[indices_av_test-1] #obtiene las palabras que estan antes de la palabra av. o avenida \n",
        "av_despues_test = description_token_test.loc[indices_av_test+1] #obtiene las palabras que estan despues de la palabra av. o avenida "
      ]
    },
    {
      "cell_type": "code",
      "source": [
        "DE_indices_test = av_antes_test[av_antes_test.palabra == 'de'].index\n",
        "palabra_DE_antes_de_avenida_test = obtener_sucesor_y_o_precesor_de_palabra(DE_indices_test, requiere_despues = False, ds = description_token_test)\n",
        "\n",
        "LA_indices_test = av_antes_test[av_antes_test.palabra == 'la'].index\n",
        "palabra_LA_antes_de_avenida_test = obtener_sucesor_y_o_precesor_de_palabra(LA_indices_test, requiere_despues = False, ds = description_token_test)\n",
        "\n",
        "sobre_indices_test = av_antes_test[av_antes_test.palabra == 'sobre'].index\n",
        "palabra_SOBRE_antes_de_avenida_test = obtener_sucesor_y_o_precesor_de_palabra(sobre_indices_test, requiere_despues = False, ds = description_token_test)\n",
        "\n",
        "en_indices_test = av_antes_test[av_antes_test.palabra == 'en'].index\n",
        "palabra_EN_antes_de_avenida_test = obtener_sucesor_y_o_precesor_de_palabra(en_indices_test, requiere_despues = False, ds = description_token_test)\n",
        "\n",
        "y_indices_test = av_antes_test[av_antes_test.palabra == 'y'].index\n",
        "palabra_Y_antes_de_avenida_test = obtener_sucesor_y_o_precesor_de_palabra(y_indices_test, requiere_despues = False, ds = description_token_test)"
      ],
      "metadata": {
        "id": "EYcMlQWG23HZ"
      },
      "execution_count": null,
      "outputs": []
    },
    {
      "cell_type": "code",
      "source": [
        "DE_indices_test = palabra_LA_antes_de_avenida_test[palabra_LA_antes_de_avenida_test.palabra == 'de'].index\n",
        "palabra_DE_antes_de_la_avenida_test = obtener_sucesor_y_o_precesor_de_palabra(DE_indices_test, requiere_despues = False, ds = description_token_test)\n",
        "\n",
        "sobre_indices_test = palabra_LA_antes_de_avenida_test[palabra_LA_antes_de_avenida_test.palabra == 'sobre'].index\n",
        "palabra_SOBRE_antes_de_la_avenida_test = obtener_sucesor_y_o_precesor_de_palabra(sobre_indices_test, requiere_despues = False, ds = description_token_test)\n",
        "\n",
        "en_indices_test = palabra_LA_antes_de_avenida_test[palabra_LA_antes_de_avenida_test.palabra == 'en'].index\n",
        "palabra_EN_antes_de_la_avenida_test = obtener_sucesor_y_o_precesor_de_palabra(en_indices_test, requiere_despues = False, ds = description_token_test)\n",
        "\n",
        "y_indices_test = palabra_LA_antes_de_avenida_test[palabra_LA_antes_de_avenida_test.palabra == 'y'].index\n",
        "palabra_Y_antes_de_la_avenida_test = obtener_sucesor_y_o_precesor_de_palabra(y_indices_test, requiere_despues = False, ds = description_token_test)"
      ],
      "metadata": {
        "id": "hmcF6gJ-23HZ"
      },
      "execution_count": null,
      "outputs": []
    },
    {
      "cell_type": "code",
      "source": [
        "ds_a_concatenar_test = ds_av[0:0]\n",
        "ds_a_concatenar_test = pd.concat([ds_a_concatenar_test,palabra_DE_antes_de_avenida_test, palabra_DE_antes_de_la_avenida_test, palabra_EN_antes_de_avenida_test, palabra_EN_antes_de_la_avenida_test, palabra_SOBRE_antes_de_avenida_test, palabra_SOBRE_antes_de_la_avenida_test, palabra_Y_antes_de_avenida_test, palabra_Y_antes_de_la_avenida_test ])"
      ],
      "metadata": {
        "id": "IvVzx_T123HZ"
      },
      "execution_count": null,
      "outputs": []
    },
    {
      "cell_type": "code",
      "source": [
        "ds_a_concatenar_test = ds_a_concatenar_test.drop_duplicates(subset='indice')"
      ],
      "metadata": {
        "id": "uapl7t8G23HZ"
      },
      "execution_count": null,
      "outputs": []
    },
    {
      "cell_type": "code",
      "source": [
        "esta_cerca_de_av_test = ds_a_concatenar_test['indice'].value_counts().values"
      ],
      "metadata": {
        "id": "eftyMyx323HZ"
      },
      "execution_count": null,
      "outputs": []
    },
    {
      "cell_type": "code",
      "source": [
        "ds_a_concatenar_test.palabra = esta_cerca_de_av_test"
      ],
      "metadata": {
        "id": "V0Bcaowm23HZ"
      },
      "execution_count": null,
      "outputs": []
    },
    {
      "cell_type": "code",
      "source": [
        "crear_nuevo_feature(x_test,\"esta_cerca_de_av\", ds_a_concatenar_test, crear_de_cero = True, valor=0)"
      ],
      "metadata": {
        "id": "4foVL6CL23HZ"
      },
      "execution_count": null,
      "outputs": []
    },
    {
      "cell_type": "code",
      "source": [
        "lejos_de_av= x_test[x_test.esta_cerca_de_av== 0].esta_cerca_de_av.shape[0]\n",
        "cerca_de_av= 100 - (lejos_de_av/x_test.shape[0]*100)\n",
        "print(\"El porcentaje de propiedades que estan cerca de una avenida es de:\",cerca_de_av)"
      ],
      "metadata": {
        "colab": {
          "base_uri": "https://localhost:8080/"
        },
        "outputId": "8a530100-d342-48a9-ace2-3a9e4348ae08",
        "id": "l-0QduoF23Ha"
      },
      "execution_count": null,
      "outputs": [
        {
          "output_type": "stream",
          "name": "stdout",
          "text": [
            "El porcentaje de propiedades que estan cerca de una avenida es de: 32.59381898454747\n"
          ]
        }
      ]
    },
    {
      "cell_type": "markdown",
      "source": [
        "Como el porcentaje de valores no nulos es superior al 12%, consideramos que es un feature factible"
      ],
      "metadata": {
        "id": "dqlssLRB23Ha"
      }
    },
    {
      "cell_type": "markdown",
      "source": [
        "##### Comuna"
      ],
      "metadata": {
        "id": "MXBKoQUcigUX"
      }
    },
    {
      "cell_type": "markdown",
      "source": [
        "Decidimos ampliar el dataset creando el feature Comuna, el cual es un derivado del feature place_l3 con la diferencia de que, como place_l3 tiene todos los barrios, tiene una mayor cantidad de valores posibles que el feature Comuna, ya que las comunas estan conformadas por un conjunto de barrios.\n",
        "\n",
        " De esta manera tenemos un feature con valores numericos que posiblemente ayude a mejorar lo modelos de prediccion."
      ],
      "metadata": {
        "id": "1Slo-XnQw5dJ"
      }
    },
    {
      "cell_type": "markdown",
      "source": [
        "Para asignar a los barrios su respectiva columna tomamos la informacion brindada por el Gobierno de la Ciudad de Buenos Aires: https://www.buenosaires.gob.ar/sindicatura/universo-de-control/comunas-15"
      ],
      "metadata": {
        "id": "YT5yjBlsyOoV"
      }
    },
    {
      "cell_type": "markdown",
      "source": [
        "* COMUNA 1 Retiro, San Nicolás, Puerto Madero, San Telmo, Montserrat y Constitución\n",
        "\n",
        "* COMUNA 2 Recoleta\n",
        "\n",
        "* COMUNA 3 Balvanera y San Cristóbal\n",
        "\n",
        "* COMUNA 4 La Boca, Barracas, Parque Patricios y Nueva Pompeya\n",
        "\n",
        "* COMUNA 5 Almagro y Boedo\n",
        "\n",
        "* COMUNA 6 Caballito\n",
        "\n",
        "* COMUNA 7 Flores y Parque Chacabuco\n",
        "\n",
        "* COMUNA 8 Villa Soldati, Villa Riachuelo y Villa Lugano\n",
        "\n",
        "* COMUNA 9 Liniers, Mataderos y Parque Avellaneda\n",
        "\n",
        "* COMUNA 10 Villa Real, Monte Castro, Versalles, Floresta, Vélez Sarfield y Villa Luro\n",
        "\n",
        "* COMUNA 11 Villa General Mitre, Villa Devoto, Villa del Parque y Villa Santa Rita\n",
        "\n",
        "* COMUNA 12 Coghlan, Saavedra, Villa Urquiza y Villa Pueyrredón\n",
        "\n",
        "* COMUNA 13 Núñez, Belgrano y Colegiales\n",
        "\n",
        "* COMUNA 14 Palermo\n",
        "\n",
        "* COMUNA 15 Chacarita, Villa Crespo, La Paternal, Villa Ortúzar, Agronomía y Parque Chas"
      ],
      "metadata": {
        "id": "VxIk_iFnkxHa"
      }
    },
    {
      "cell_type": "markdown",
      "source": [
        "######Train"
      ],
      "metadata": {
        "id": "F2avuIprw0Jk"
      }
    },
    {
      "cell_type": "markdown",
      "source": [
        "Creamos un nuevo feature como copia de uno existente"
      ],
      "metadata": {
        "id": "95BINcBbx-sB"
      }
    },
    {
      "cell_type": "code",
      "source": [
        "x_train['comuna'] = x_train['place_l3'].values   "
      ],
      "metadata": {
        "id": "UdQEVVOuijRd"
      },
      "execution_count": null,
      "outputs": []
    },
    {
      "cell_type": "code",
      "source": [
        "asignar_comuna(x_train, ['Retiro', 'San Nicolás', 'Puerto Madero', 'San Telmo', 'Constitución'], 1)\n",
        "asignar_comuna(x_train, ['Recoleta', 'Barrio Norte'], 2)\n",
        "asignar_comuna(x_train, ['Balvanera', 'San Cristobal', 'Monserrat', 'Congreso', 'Tribunales', 'Centro / Microcentro', 'Monserrat', 'Once', 'Abasto' ], 3)\n",
        "asignar_comuna(x_train, ['Boca', 'Barracas', 'Parque Patricios', 'Nueva Pompeya', 'Pompeya', 'Catalinas'], 4)\n",
        "asignar_comuna(x_train, ['Almagro', 'Boedo'], 5)\n",
        "asignar_comuna(x_train, ['Caballito'], 6)\n",
        "asignar_comuna(x_train, ['Flores','Parque Chacabuco', 'Parque Centenario'], 7)\n",
        "asignar_comuna(x_train, ['Villa Soldati','Villa Riachuelo','Villa Lugano'], 8)\n",
        "asignar_comuna(x_train, ['Liniers', 'Mataderos' ,'Parque Avellaneda'], 9)\n",
        "asignar_comuna(x_train, [ 'Villa Real', 'Monte Castro', 'Versalles', 'Floresta', 'Velez Sarsfield', 'Villa Luro'], 10)\n",
        "asignar_comuna(x_train, ['Villa General Mitre', 'Villa Devoto', 'Villa del Parque' , 'Villa Santa Rita'], 11)\n",
        "asignar_comuna(x_train, ['Coghlan', 'Saavedra', 'Villa Urquiza','Villa Pueyrredón'], 12)\n",
        "asignar_comuna(x_train, ['Nuñez', 'Belgrano', 'Colegiales'], 13)\n",
        "asignar_comuna(x_train, ['Palermo', 'Las Cañitas'], 14)\n",
        "asignar_comuna(x_train, ['Chacarita', 'Villa Crespo', 'La Paternal', 'Villa Ortuzar', 'Agronomía', 'Parque Chas', 'Paternal'], 15)"
      ],
      "metadata": {
        "id": "HoD1dvvzoQqy"
      },
      "execution_count": null,
      "outputs": []
    },
    {
      "cell_type": "markdown",
      "source": [
        "######Test"
      ],
      "metadata": {
        "id": "eMqwGRGivIfr"
      }
    },
    {
      "cell_type": "markdown",
      "source": [
        "Realizamos el mismo procedimiento anterior pero ahora con el dataset de test."
      ],
      "metadata": {
        "id": "iVFxHBl5yE3c"
      }
    },
    {
      "cell_type": "code",
      "source": [
        "x_test['comuna'] = x_test['place_l3'].values "
      ],
      "metadata": {
        "id": "Ukk0GO9_vOlZ"
      },
      "execution_count": null,
      "outputs": []
    },
    {
      "cell_type": "code",
      "source": [
        "asignar_comuna(x_test, ['Retiro', 'San Nicolás', 'Puerto Madero', 'San Telmo', 'Constitución'], 1)\n",
        "asignar_comuna(x_test, ['Recoleta', 'Barrio Norte'], 2)\n",
        "asignar_comuna(x_test, ['Balvanera', 'San Cristobal', 'Monserrat', 'Congreso', 'Tribunales', 'Centro / Microcentro', 'Monserrat', 'Once', 'Abasto' ], 3)\n",
        "asignar_comuna(x_test, ['Boca', 'Barracas', 'Parque Patricios', 'Nueva Pompeya', 'Pompeya', 'Catalinas'], 4)\n",
        "asignar_comuna(x_test, ['Almagro', 'Boedo'], 5)\n",
        "asignar_comuna(x_test, ['Caballito'], 6)\n",
        "asignar_comuna(x_test, ['Flores','Parque Chacabuco', 'Parque Centenario'], 7)\n",
        "asignar_comuna(x_test, ['Villa Soldati','Villa Riachuelo','Villa Lugano'], 8)\n",
        "asignar_comuna(x_test, ['Liniers', 'Mataderos' ,'Parque Avellaneda'], 9)\n",
        "asignar_comuna(x_test, [ 'Villa Real', 'Monte Castro', 'Versalles', 'Floresta', 'Velez Sarsfield', 'Villa Luro'], 10)\n",
        "asignar_comuna(x_test, ['Villa General Mitre', 'Villa Devoto', 'Villa del Parque' , 'Villa Santa Rita'], 11)\n",
        "asignar_comuna(x_test, ['Coghlan', 'Saavedra', 'Villa Urquiza','Villa Pueyrredón'], 12)\n",
        "asignar_comuna(x_test, ['Nuñez', 'Belgrano', 'Colegiales'], 13)\n",
        "asignar_comuna(x_test, ['Palermo', 'Las Cañitas'], 14)\n",
        "asignar_comuna(x_test, ['Chacarita', 'Villa Crespo', 'La Paternal', 'Villa Ortuzar', 'Agronomía', 'Parque Chas', 'Paternal'], 15)"
      ],
      "metadata": {
        "id": "CMOyEf9gvJjz"
      },
      "execution_count": null,
      "outputs": []
    },
    {
      "cell_type": "markdown",
      "metadata": {
        "id": "oX3RdRezg8JU"
      },
      "source": [
        "## Modelos"
      ]
    },
    {
      "cell_type": "code",
      "execution_count": null,
      "metadata": {
        "id": "VzFeqcQ3Voul"
      },
      "outputs": [],
      "source": [
        "from sklearn import tree\n",
        "from sklearn.tree import export_text\n",
        "from sklearn.metrics import confusion_matrix, precision_recall_curve, roc_curve, recall_score, accuracy_score,f1_score\n",
        "from sklearn.tree import export_graphviz\n",
        "import warnings\n",
        "warnings.simplefilter(action='ignore', category=FutureWarning)\n",
        "warnings.simplefilter(action='ignore', category=UserWarning)\n",
        "\n",
        "from sklearn.model_selection import StratifiedKFold, KFold,RandomizedSearchCV\n",
        "from sklearn.tree import DecisionTreeClassifier\n",
        "from sklearn.metrics import make_scorer\n",
        "\n",
        "from sklearn.ensemble import AdaBoostRegressor\n",
        "from sklearn.ensemble import GradientBoostingRegressor\n",
        "from xgboost import XGBRegressor\n",
        "from sklearn.metrics import mean_squared_error\n",
        "import hyperopt\n",
        "from hyperopt import tpe, fmin\n",
        "from hyperopt import hp"
      ]
    },
    {
      "cell_type": "code",
      "execution_count": null,
      "metadata": {
        "id": "u-PAGpdtB4ub"
      },
      "outputs": [],
      "source": [
        "def cross_validation_function(x_ds, y_ds, params_grid=None,folds=5, base_tree=None, scorer_fn=None, n=10): \n",
        "  #Conjunto de parámetros que quiero usar\n",
        "  if(params_grid == None):\n",
        "    params_grid = {'criterion':['gini','entropy'],\n",
        "                  'ccp_alpha':np.linspace(0,0.05,n), \n",
        "                  'max_depth':list(range(1,10))},\n",
        "\n",
        "  #Kfold estratificado\n",
        "  kfoldcv = StratifiedKFold(n_splits=folds, shuffle=True, random_state=2)#preguntar si el shuffle rompe algo\n",
        "\n",
        "  #Random Search Cross Validation\n",
        "  randomcv = RandomizedSearchCV(estimator=base_tree,\n",
        "                                param_distributions = params_grid,\n",
        "                                scoring=scorer_fn,\n",
        "                                cv=kfoldcv,\n",
        "                                n_iter=n,\n",
        "                                return_train_score= True,\n",
        "                                random_state=2) \n",
        "\n",
        "  #Busco los hiperparamtros que optimizan F1 Score\n",
        "  randomcv.fit(x_ds, y_ds)\n",
        "\n",
        "  return randomcv"
      ]
    },
    {
      "cell_type": "code",
      "execution_count": null,
      "metadata": {
        "id": "gRycnrfOXX8S"
      },
      "outputs": [],
      "source": [
        "def encontrar_mejor_metrica_de_cv(randomcv):  \n",
        "  #creo una lista que contiene todas las metricas obtenidas en todos los spits de cv\n",
        "  metricas_totales = []\n",
        "  metricas_totales.extend(randomcv.cv_results_['split0_test_score'])\n",
        "  metricas_totales.extend(randomcv.cv_results_['split1_test_score'])\n",
        "  metricas_totales.extend(randomcv.cv_results_['split2_test_score'])\n",
        "  metricas_totales.extend(randomcv.cv_results_['split3_test_score'])\n",
        "  metricas_totales.extend(randomcv.cv_results_['split4_test_score'])\n",
        "\n",
        "  print('La mejor metrica obtenida mediante cv en train es de:',max(metricas_totales))\n",
        "\n",
        "  return metricas_totales,max(metricas_totales)"
      ]
    },
    {
      "cell_type": "code",
      "execution_count": null,
      "metadata": {
        "id": "fbelWiwkvO0T"
      },
      "outputs": [],
      "source": [
        "def mostrar_resultados_cv(params, score, arbol):\n",
        "  print(f\"Para {arbol}\")\n",
        "  print(f\"\\tMejores parametros: \\n\\t\\t{params}\")\n",
        "  print(f\"\\Best Score: \\n\\t\\t{score}\")"
      ]
    },
    {
      "cell_type": "code",
      "execution_count": null,
      "metadata": {
        "id": "kPF66MxkZq3_"
      },
      "outputs": [],
      "source": [
        "def calcular_metricas_de_regresion(y_pred):  \n",
        "  #Mean Square Error\n",
        "  mse = sk.metrics.mean_squared_error(\n",
        "          y_true  = y_test,\n",
        "          y_pred  = y_pred,\n",
        "          squared = True\n",
        "        )\n",
        "\n",
        "  print(f\"El error (mse) de test es: {mse}\")\n",
        "\n",
        "  #Root Mean Square Error\n",
        "  rmse = sk.metrics.mean_squared_error(\n",
        "          y_true  = y_test,\n",
        "          y_pred  = y_pred,\n",
        "          squared = False\n",
        "        )\n",
        "\n",
        "  print(f\"El error (rmse) de test es: {rmse}\")"
      ]
    },
    {
      "cell_type": "markdown",
      "metadata": {
        "id": "0K57lNMhtC89"
      },
      "source": [
        "##Hiperparametros TP1"
      ]
    },
    {
      "cell_type": "markdown",
      "source": [
        "Hacemos one hot encoding para property_type"
      ],
      "metadata": {
        "id": "He-E3Qm06WOt"
      }
    },
    {
      "cell_type": "code",
      "execution_count": null,
      "metadata": {
        "id": "1nmIJrLQyjU_"
      },
      "outputs": [],
      "source": [
        "train_con_dummi = pd.get_dummies(x_train, columns=[\"property_type\"], drop_first=False)\n",
        "test_con_dummi = pd.get_dummies(x_test, columns=[\"property_type\"], drop_first=False)"
      ]
    },
    {
      "cell_type": "markdown",
      "source": [
        "Conseguimos los data set de entrenamiento para la regresion habiendo trabajado la variable propery_type con dummies y eliminado el precio."
      ],
      "metadata": {
        "id": "SSU5jVz_6ciB"
      }
    },
    {
      "cell_type": "code",
      "execution_count": null,
      "metadata": {
        "id": "fBMy2tbrlSWZ"
      },
      "outputs": [],
      "source": [
        "x_train_reg = train_con_dummi[['property_rooms', 'property_bedrooms', 'property_surface_total','property_surface_covered',\n",
        "                               'piso', 'amenities', 'tiene_patio_o_balcon', 'esta_cerca_de_av', 'comuna']]\n",
        "x_test_reg = test_con_dummi[['property_rooms', 'property_bedrooms', 'property_surface_total','property_surface_covered',\n",
        "                             'piso', 'amenities', 'tiene_patio_o_balcon', 'esta_cerca_de_av', 'comuna']]"
      ]
    },
    {
      "cell_type": "code",
      "source": [
        "x_train_reg_viejo = x_train_reg[['property_rooms', 'property_bedrooms', 'property_surface_total',\n",
        "       'property_surface_covered']]\n",
        "x_test_reg_viejo = x_test_reg[['property_rooms', 'property_bedrooms', 'property_surface_total',\n",
        "       'property_surface_covered']]"
      ],
      "metadata": {
        "id": "OlXPUUDOBtYw"
      },
      "execution_count": null,
      "outputs": []
    },
    {
      "cell_type": "markdown",
      "source": [
        "Seteamos los parámetros de XGBoost."
      ],
      "metadata": {
        "id": "FK0hUs876l8D"
      }
    },
    {
      "cell_type": "code",
      "execution_count": null,
      "metadata": {
        "id": "5pbCB2Lq3iS4"
      },
      "outputs": [],
      "source": [
        "xgb_params = {'subsample': 0.4, 'reg_alpha': 0.005, 'n_estimators': 15, 'min_child_weight': 10, 'max_depth': 5, 'learning_rate': 0.3, 'gamma': 0.01, 'colsample_bytree': 1}"
      ]
    },
    {
      "cell_type": "code",
      "execution_count": null,
      "metadata": {
        "id": "d1G8OgGSlpl0"
      },
      "outputs": [],
      "source": [
        "xgbr = XGBRegressor(objective='reg:squarederror').set_params(**xgb_params)\n",
        "\n",
        "xgbr.fit(x_train_reg_viejo, y_train)\n",
        "\n",
        "xgb_y_pred = xgbr.predict(x_test_reg_viejo)"
      ]
    },
    {
      "cell_type": "code",
      "execution_count": null,
      "metadata": {
        "id": "-i4YDuzERRY_",
        "colab": {
          "base_uri": "https://localhost:8080/",
          "height": 206
        },
        "outputId": "cf58319d-5532-469e-a1af-99d435d4b462"
      },
      "outputs": [
        {
          "output_type": "execute_result",
          "data": {
            "text/plain": [
              "   Valor Real     Prediccion          Error\n",
              "0     82900.0  124179.843750  -41279.843750\n",
              "1    250000.0  189865.843750   60134.156250\n",
              "2    100000.0  127280.304688  -27280.304688\n",
              "3    500000.0  215529.437500  284470.562500\n",
              "4    110000.0  284704.218750 -174704.218750"
            ],
            "text/html": [
              "\n",
              "  <div id=\"df-656b808c-0eda-4687-9932-ce7fd76d0721\">\n",
              "    <div class=\"colab-df-container\">\n",
              "      <div>\n",
              "<style scoped>\n",
              "    .dataframe tbody tr th:only-of-type {\n",
              "        vertical-align: middle;\n",
              "    }\n",
              "\n",
              "    .dataframe tbody tr th {\n",
              "        vertical-align: top;\n",
              "    }\n",
              "\n",
              "    .dataframe thead th {\n",
              "        text-align: right;\n",
              "    }\n",
              "</style>\n",
              "<table border=\"1\" class=\"dataframe\">\n",
              "  <thead>\n",
              "    <tr style=\"text-align: right;\">\n",
              "      <th></th>\n",
              "      <th>Valor Real</th>\n",
              "      <th>Prediccion</th>\n",
              "      <th>Error</th>\n",
              "    </tr>\n",
              "  </thead>\n",
              "  <tbody>\n",
              "    <tr>\n",
              "      <th>0</th>\n",
              "      <td>82900.0</td>\n",
              "      <td>124179.843750</td>\n",
              "      <td>-41279.843750</td>\n",
              "    </tr>\n",
              "    <tr>\n",
              "      <th>1</th>\n",
              "      <td>250000.0</td>\n",
              "      <td>189865.843750</td>\n",
              "      <td>60134.156250</td>\n",
              "    </tr>\n",
              "    <tr>\n",
              "      <th>2</th>\n",
              "      <td>100000.0</td>\n",
              "      <td>127280.304688</td>\n",
              "      <td>-27280.304688</td>\n",
              "    </tr>\n",
              "    <tr>\n",
              "      <th>3</th>\n",
              "      <td>500000.0</td>\n",
              "      <td>215529.437500</td>\n",
              "      <td>284470.562500</td>\n",
              "    </tr>\n",
              "    <tr>\n",
              "      <th>4</th>\n",
              "      <td>110000.0</td>\n",
              "      <td>284704.218750</td>\n",
              "      <td>-174704.218750</td>\n",
              "    </tr>\n",
              "  </tbody>\n",
              "</table>\n",
              "</div>\n",
              "      <button class=\"colab-df-convert\" onclick=\"convertToInteractive('df-656b808c-0eda-4687-9932-ce7fd76d0721')\"\n",
              "              title=\"Convert this dataframe to an interactive table.\"\n",
              "              style=\"display:none;\">\n",
              "        \n",
              "  <svg xmlns=\"http://www.w3.org/2000/svg\" height=\"24px\"viewBox=\"0 0 24 24\"\n",
              "       width=\"24px\">\n",
              "    <path d=\"M0 0h24v24H0V0z\" fill=\"none\"/>\n",
              "    <path d=\"M18.56 5.44l.94 2.06.94-2.06 2.06-.94-2.06-.94-.94-2.06-.94 2.06-2.06.94zm-11 1L8.5 8.5l.94-2.06 2.06-.94-2.06-.94L8.5 2.5l-.94 2.06-2.06.94zm10 10l.94 2.06.94-2.06 2.06-.94-2.06-.94-.94-2.06-.94 2.06-2.06.94z\"/><path d=\"M17.41 7.96l-1.37-1.37c-.4-.4-.92-.59-1.43-.59-.52 0-1.04.2-1.43.59L10.3 9.45l-7.72 7.72c-.78.78-.78 2.05 0 2.83L4 21.41c.39.39.9.59 1.41.59.51 0 1.02-.2 1.41-.59l7.78-7.78 2.81-2.81c.8-.78.8-2.07 0-2.86zM5.41 20L4 18.59l7.72-7.72 1.47 1.35L5.41 20z\"/>\n",
              "  </svg>\n",
              "      </button>\n",
              "      \n",
              "  <style>\n",
              "    .colab-df-container {\n",
              "      display:flex;\n",
              "      flex-wrap:wrap;\n",
              "      gap: 12px;\n",
              "    }\n",
              "\n",
              "    .colab-df-convert {\n",
              "      background-color: #E8F0FE;\n",
              "      border: none;\n",
              "      border-radius: 50%;\n",
              "      cursor: pointer;\n",
              "      display: none;\n",
              "      fill: #1967D2;\n",
              "      height: 32px;\n",
              "      padding: 0 0 0 0;\n",
              "      width: 32px;\n",
              "    }\n",
              "\n",
              "    .colab-df-convert:hover {\n",
              "      background-color: #E2EBFA;\n",
              "      box-shadow: 0px 1px 2px rgba(60, 64, 67, 0.3), 0px 1px 3px 1px rgba(60, 64, 67, 0.15);\n",
              "      fill: #174EA6;\n",
              "    }\n",
              "\n",
              "    [theme=dark] .colab-df-convert {\n",
              "      background-color: #3B4455;\n",
              "      fill: #D2E3FC;\n",
              "    }\n",
              "\n",
              "    [theme=dark] .colab-df-convert:hover {\n",
              "      background-color: #434B5C;\n",
              "      box-shadow: 0px 1px 3px 1px rgba(0, 0, 0, 0.15);\n",
              "      filter: drop-shadow(0px 1px 2px rgba(0, 0, 0, 0.3));\n",
              "      fill: #FFFFFF;\n",
              "    }\n",
              "  </style>\n",
              "\n",
              "      <script>\n",
              "        const buttonEl =\n",
              "          document.querySelector('#df-656b808c-0eda-4687-9932-ce7fd76d0721 button.colab-df-convert');\n",
              "        buttonEl.style.display =\n",
              "          google.colab.kernel.accessAllowed ? 'block' : 'none';\n",
              "\n",
              "        async function convertToInteractive(key) {\n",
              "          const element = document.querySelector('#df-656b808c-0eda-4687-9932-ce7fd76d0721');\n",
              "          const dataTable =\n",
              "            await google.colab.kernel.invokeFunction('convertToInteractive',\n",
              "                                                     [key], {});\n",
              "          if (!dataTable) return;\n",
              "\n",
              "          const docLinkHtml = 'Like what you see? Visit the ' +\n",
              "            '<a target=\"_blank\" href=https://colab.research.google.com/notebooks/data_table.ipynb>data table notebook</a>'\n",
              "            + ' to learn more about interactive tables.';\n",
              "          element.innerHTML = '';\n",
              "          dataTable['output_type'] = 'display_data';\n",
              "          await google.colab.output.renderOutput(dataTable, element);\n",
              "          const docLink = document.createElement('div');\n",
              "          docLink.innerHTML = docLinkHtml;\n",
              "          element.appendChild(docLink);\n",
              "        }\n",
              "      </script>\n",
              "    </div>\n",
              "  </div>\n",
              "  "
            ]
          },
          "metadata": {},
          "execution_count": 131
        }
      ],
      "source": [
        "# Performance\n",
        "xgb_performance = pd.DataFrame({'Valor Real': y_test,\n",
        "                            'Prediccion': xgb_y_pred,\n",
        "                            'Error': y_test - xgb_y_pred})\n",
        "# View\n",
        "xgb_performance.head()"
      ]
    },
    {
      "cell_type": "code",
      "execution_count": null,
      "metadata": {
        "id": "Rma94BtkR7at",
        "colab": {
          "base_uri": "https://localhost:8080/"
        },
        "outputId": "56943b97-29c6-4232-a11c-a9770e3fd89e"
      },
      "outputs": [
        {
          "output_type": "stream",
          "name": "stdout",
          "text": [
            "El error (mse) de test es: 20136158403.007263\n",
            "El error (rmse) de test es: 141901.93234416246\n"
          ]
        }
      ],
      "source": [
        "calcular_metricas_de_regresion(xgb_y_pred)"
      ]
    },
    {
      "cell_type": "code",
      "execution_count": null,
      "metadata": {
        "id": "PJdLsHISR_f4",
        "colab": {
          "base_uri": "https://localhost:8080/"
        },
        "outputId": "50db4f3f-5e8e-4c63-b228-e65c2fccc721"
      },
      "outputs": [
        {
          "output_type": "stream",
          "name": "stdout",
          "text": [
            "El score del xgboost es:  0.6734957565016195\n"
          ]
        }
      ],
      "source": [
        "#Coef. de Determinación R2\n",
        "xgb_score = xgbr.score(x_test_reg_viejo, y_test)\n",
        "print(\"El score del xgboost es: \", xgb_score)"
      ]
    },
    {
      "cell_type": "markdown",
      "metadata": {
        "id": "yaQ6t7ObtKaC"
      },
      "source": [
        "##Hiperparametros nuevos"
      ]
    },
    {
      "cell_type": "markdown",
      "source": [
        "Seteamos los nuevos hiperparámetros de XGBoost para hacer Cross Validation."
      ],
      "metadata": {
        "id": "iwIWOT8l7B_B"
      }
    },
    {
      "cell_type": "code",
      "execution_count": null,
      "metadata": {
        "id": "Ik30ONTIVuR-"
      },
      "outputs": [],
      "source": [
        "xgb_reg_params = {\n",
        "    'learning_rate':     [0.05, 0.3], # Default 0.3\n",
        "    'max_depth':        [5, 16, 5], # Default 6\n",
        "    'min_child_weight': [1, 10, 1], # Default 1\n",
        "    'colsample_bytree': [0.3, 1], # Default 1\n",
        "    'subsample':        [0.4, 1], #  >= 0.5 for good results.\n",
        "    'n_estimators':     [5, 10, 15, 20],\n",
        "    'reg_alpha':        [0, 0.001, 0.005, 0.01, 0.05], # Default 0\n",
        "    'gamma':            [0, 0.005, 0.01, 0.05, 1] # Default 0\n",
        "}"
      ]
    },
    {
      "cell_type": "code",
      "execution_count": null,
      "metadata": {
        "id": "1QXy-g4-Nlja"
      },
      "outputs": [],
      "source": [
        "xgbr = XGBRegressor(objective='reg:squarederror')\n",
        "\n",
        "xgb_scorer_fn = make_scorer(sk.metrics.r2_score)\n",
        "\n",
        "xgb_randomcv = cross_validation_function(x_train_reg, y_train, base_tree=xgbr, scorer_fn=xgb_scorer_fn, params_grid=xgb_reg_params)"
      ]
    },
    {
      "cell_type": "code",
      "execution_count": null,
      "metadata": {
        "id": "KdiWk44lTEAy",
        "colab": {
          "base_uri": "https://localhost:8080/"
        },
        "outputId": "d6ae3a68-b9c0-4359-830b-56899161b12e"
      },
      "outputs": [
        {
          "output_type": "stream",
          "name": "stdout",
          "text": [
            "Para XGBoost con el General\n",
            "\tMejores parametros: \n",
            "\t\t{'subsample': 0.4, 'reg_alpha': 0.005, 'n_estimators': 15, 'min_child_weight': 10, 'max_depth': 5, 'learning_rate': 0.3, 'gamma': 0.01, 'colsample_bytree': 1}\n",
            "\\Best Score: \n",
            "\t\t0.8319967591049799\n"
          ]
        }
      ],
      "source": [
        "mostrar_resultados_cv(xgb_randomcv.best_params_, xgb_randomcv.best_score_, \"XGBoost con el General\")"
      ]
    },
    {
      "cell_type": "code",
      "execution_count": null,
      "metadata": {
        "id": "o60MXLcYTIla",
        "colab": {
          "base_uri": "https://localhost:8080/"
        },
        "outputId": "a75efed9-3c66-47fb-c142-37bb26b6489f"
      },
      "outputs": [
        {
          "output_type": "stream",
          "name": "stdout",
          "text": [
            "La mejor metrica obtenida mediante cv en train es de: 0.8421373315210269\n"
          ]
        }
      ],
      "source": [
        "xgb_metricas, xgb_mejor_metrica = encontrar_mejor_metrica_de_cv(xgb_randomcv) "
      ]
    },
    {
      "cell_type": "code",
      "execution_count": null,
      "metadata": {
        "id": "WjJfgyRgU2X3"
      },
      "outputs": [],
      "source": [
        "xgbr = XGBRegressor(objective='reg:squarederror').set_params(**xgb_randomcv.best_params_)\n",
        "\n",
        "xgbr.fit(x_train_reg, y_train)\n",
        " \n",
        "xgb_y_pred = xgbr.predict(x_test_reg)"
      ]
    },
    {
      "cell_type": "code",
      "execution_count": null,
      "metadata": {
        "id": "1ZxuiO1Ru0g8",
        "colab": {
          "base_uri": "https://localhost:8080/",
          "height": 206
        },
        "outputId": "8c5c6950-9aaf-460c-f560-7044dc46549c"
      },
      "outputs": [
        {
          "output_type": "execute_result",
          "data": {
            "text/plain": [
              "   Valor Real     Prediccion          Error\n",
              "0     82900.0  119330.132812  -36430.132812\n",
              "1    250000.0  149701.968750  100298.031250\n",
              "2    100000.0  115286.476562  -15286.476562\n",
              "3    500000.0  300531.093750  199468.906250\n",
              "4    110000.0  210700.500000 -100700.500000"
            ],
            "text/html": [
              "\n",
              "  <div id=\"df-b903182b-0d2f-4d4b-b8f2-1ca0fa0fb577\">\n",
              "    <div class=\"colab-df-container\">\n",
              "      <div>\n",
              "<style scoped>\n",
              "    .dataframe tbody tr th:only-of-type {\n",
              "        vertical-align: middle;\n",
              "    }\n",
              "\n",
              "    .dataframe tbody tr th {\n",
              "        vertical-align: top;\n",
              "    }\n",
              "\n",
              "    .dataframe thead th {\n",
              "        text-align: right;\n",
              "    }\n",
              "</style>\n",
              "<table border=\"1\" class=\"dataframe\">\n",
              "  <thead>\n",
              "    <tr style=\"text-align: right;\">\n",
              "      <th></th>\n",
              "      <th>Valor Real</th>\n",
              "      <th>Prediccion</th>\n",
              "      <th>Error</th>\n",
              "    </tr>\n",
              "  </thead>\n",
              "  <tbody>\n",
              "    <tr>\n",
              "      <th>0</th>\n",
              "      <td>82900.0</td>\n",
              "      <td>119330.132812</td>\n",
              "      <td>-36430.132812</td>\n",
              "    </tr>\n",
              "    <tr>\n",
              "      <th>1</th>\n",
              "      <td>250000.0</td>\n",
              "      <td>149701.968750</td>\n",
              "      <td>100298.031250</td>\n",
              "    </tr>\n",
              "    <tr>\n",
              "      <th>2</th>\n",
              "      <td>100000.0</td>\n",
              "      <td>115286.476562</td>\n",
              "      <td>-15286.476562</td>\n",
              "    </tr>\n",
              "    <tr>\n",
              "      <th>3</th>\n",
              "      <td>500000.0</td>\n",
              "      <td>300531.093750</td>\n",
              "      <td>199468.906250</td>\n",
              "    </tr>\n",
              "    <tr>\n",
              "      <th>4</th>\n",
              "      <td>110000.0</td>\n",
              "      <td>210700.500000</td>\n",
              "      <td>-100700.500000</td>\n",
              "    </tr>\n",
              "  </tbody>\n",
              "</table>\n",
              "</div>\n",
              "      <button class=\"colab-df-convert\" onclick=\"convertToInteractive('df-b903182b-0d2f-4d4b-b8f2-1ca0fa0fb577')\"\n",
              "              title=\"Convert this dataframe to an interactive table.\"\n",
              "              style=\"display:none;\">\n",
              "        \n",
              "  <svg xmlns=\"http://www.w3.org/2000/svg\" height=\"24px\"viewBox=\"0 0 24 24\"\n",
              "       width=\"24px\">\n",
              "    <path d=\"M0 0h24v24H0V0z\" fill=\"none\"/>\n",
              "    <path d=\"M18.56 5.44l.94 2.06.94-2.06 2.06-.94-2.06-.94-.94-2.06-.94 2.06-2.06.94zm-11 1L8.5 8.5l.94-2.06 2.06-.94-2.06-.94L8.5 2.5l-.94 2.06-2.06.94zm10 10l.94 2.06.94-2.06 2.06-.94-2.06-.94-.94-2.06-.94 2.06-2.06.94z\"/><path d=\"M17.41 7.96l-1.37-1.37c-.4-.4-.92-.59-1.43-.59-.52 0-1.04.2-1.43.59L10.3 9.45l-7.72 7.72c-.78.78-.78 2.05 0 2.83L4 21.41c.39.39.9.59 1.41.59.51 0 1.02-.2 1.41-.59l7.78-7.78 2.81-2.81c.8-.78.8-2.07 0-2.86zM5.41 20L4 18.59l7.72-7.72 1.47 1.35L5.41 20z\"/>\n",
              "  </svg>\n",
              "      </button>\n",
              "      \n",
              "  <style>\n",
              "    .colab-df-container {\n",
              "      display:flex;\n",
              "      flex-wrap:wrap;\n",
              "      gap: 12px;\n",
              "    }\n",
              "\n",
              "    .colab-df-convert {\n",
              "      background-color: #E8F0FE;\n",
              "      border: none;\n",
              "      border-radius: 50%;\n",
              "      cursor: pointer;\n",
              "      display: none;\n",
              "      fill: #1967D2;\n",
              "      height: 32px;\n",
              "      padding: 0 0 0 0;\n",
              "      width: 32px;\n",
              "    }\n",
              "\n",
              "    .colab-df-convert:hover {\n",
              "      background-color: #E2EBFA;\n",
              "      box-shadow: 0px 1px 2px rgba(60, 64, 67, 0.3), 0px 1px 3px 1px rgba(60, 64, 67, 0.15);\n",
              "      fill: #174EA6;\n",
              "    }\n",
              "\n",
              "    [theme=dark] .colab-df-convert {\n",
              "      background-color: #3B4455;\n",
              "      fill: #D2E3FC;\n",
              "    }\n",
              "\n",
              "    [theme=dark] .colab-df-convert:hover {\n",
              "      background-color: #434B5C;\n",
              "      box-shadow: 0px 1px 3px 1px rgba(0, 0, 0, 0.15);\n",
              "      filter: drop-shadow(0px 1px 2px rgba(0, 0, 0, 0.3));\n",
              "      fill: #FFFFFF;\n",
              "    }\n",
              "  </style>\n",
              "\n",
              "      <script>\n",
              "        const buttonEl =\n",
              "          document.querySelector('#df-b903182b-0d2f-4d4b-b8f2-1ca0fa0fb577 button.colab-df-convert');\n",
              "        buttonEl.style.display =\n",
              "          google.colab.kernel.accessAllowed ? 'block' : 'none';\n",
              "\n",
              "        async function convertToInteractive(key) {\n",
              "          const element = document.querySelector('#df-b903182b-0d2f-4d4b-b8f2-1ca0fa0fb577');\n",
              "          const dataTable =\n",
              "            await google.colab.kernel.invokeFunction('convertToInteractive',\n",
              "                                                     [key], {});\n",
              "          if (!dataTable) return;\n",
              "\n",
              "          const docLinkHtml = 'Like what you see? Visit the ' +\n",
              "            '<a target=\"_blank\" href=https://colab.research.google.com/notebooks/data_table.ipynb>data table notebook</a>'\n",
              "            + ' to learn more about interactive tables.';\n",
              "          element.innerHTML = '';\n",
              "          dataTable['output_type'] = 'display_data';\n",
              "          await google.colab.output.renderOutput(dataTable, element);\n",
              "          const docLink = document.createElement('div');\n",
              "          docLink.innerHTML = docLinkHtml;\n",
              "          element.appendChild(docLink);\n",
              "        }\n",
              "      </script>\n",
              "    </div>\n",
              "  </div>\n",
              "  "
            ]
          },
          "metadata": {},
          "execution_count": 139
        }
      ],
      "source": [
        "# Performance\n",
        "xgb_performance = pd.DataFrame({'Valor Real': y_test,\n",
        "                            'Prediccion': xgb_y_pred,\n",
        "                            'Error': y_test - xgb_y_pred})\n",
        "# View\n",
        "xgb_performance.head()"
      ]
    },
    {
      "cell_type": "code",
      "execution_count": null,
      "metadata": {
        "id": "8dQYUNN9u0g9",
        "colab": {
          "base_uri": "https://localhost:8080/"
        },
        "outputId": "f9f26811-97d7-4bb4-992e-40b0e946dc01"
      },
      "outputs": [
        {
          "output_type": "stream",
          "name": "stdout",
          "text": [
            "El error (mse) de test es: 9740892610.387033\n",
            "El error (rmse) de test es: 98695.9604562772\n"
          ]
        }
      ],
      "source": [
        "calcular_metricas_de_regresion(xgb_y_pred)"
      ]
    },
    {
      "cell_type": "code",
      "execution_count": null,
      "metadata": {
        "id": "G52tUFTeu0g9",
        "colab": {
          "base_uri": "https://localhost:8080/"
        },
        "outputId": "67538a4f-cd8c-47fa-a9a6-6e532b072940"
      },
      "outputs": [
        {
          "output_type": "stream",
          "name": "stdout",
          "text": [
            "El score del xgboost es:  0.8420531508990119\n"
          ]
        }
      ],
      "source": [
        "#Coef. de Determinación R2\n",
        "xgb_score = xgbr.score(x_test_reg, y_test)\n",
        "print(\"El score del xgboost es: \", xgb_score)"
      ]
    },
    {
      "cell_type": "code",
      "execution_count": null,
      "metadata": {
        "id": "x9IwTqRqTMXH",
        "colab": {
          "base_uri": "https://localhost:8080/"
        },
        "outputId": "fe8f7ca6-b8b6-4790-edb4-76924b9e0c59"
      },
      "outputs": [
        {
          "output_type": "stream",
          "name": "stdout",
          "text": [
            "Diferencia entre las metricas del train y test 8.418062201498433e-05\n"
          ]
        }
      ],
      "source": [
        "print('Diferencia entre las metricas del train y test', xgb_mejor_metrica - xgb_score)"
      ]
    },
    {
      "cell_type": "markdown",
      "metadata": {
        "id": "mn-C_NXVcnPG"
      },
      "source": [
        "#Redes neuronales"
      ]
    },
    {
      "cell_type": "code",
      "source": [
        "train_con_dummi = pd.get_dummies(x_train, columns=[\"property_type\"], drop_first=False)\n",
        "y_train_target = train_con_dummi['tipo_precio_generico'].copy()\n",
        "y_test_target = test_con_dummi['tipo_precio_generico'].copy()"
      ],
      "metadata": {
        "id": "XA3f7oZPDTSy"
      },
      "execution_count": null,
      "outputs": []
    },
    {
      "cell_type": "markdown",
      "source": [
        "##Regresion"
      ],
      "metadata": {
        "id": "9OgVXJ68ZlHD"
      }
    },
    {
      "cell_type": "code",
      "execution_count": null,
      "metadata": {
        "id": "kCFgitfL6IpO",
        "colab": {
          "base_uri": "https://localhost:8080/"
        },
        "outputId": "3959c30d-af84-4524-d332-7e2300366f5a"
      },
      "outputs": [
        {
          "output_type": "stream",
          "name": "stdout",
          "text": [
            "Looking in indexes: https://pypi.org/simple, https://us-python.pkg.dev/colab-wheels/public/simple/\n",
            "Collecting git+https://github.com/paulgavrikov/visualkeras\n",
            "  Cloning https://github.com/paulgavrikov/visualkeras to /tmp/pip-req-build-5j5j3vhl\n",
            "  Running command git clone -q https://github.com/paulgavrikov/visualkeras /tmp/pip-req-build-5j5j3vhl\n",
            "Requirement already satisfied: pillow>=6.2.0 in /usr/local/lib/python3.8/dist-packages (from visualkeras==0.0.2) (7.1.2)\n",
            "Requirement already satisfied: numpy>=1.18.1 in /usr/local/lib/python3.8/dist-packages (from visualkeras==0.0.2) (1.21.6)\n",
            "Collecting aggdraw>=1.3.11\n",
            "  Downloading aggdraw-1.3.15-cp38-cp38-manylinux_2_17_x86_64.manylinux2014_x86_64.whl (992 kB)\n",
            "\u001b[K     |████████████████████████████████| 992 kB 29.8 MB/s \n",
            "\u001b[?25hBuilding wheels for collected packages: visualkeras\n",
            "  Building wheel for visualkeras (setup.py) ... \u001b[?25l\u001b[?25hdone\n",
            "  Created wheel for visualkeras: filename=visualkeras-0.0.2-py3-none-any.whl size=13450 sha256=0bb7defafbdc714c54b9115434f5f71e95da6883b6ff2f50dfdb8cf2a2fcc233\n",
            "  Stored in directory: /tmp/pip-ephem-wheel-cache-czr9pw59/wheels/e6/fe/80/74c54ccb79205ab57079259bc349e1629373e811e1c82ed535\n",
            "Successfully built visualkeras\n",
            "Installing collected packages: aggdraw, visualkeras\n",
            "Successfully installed aggdraw-1.3.15 visualkeras-0.0.2\n"
          ]
        }
      ],
      "source": [
        "!pip install git+https://github.com/paulgavrikov/visualkeras --upgrade"
      ]
    },
    {
      "cell_type": "code",
      "execution_count": null,
      "metadata": {
        "id": "X8zrjI3QwFmz"
      },
      "outputs": [],
      "source": [
        "import tensorflow as tf\n",
        "from tensorflow import keras\n",
        "from keras.utils.vis_utils import plot_model\n",
        "import visualkeras\n",
        "from keras import losses\n",
        "np.random.seed(1)\n",
        "tf.random.set_seed(1) \n",
        "import matplotlib.pyplot as pp\n",
        "\n",
        "from tensorflow.keras import layers\n",
        "\n",
        "import warnings\n",
        "warnings.filterwarnings(\"ignore\", category=DeprecationWarning) "
      ]
    },
    {
      "cell_type": "code",
      "source": [
        "def plot_regression(modelo,x,y,title=\"\",xlabel=\"x\",ylabel=\"y\"):\n",
        "    for i in range(0, 8, 2):\n",
        "      plt.figure()\n",
        "      plt.plot(x.iloc[:,i],y,\"o\",label=\"Valores verdaderos\")\n",
        "      plt.plot(x.iloc[:,i],modelo.predict(x),\"x\",label=\"Valores estimados\")\n",
        "      \n",
        "      plt.title(title)\n",
        "      plt.legend()\n",
        "      plt.show()\n",
        "#One hot encoding para property_type\n",
        "train_con_dummi = pd.get_dummies(x_train, columns=[\"property_type\"], drop_first=False)\n",
        "test_con_dummi = pd.get_dummies(x_test, columns=[\"property_type\"], drop_first=False)"
      ],
      "metadata": {
        "id": "ylnGCc9ssGTv"
      },
      "execution_count": null,
      "outputs": []
    },
    {
      "cell_type": "code",
      "source": [
        "def plot_loss(history):\n",
        "  plt.plot(history.history['loss'], label='loss')\n",
        "  plt.plot(history.history['mean_squared_error'], label='mean_squared_error')\n",
        "  # plt.xlabel('epoch')\n",
        "  plt.xlabel = \"epoch\"\n",
        "  # plt.ylabel('Error [MPG]')\n",
        "  plt.ylabel = \"Error [MPG]\"\n",
        "  plt.legend()\n",
        "  plt.grid(True)"
      ],
      "metadata": {
        "id": "xGvVpz8csDYn"
      },
      "execution_count": null,
      "outputs": []
    },
    {
      "cell_type": "code",
      "execution_count": null,
      "metadata": {
        "id": "OiY89Lg5dY7M"
      },
      "outputs": [],
      "source": [
        "#One hot encoding para property_type\n",
        "train_con_dummi = pd.get_dummies(x_train, columns=[\"property_type\" ], drop_first=False)\n",
        "test_con_dummi = pd.get_dummies(x_test, columns=[\"property_type\"], drop_first=False)"
      ]
    },
    {
      "cell_type": "code",
      "execution_count": null,
      "metadata": {
        "id": "uTn4P589rNTC"
      },
      "outputs": [],
      "source": [
        "#Conseguimos los data set de entrenamiento para la regresion habiendo trabajado la variable propery_type con dummies\n",
        "#y eliminado el precio.\n",
        "columnas = ['property_rooms', 'property_bedrooms', 'property_surface_total','property_surface_covered', 'property_type_Departamento',\n",
        "            'property_type_PH', 'comuna','latitud', 'longitud']\n",
        "            \n",
        "x_train_redes = train_con_dummi[columnas]\n",
        "x_test_redes = test_con_dummi[columnas]"
      ]
    },
    {
      "cell_type": "code",
      "execution_count": null,
      "metadata": {
        "id": "K5FWamKjps0v"
      },
      "outputs": [],
      "source": [
        "import warnings\n",
        "\n",
        "def escalar_variable(palabra, ds_train =x_train_redes, ds_test = x_test_redes):\n",
        "  warnings.filterwarnings('ignore')\n",
        "  \n",
        "  sscaler=StandardScaler()\n",
        "\n",
        "  sscaler.fit(pd.DataFrame(ds_train[[palabra]]))\n",
        "\n",
        "  ds_train_transform = sscaler.transform(pd.DataFrame(ds_train[palabra]))\n",
        "  ds_test_transform = sscaler.transform(pd.DataFrame(ds_test[palabra]))\n",
        "\n",
        "  ds_train[palabra] = ds_train_transform[:,0]\n",
        "  ds_test[palabra] = ds_test_transform[:,0]\n",
        "  return ds_train, ds_test"
      ]
    },
    {
      "cell_type": "code",
      "source": [
        "x_test_redes_sin_escalar = x_test.copy()\n",
        "x_train_redes, x_test_redes = escalar_variable('property_surface_total')\n",
        "x_train_redes, x_test_redes = escalar_variable('property_surface_covered')\n",
        "x_train_redes, x_test_redes = escalar_variable('latitud')\n",
        "x_train_redes, x_test_redes = escalar_variable('longitud')\n",
        "x_train_redes, x_test_redes = escalar_variable('property_rooms')\n",
        "x_train_redes, x_test_redes = escalar_variable('property_bedrooms')\n",
        "x_train_redes, x_test_redes = escalar_variable('comuna')"
      ],
      "metadata": {
        "id": "jl_A5zN0fra0"
      },
      "execution_count": null,
      "outputs": []
    },
    {
      "cell_type": "code",
      "source": [
        "model_1 = keras.Sequential()\n",
        "model_1.add(layers.Dense(20, activation='relu', input_dim=9))\n",
        "model_1.add(layers.Dense(15, activation='relu'))\n",
        "model_1.add(layers.Dense(12, activation='relu'))\n",
        "model_1.add(layers.Dense(10, activation='relu'))\n",
        "model_1.add(layers.Dense(8, activation='relu'))\n",
        "model_1.add(layers.Dense(6, activation='relu'))\n",
        "model_1.add(layers.Dense(5, activation='relu'))\n",
        "model_1.add(layers.Dense(1, activation='linear'))\n",
        "\n",
        "model_1.compile(optimizer='adam',\n",
        "              loss='mean_squared_error', \n",
        "              metrics=['mean_squared_error'])\n",
        "\n",
        "model_1.summary()"
      ],
      "metadata": {
        "id": "ydfQ_1g7wS1R",
        "colab": {
          "base_uri": "https://localhost:8080/"
        },
        "outputId": "7a12c774-3806-4313-87a7-6efe1d977a2f"
      },
      "execution_count": null,
      "outputs": [
        {
          "output_type": "stream",
          "name": "stdout",
          "text": [
            "Model: \"sequential\"\n",
            "_________________________________________________________________\n",
            " Layer (type)                Output Shape              Param #   \n",
            "=================================================================\n",
            " dense (Dense)               (None, 20)                200       \n",
            "                                                                 \n",
            " dense_1 (Dense)             (None, 15)                315       \n",
            "                                                                 \n",
            " dense_2 (Dense)             (None, 12)                192       \n",
            "                                                                 \n",
            " dense_3 (Dense)             (None, 10)                130       \n",
            "                                                                 \n",
            " dense_4 (Dense)             (None, 8)                 88        \n",
            "                                                                 \n",
            " dense_5 (Dense)             (None, 6)                 54        \n",
            "                                                                 \n",
            " dense_6 (Dense)             (None, 5)                 35        \n",
            "                                                                 \n",
            " dense_7 (Dense)             (None, 1)                 6         \n",
            "                                                                 \n",
            "=================================================================\n",
            "Total params: 1,020\n",
            "Trainable params: 1,020\n",
            "Non-trainable params: 0\n",
            "_________________________________________________________________\n"
          ]
        }
      ]
    },
    {
      "cell_type": "code",
      "execution_count": null,
      "metadata": {
        "id": "b3-BysqKa_A3"
      },
      "outputs": [],
      "source": [
        "modelo_1_historia = model_1.fit(x = x_train_redes, y=y_train, epochs=1000, batch_size=1000, verbose=False)"
      ]
    },
    {
      "cell_type": "code",
      "execution_count": null,
      "metadata": {
        "id": "IPoYdYY3PRv9",
        "colab": {
          "base_uri": "https://localhost:8080/"
        },
        "outputId": "4e1190ff-deca-4a37-cdf7-f1ccfafb6339"
      },
      "outputs": [
        {
          "output_type": "stream",
          "name": "stdout",
          "text": [
            "850/850 [==============================] - 1s 790us/step\n"
          ]
        },
        {
          "output_type": "execute_result",
          "data": {
            "text/plain": [
              "array([[ 73065.98],\n",
              "       [134172.19],\n",
              "       [ 95558.66],\n",
              "       ...,\n",
              "       [265910.16],\n",
              "       [ 69479.37],\n",
              "       [149543.98]], dtype=float32)"
            ]
          },
          "metadata": {},
          "execution_count": 154
        }
      ],
      "source": [
        "y_predic = model_1.predict(x_test_redes)\n",
        "y_predic"
      ]
    },
    {
      "cell_type": "code",
      "source": [
        "y_predic_ds = pd.DataFrame(y_predic)\n",
        "y_predic_ds['real'] = y_test.values"
      ],
      "metadata": {
        "id": "2ojkQSNjxDVm"
      },
      "execution_count": null,
      "outputs": []
    },
    {
      "cell_type": "code",
      "source": [
        "y_predic_ds.columns=['y_pred','y_real']\n",
        "y_predic_ds['y_real'] = y_predic_ds['y_real'].round()\n",
        "y_predic_ds['y_pred'] = y_predic_ds['y_pred'].round()\n",
        "# y_predic_ds"
      ],
      "metadata": {
        "id": "NlXF1_z4xUiy"
      },
      "execution_count": null,
      "outputs": []
    },
    {
      "cell_type": "code",
      "source": [
        "y_test_aux = y_test.to_list()"
      ],
      "metadata": {
        "id": "Vw0caUwZyplt"
      },
      "execution_count": null,
      "outputs": []
    },
    {
      "cell_type": "code",
      "execution_count": null,
      "metadata": {
        "id": "wi710jWSkHzB",
        "colab": {
          "base_uri": "https://localhost:8080/"
        },
        "outputId": "67e8a1c6-d1a6-42b2-f87e-e0b85bf7086c"
      },
      "outputs": [
        {
          "output_type": "stream",
          "name": "stdout",
          "text": [
            "Error absoluto medio 45676.366445916115\n",
            "Error cuadrático medio 8857091826.452097\n",
            "El error (rmse) de test es: 94112.1236953672\n",
            "El r2 score es: 0.8563838241379975\n"
          ]
        }
      ],
      "source": [
        "from sklearn.metrics import mean_absolute_error, mean_squared_error, r2_score\n",
        "\n",
        "mae_modelo1 = mean_absolute_error(y_test,y_predic)\n",
        "mse_modelo1 = mean_squared_error(y_test,y_predic)\n",
        "rmse = sk.metrics.mean_squared_error(y_true=y_test, y_pred=y_predic, squared = False)\n",
        "r2score=r2_score(y_test, y_predic)\n",
        "\n",
        "print(f\"Error absoluto medio {mae_modelo1}\")\n",
        "print(f\"Error cuadrático medio {mse_modelo1}\")\n",
        "print(f\"El error (rmse) de test es: {rmse}\")\n",
        "print(f\"El r2 score es: {r2score}\")"
      ]
    },
    {
      "cell_type": "code",
      "source": [
        "hist = pd.DataFrame(modelo_1_historia.history)\n",
        "hist['epoch'] = modelo_1_historia.epoch\n",
        "hist.tail()\n",
        "plot_loss(modelo_1_historia)\n",
        "\n",
        "plot_regression(model_1,x_test_redes,y_test,title=f\"Modelo Final\",xlabel=\"sup total\",ylabel=\"price\")"
      ],
      "metadata": {
        "id": "EaBPiYtIrk23",
        "colab": {
          "base_uri": "https://localhost:8080/",
          "height": 1000
        },
        "outputId": "c39b9274-9304-4ed7-9dbd-6c153d8a36af"
      },
      "execution_count": null,
      "outputs": [
        {
          "output_type": "stream",
          "name": "stdout",
          "text": [
            "850/850 [==============================] - 1s 872us/step\n"
          ]
        },
        {
          "output_type": "display_data",
          "data": {
            "text/plain": [
              "<Figure size 432x288 with 1 Axes>"
            ],
            "image/png": "[encoded data removed]"
          },
          "metadata": {
            "needs_background": "light"
          }
        },
        {
          "output_type": "display_data",
          "data": {
            "text/plain": [
              "<Figure size 432x288 with 1 Axes>"
            ],
            "image/png": "[encoded data removed]"
          },
          "metadata": {
            "needs_background": "light"
          }
        },
        {
          "output_type": "stream",
          "name": "stdout",
          "text": [
            "850/850 [==============================] - 1s 2ms/step\n"
          ]
        },
        {
          "output_type": "display_data",
          "data": {
            "text/plain": [
              "<Figure size 432x288 with 1 Axes>"
            ],
            "image/png": "[encoded data removed]"
          },
          "metadata": {
            "needs_background": "light"
          }
        },
        {
          "output_type": "stream",
          "name": "stdout",
          "text": [
            "850/850 [==============================] - 1s 893us/step\n"
          ]
        },
        {
          "output_type": "display_data",
          "data": {
            "text/plain": [
              "<Figure size 432x288 with 1 Axes>"
            ],
            "image/png": "[encoded data removed]"
          },
          "metadata": {
            "needs_background": "light"
          }
        },
        {
          "output_type": "stream",
          "name": "stdout",
          "text": [
            "850/850 [==============================] - 1s 850us/step\n"
          ]
        },
        {
          "output_type": "display_data",
          "data": {
            "text/plain": [
              "<Figure size 432x288 with 1 Axes>"
            ],
            "image/png": "[encoded data removed]"
          },
          "metadata": {
            "needs_background": "light"
          }
        }
      ]
    },
    {
      "cell_type": "markdown",
      "source": [
        "##Clasificacion"
      ],
      "metadata": {
        "id": "rKssPi-_ZoAL"
      }
    },
    {
      "cell_type": "code",
      "execution_count": null,
      "metadata": {
        "id": "nTN6qeaF_dh1"
      },
      "outputs": [],
      "source": [
        "columnas = ['property_rooms', 'property_bedrooms', 'property_surface_total','property_surface_covered', 'latitud', 'longitud', 'property_type_Departamento',\n",
        "            'property_type_PH']\n",
        "            \n",
        "x_train_target = train_con_dummi[columnas]\n",
        "x_test_target = test_con_dummi[columnas]"
      ]
    },
    {
      "cell_type": "code",
      "execution_count": null,
      "metadata": {
        "id": "BdRLexfD_dh2"
      },
      "outputs": [],
      "source": [
        "import warnings\n",
        "\n",
        "def escalar_variable(palabra, ds_train =x_train_target, ds_test = x_test_target):\n",
        "  warnings.filterwarnings('ignore')\n",
        "  \n",
        "  sscaler=StandardScaler()\n",
        "\n",
        "  sscaler.fit(pd.DataFrame(ds_train[[palabra]]))\n",
        "\n",
        "  ds_train_transform = sscaler.transform(pd.DataFrame(ds_train[palabra]))\n",
        "  ds_test_transform = sscaler.transform(pd.DataFrame(ds_test[palabra]))\n",
        "\n",
        "  ds_train[palabra] = ds_train_transform[:,0]\n",
        "  ds_test[palabra] = ds_test_transform[:,0]\n",
        "  return ds_train, ds_test"
      ]
    },
    {
      "cell_type": "code",
      "source": [
        "x_train_target, x_test_target = escalar_variable('property_surface_total')\n",
        "x_train_target, x_test_target = escalar_variable('property_surface_covered')\n",
        "x_train_target, x_test_target = escalar_variable('latitud')\n",
        "x_train_target, x_test_target = escalar_variable('longitud')\n",
        "x_train_target, x_test_target = escalar_variable('property_rooms')\n",
        "x_train_target, x_test_target = escalar_variable('property_bedrooms')"
      ],
      "metadata": {
        "id": "z9CPtuXA_dh2"
      },
      "execution_count": null,
      "outputs": []
    },
    {
      "cell_type": "code",
      "execution_count": null,
      "metadata": {
        "id": "3gdz9Dl5tkTU",
        "outputId": "196aaeb8-3db2-464d-a2e6-145fcdbb994c",
        "colab": {
          "base_uri": "https://localhost:8080/"
        }
      },
      "outputs": [
        {
          "output_type": "stream",
          "name": "stdout",
          "text": [
            "Model: \"sequential_1\"\n",
            "_________________________________________________________________\n",
            " Layer (type)                Output Shape              Param #   \n",
            "=================================================================\n",
            " dense_8 (Dense)             (None, 30)                270       \n",
            "                                                                 \n",
            " dense_9 (Dense)             (None, 24)                744       \n",
            "                                                                 \n",
            " dense_10 (Dense)            (None, 17)                425       \n",
            "                                                                 \n",
            " dense_11 (Dense)            (None, 12)                216       \n",
            "                                                                 \n",
            " dense_12 (Dense)            (None, 11)                143       \n",
            "                                                                 \n",
            " dense_13 (Dense)            (None, 8)                 96        \n",
            "                                                                 \n",
            " dense_14 (Dense)            (None, 6)                 54        \n",
            "                                                                 \n",
            " dense_15 (Dense)            (None, 3)                 21        \n",
            "                                                                 \n",
            "=================================================================\n",
            "Total params: 1,969\n",
            "Trainable params: 1,969\n",
            "Non-trainable params: 0\n",
            "_________________________________________________________________\n"
          ]
        }
      ],
      "source": [
        "model = keras.Sequential()\n",
        "model.add(layers.Dense(30, activation='relu', input_dim=8))\n",
        "model.add(layers.Dense(24, activation='relu'))\n",
        "model.add(layers.Dense(17, activation='relu'))\n",
        "model.add(layers.Dense(12, activation='relu'))\n",
        "model.add(layers.Dense(11, activation='relu'))\n",
        "model.add(layers.Dense(8, activation='relu'))\n",
        "model.add(layers.Dense(6, activation='relu'))\n",
        "model.add(layers.Dense(3, activation='softmax'))\n",
        "\n",
        "model.compile(optimizer='adam', #adadelta el mas rapido\n",
        "              loss='categorical_crossentropy', \n",
        "              metrics=['accuracy'])\n",
        "\n",
        "model.summary()"
      ]
    },
    {
      "cell_type": "code",
      "source": [
        "y_train_target = pd.get_dummies(y_train_target, columns=[\"tipo_precio_generico\"], drop_first=False)"
      ],
      "metadata": {
        "id": "qijwpiCzFLoL"
      },
      "execution_count": null,
      "outputs": []
    },
    {
      "cell_type": "code",
      "execution_count": null,
      "metadata": {
        "id": "Rv_JPavdtkTU"
      },
      "outputs": [],
      "source": [
        "historia_model=model.fit(x_train_target,y_train_target,epochs=90,batch_size=5000,verbose=False, validation_split=0.33)"
      ]
    },
    {
      "cell_type": "code",
      "source": [
        "historia_model.history.keys()"
      ],
      "metadata": {
        "id": "xzHm-BfqFjJ-",
        "colab": {
          "base_uri": "https://localhost:8080/"
        },
        "outputId": "8d34b9b2-db18-49ad-87a8-a3625d8be22f"
      },
      "execution_count": null,
      "outputs": [
        {
          "output_type": "execute_result",
          "data": {
            "text/plain": [
              "dict_keys(['loss', 'accuracy', 'val_loss', 'val_accuracy'])"
            ]
          },
          "metadata": {},
          "execution_count": 166
        }
      ]
    },
    {
      "cell_type": "code",
      "source": [
        "# summarize history for accuracy\n",
        "plt.plot(historia_model.history['accuracy'])\n",
        "plt.plot(historia_model.history['val_accuracy'])\n",
        "plt.title('model accuracy')\n",
        "plt.ylabel = \"accuracy\"\n",
        "plt.xlabel = \"epoch\"\n",
        "plt.legend(['train', 'test'], loc='upper left')\n",
        "plt.show()\n",
        "# summarize history for loss\n",
        "plt.plot(historia_model.history['loss'])\n",
        "plt.plot(historia_model.history['val_loss'])\n",
        "plt.title('model loss')\n",
        "plt.ylabel = \"loss\"\n",
        "plt.xlabel = \"epoch\"\n",
        "plt.legend(['train', 'test'], loc='upper left')\n",
        "plt.show()"
      ],
      "metadata": {
        "id": "BPbmQ_S8BiIz",
        "colab": {
          "base_uri": "https://localhost:8080/"
        },
        "outputId": "c56935bb-c826-4834-b051-cd0c9b32abe0"
      },
      "execution_count": null,
      "outputs": [
        {
          "output_type": "display_data",
          "data": {
            "text/plain": [
              "<Figure size 432x288 with 1 Axes>"
            ],
            "image/png": "[encoded data removed]"
          },
          "metadata": {
            "needs_background": "light"
          }
        },
        {
          "output_type": "display_data",
          "data": {
            "text/plain": [
              "<Figure size 432x288 with 1 Axes>"
            ],
            "image/png": "[encoded data removed]"
          },
          "metadata": {
            "needs_background": "light"
          }
        }
      ]
    },
    {
      "cell_type": "code",
      "execution_count": null,
      "metadata": {
        "id": "4Y5yXqtYtkTU",
        "outputId": "3422b2df-738d-4f06-881c-66cc0489d7db",
        "colab": {
          "base_uri": "https://localhost:8080/"
        }
      },
      "outputs": [
        {
          "output_type": "stream",
          "name": "stdout",
          "text": [
            "850/850 [==============================] - 1s 814us/step\n"
          ]
        }
      ],
      "source": [
        "y_predic = model.predict(x_test_target)"
      ]
    },
    {
      "cell_type": "code",
      "execution_count": null,
      "metadata": {
        "id": "Gv9CkK-htkTV"
      },
      "outputs": [],
      "source": [
        "y_predic_clases=np.argmax(y_predic,axis=1).tolist()"
      ]
    },
    {
      "cell_type": "code",
      "source": [
        "y_test_target.replace(to_replace=['high_price','low_price', 'medium_price'],value=[0,1,2],inplace=True)"
      ],
      "metadata": {
        "id": "lCPeru163iY_"
      },
      "execution_count": null,
      "outputs": []
    },
    {
      "cell_type": "code",
      "execution_count": null,
      "metadata": {
        "id": "A1za6VPdtkTV",
        "outputId": "54cb067f-7164-4d33-809f-a29101265edd",
        "colab": {
          "base_uri": "https://localhost:8080/",
          "height": 280
        }
      },
      "outputs": [
        {
          "output_type": "display_data",
          "data": {
            "text/plain": [
              "<Figure size 432x288 with 2 Axes>"
            ],
            "image/png": "[encoded data removed]"
          },
          "metadata": {
            "needs_background": "light"
          }
        }
      ],
      "source": [
        "ds_validation=pd.DataFrame(y_predic_clases,y_test_target).reset_index()\n",
        "ds_validation.columns=['y_pred','y_real']\n",
        "\n",
        "tabla_iris=pd.crosstab(ds_validation.y_pred, ds_validation.y_real)\n",
        "grf=sns.heatmap(tabla_iris,annot=True, cmap = 'Blues')\n",
        "plt.show()"
      ]
    },
    {
      "cell_type": "markdown",
      "metadata": {
        "id": "nHkp7IQCq5m5"
      },
      "source": [
        "#Ensambles"
      ]
    },
    {
      "cell_type": "code",
      "source": [
        "columnas_viejas = ['property_rooms', 'property_bedrooms', 'property_surface_total','property_surface_covered', 'latitud', 'longitud',\n",
        "                   'property_type_Departamento','property_type_PH']\n",
        "\n",
        "columnas = ['property_rooms', 'property_bedrooms', 'property_surface_total','property_surface_covered', 'latitud', 'longitud', 'property_type_Departamento',\n",
        "            'property_type_PH', 'amenities', 'piso', 'comuna', 'tiene_patio_o_balcon', 'esta_cerca_de_av']\n",
        "            \n",
        "x_train_target = train_con_dummi[columnas]\n",
        "x_test_target = test_con_dummi[columnas]\n",
        "\n",
        "x_train_target_viejo = train_con_dummi[columnas_viejas]\n",
        "x_test_target_viejo  = test_con_dummi[columnas_viejas]"
      ],
      "metadata": {
        "id": "19ED-DiIfKIq"
      },
      "execution_count": null,
      "outputs": []
    },
    {
      "cell_type": "code",
      "execution_count": null,
      "metadata": {
        "id": "5dTWzECM7uk8"
      },
      "outputs": [],
      "source": [
        "y_train_target = train_con_dummi['tipo_precio_generico'].copy()\n",
        "y_test_target = test_con_dummi['tipo_precio_generico'].copy()"
      ]
    },
    {
      "cell_type": "code",
      "execution_count": null,
      "metadata": {
        "id": "Ximes5-69Caq"
      },
      "outputs": [],
      "source": [
        "import collections\n",
        "def identificar_clasificacion(y_pred, tabla):\n",
        "  counts = collections.Counter(y_pred)\n",
        "  \n",
        "  claves = list(counts.keys())\n",
        "  claves[0]\n",
        "\n",
        "  clase_0 = tabla[0][0]+tabla[1][0]+tabla[2][0]\n",
        "  clase_1 = tabla[0][1]+tabla[1][1]+tabla[2][1]\n",
        "  clase_2 = tabla[0][2]+tabla[1][2]+tabla[2][2]\n",
        "\n",
        "  lista = ['a', 'b', 'c']\n",
        "\n",
        "  for i in range(len(claves)):  \n",
        "    if(counts[claves[i]] == clase_0):\n",
        "      lista[0] = claves[i]\n",
        "    elif(counts[claves[i]] == clase_1):\n",
        "      lista[1] = claves[i]\n",
        "    else:\n",
        "      lista[2] = claves[i]\n",
        "\n",
        "  return lista"
      ]
    },
    {
      "cell_type": "markdown",
      "metadata": {
        "id": "iZGJsoHQ7v2y"
      },
      "source": [
        "##Voting"
      ]
    },
    {
      "cell_type": "markdown",
      "source": [
        "\n",
        "###Dataset con features nuevos"
      ],
      "metadata": {
        "id": "EDc3SyKegzAh"
      }
    },
    {
      "cell_type": "code",
      "execution_count": null,
      "metadata": {
        "id": "v0u0GJ2Eq8DJ"
      },
      "outputs": [],
      "source": [
        "#Clasificador\n",
        "dt = DecisionTreeClassifier()\n",
        "\n",
        "#Metrica\n",
        "dt_scorer_fn = make_scorer(sk.metrics.f1_score, average = 'macro')\n",
        "\n",
        "dt_randomcv = cross_validation_function(x_train_target, y_train_target, base_tree=dt, scorer_fn=dt_scorer_fn)\n",
        "\n",
        "#Creo el árbol con los mejores hiperparámetros\n",
        "dt=DecisionTreeClassifier(random_state=2).set_params(**dt_randomcv.best_params_)"
      ]
    },
    {
      "cell_type": "code",
      "execution_count": null,
      "metadata": {
        "id": "jQ_MD7rRrCyy"
      },
      "outputs": [],
      "source": [
        "from sklearn.ensemble import RandomForestClassifier\n",
        "\n",
        "#Clasificador\n",
        "rmf = RandomForestClassifier()\n",
        "\n",
        "#Metrica\n",
        "rmf_scorer_fn = make_scorer(sk.metrics.f1_score, average = 'macro') \n",
        "\n",
        "rmf_randomcv = cross_validation_function(x_train_target, y_train_target,  base_tree=rmf, scorer_fn=rmf_scorer_fn)\n",
        "\n",
        "#Creo el árbol con los mejores hiperparámetros\n",
        "rmf=RandomForestClassifier(random_state=2).set_params(**rmf_randomcv.best_params_)"
      ]
    },
    {
      "cell_type": "code",
      "execution_count": null,
      "metadata": {
        "id": "Qn45F04YrJa4"
      },
      "outputs": [],
      "source": [
        "from sklearn.ensemble import AdaBoostClassifier\n",
        "\n",
        "#Clasificador\n",
        "ab = AdaBoostClassifier()\n",
        "\n",
        "# Metrica\n",
        "ab_scorer_fn = make_scorer(sk.metrics.f1_score, average = 'macro')\n",
        "\n",
        "ab_params_grid = {'learning_rate':np.linspace(0.01,0.1,10),\n",
        "               'n_estimators': list(range(1,100))}\n",
        "\n",
        "ab_randomcv = cross_validation_function(x_train_target, y_train_target, base_tree=ab, scorer_fn=ab_scorer_fn, params_grid=ab_params_grid)\n",
        "\n",
        "ab=AdaBoostClassifier(random_state=2).set_params(**ab_randomcv.best_params_)"
      ]
    },
    {
      "cell_type": "code",
      "execution_count": null,
      "metadata": {
        "id": "-QNhEC3urYaQ"
      },
      "outputs": [],
      "source": [
        "from sklearn.ensemble import  VotingClassifier\n",
        "vot_clf = VotingClassifier(estimators = [('randomforest', rmf), ('dtree', dt), ('adaboost', ab)], voting = 'soft')"
      ]
    },
    {
      "cell_type": "code",
      "execution_count": null,
      "metadata": {
        "id": "9UUHTMYR6_yi",
        "colab": {
          "base_uri": "https://localhost:8080/"
        },
        "outputId": "354815bb-de0d-4ddb-8452-d429e0b4c2c3"
      },
      "outputs": [
        {
          "output_type": "execute_result",
          "data": {
            "text/plain": [
              "VotingClassifier(estimators=[('randomforest',\n",
              "                              RandomForestClassifier(criterion='entropy',\n",
              "                                                     max_depth=5,\n",
              "                                                     random_state=2)),\n",
              "                             ('dtree',\n",
              "                              DecisionTreeClassifier(criterion='entropy',\n",
              "                                                     max_depth=5,\n",
              "                                                     random_state=2)),\n",
              "                             ('adaboost',\n",
              "                              AdaBoostClassifier(learning_rate=0.1,\n",
              "                                                 n_estimators=84,\n",
              "                                                 random_state=2))],\n",
              "                 voting='soft')"
            ]
          },
          "metadata": {},
          "execution_count": 173
        }
      ],
      "source": [
        "vot_clf"
      ]
    },
    {
      "cell_type": "code",
      "execution_count": null,
      "metadata": {
        "id": "9hFBDIgo7Ihz"
      },
      "outputs": [],
      "source": [
        "#Entreno el ensemble\n",
        "vot_clf.fit(x_train_target, y_train_target)\n",
        "\n",
        "#Evaluo en conjunto de test\n",
        "y_pred_vot = vot_clf.predict(x_test_target)"
      ]
    },
    {
      "cell_type": "code",
      "execution_count": null,
      "metadata": {
        "id": "HvgtSLvXUAwx",
        "colab": {
          "base_uri": "https://localhost:8080/"
        },
        "outputId": "3c69a191-945f-4ed1-dd92-f2f0d3ef8ab1"
      },
      "outputs": [
        {
          "output_type": "stream",
          "name": "stdout",
          "text": [
            "Accuracy: 0.6019499632082413\n",
            "Recall: 0.5393577127483185\n",
            "f1 score: 0.5594065070835804\n"
          ]
        }
      ],
      "source": [
        "# Evalúo en el set de test\n",
        "vot_accuracy=accuracy_score(y_test_target,y_pred_vot)\n",
        "vot_recall=recall_score(y_test_target,y_pred_vot, average='macro')\n",
        "vot_f1=f1_score(y_test_target,y_pred_vot, average='macro')\n",
        "\n",
        "print(\"Accuracy: \"+str(vot_accuracy))\n",
        "print(\"Recall: \"+str(vot_recall))\n",
        "print(\"f1 score: \"+str(vot_f1))"
      ]
    },
    {
      "cell_type": "code",
      "execution_count": null,
      "metadata": {
        "id": "737kdMO5XPXm",
        "colab": {
          "base_uri": "https://localhost:8080/",
          "height": 298
        },
        "outputId": "9be7ce76-2bfe-4d31-e881-18d2d2c8b3bb"
      },
      "outputs": [
        {
          "output_type": "execute_result",
          "data": {
            "text/plain": [
              "[Text(32.09375, 0.5, 'True'), Text(0.5, 14.09375, 'Predicted')]"
            ]
          },
          "metadata": {},
          "execution_count": 176
        },
        {
          "output_type": "display_data",
          "data": {
            "text/plain": [
              "<Figure size 432x288 with 2 Axes>"
            ],
            "image/png": "[encoded data removed]"
          },
          "metadata": {
            "needs_background": "light"
          }
        }
      ],
      "source": [
        "#Creo la matriz de confusión\n",
        "vot_tabla=confusion_matrix(y_test_target, y_pred_vot)\n",
        "\n",
        "vot_columnas=identificar_clasificacion(y_pred_vot,vot_tabla)\n",
        "\n",
        "#Grafico la matriz de confusión\n",
        "sns.heatmap(vot_tabla,cmap='GnBu',annot=True,fmt='g', yticklabels = vot_columnas, xticklabels = vot_columnas).set(xlabel=\"Predicted\", ylabel=\"True\")"
      ]
    },
    {
      "cell_type": "markdown",
      "source": [
        "###Dataset con features TP1"
      ],
      "metadata": {
        "id": "tvEbI_mHg-ti"
      }
    },
    {
      "cell_type": "code",
      "execution_count": null,
      "metadata": {
        "id": "ouh3dcsuhF6V"
      },
      "outputs": [],
      "source": [
        "#Clasificador\n",
        "dt_viejo = DecisionTreeClassifier()\n",
        "\n",
        "#Metrica\n",
        "dt_scorer_fn_viejo = make_scorer(sk.metrics.f1_score, average = 'macro')\n",
        "\n",
        "dt_randomcv_viejo = cross_validation_function(x_train_target_viejo, y_train_target, base_tree=dt_viejo, scorer_fn=dt_scorer_fn_viejo)\n",
        "\n",
        "#Creo el árbol con los mejores hiperparámetros\n",
        "dt_viejo=DecisionTreeClassifier(random_state=2).set_params(**dt_randomcv_viejo.best_params_)"
      ]
    },
    {
      "cell_type": "code",
      "execution_count": null,
      "metadata": {
        "id": "bakWacqIhF6V"
      },
      "outputs": [],
      "source": [
        "from sklearn.ensemble import RandomForestClassifier\n",
        "\n",
        "#Clasificador\n",
        "rmf_viejo = RandomForestClassifier()\n",
        "\n",
        "#Metrica\n",
        "rmf_scorer_fn_viejo = make_scorer(sk.metrics.f1_score, average = 'macro') \n",
        "\n",
        "rmf_randomcv_viejo = cross_validation_function(x_train_target_viejo, y_train_target,  base_tree=rmf_viejo, scorer_fn=rmf_scorer_fn_viejo)\n",
        "\n",
        "#Creo el árbol con los mejores hiperparámetros\n",
        "rmf_viejo=RandomForestClassifier(random_state=2).set_params(**rmf_randomcv_viejo.best_params_)"
      ]
    },
    {
      "cell_type": "code",
      "execution_count": null,
      "metadata": {
        "id": "oeFhYhgWhF6V"
      },
      "outputs": [],
      "source": [
        "from sklearn.ensemble import AdaBoostClassifier\n",
        "\n",
        "#Clasificador\n",
        "ab_viejo = AdaBoostClassifier()\n",
        "\n",
        "# Metrica\n",
        "ab_scorer_fn_viejo = make_scorer(sk.metrics.f1_score, average = 'macro')\n",
        "\n",
        "ab_params_grid = {'learning_rate':np.linspace(0.01,0.1,10),\n",
        "               'n_estimators': list(range(1,100))}\n",
        "\n",
        "ab_randomcv_viejo = cross_validation_function(x_train_target_viejo, y_train_target, base_tree=ab_viejo, scorer_fn=ab_scorer_fn_viejo, params_grid=ab_params_grid)\n",
        "\n",
        "ab_viejo=AdaBoostClassifier(random_state=2).set_params(**ab_randomcv_viejo.best_params_)"
      ]
    },
    {
      "cell_type": "code",
      "execution_count": null,
      "metadata": {
        "id": "CC1DqxCHhF6V"
      },
      "outputs": [],
      "source": [
        "from sklearn.ensemble import  VotingClassifier\n",
        "vot_clf_viejo = VotingClassifier(estimators = [('randomforest', rmf_viejo), ('dtree', dt_viejo), ('adaboost', ab_viejo)], voting= 'soft')"
      ]
    },
    {
      "cell_type": "code",
      "execution_count": null,
      "metadata": {
        "colab": {
          "base_uri": "https://localhost:8080/"
        },
        "outputId": "9bbd58be-1c8f-4413-fc54-471d41fce5e7",
        "id": "KSadaqwEhF6V"
      },
      "outputs": [
        {
          "output_type": "execute_result",
          "data": {
            "text/plain": [
              "VotingClassifier(estimators=[('randomforest',\n",
              "                              RandomForestClassifier(criterion='entropy',\n",
              "                                                     max_depth=5,\n",
              "                                                     random_state=2)),\n",
              "                             ('dtree',\n",
              "                              DecisionTreeClassifier(criterion='entropy',\n",
              "                                                     max_depth=5,\n",
              "                                                     random_state=2)),\n",
              "                             ('adaboost',\n",
              "                              AdaBoostClassifier(learning_rate=0.1,\n",
              "                                                 n_estimators=84,\n",
              "                                                 random_state=2))],\n",
              "                 voting='soft')"
            ]
          },
          "metadata": {},
          "execution_count": 182
        }
      ],
      "source": [
        "vot_clf_viejo"
      ]
    },
    {
      "cell_type": "code",
      "execution_count": null,
      "metadata": {
        "id": "cVXzjAq8hF6V"
      },
      "outputs": [],
      "source": [
        "#Entreno el ensemble\n",
        "vot_clf_viejo.fit(x_train_target_viejo, y_train_target)\n",
        "\n",
        "#Evaluo en conjunto de test\n",
        "y_pred_vot = vot_clf_viejo.predict(x_test_target_viejo)"
      ]
    },
    {
      "cell_type": "code",
      "execution_count": null,
      "metadata": {
        "colab": {
          "base_uri": "https://localhost:8080/"
        },
        "outputId": "e2c71c69-7b6f-4b71-d35e-2356fbcfa979",
        "id": "qS4KiheahF6V"
      },
      "outputs": [
        {
          "output_type": "stream",
          "name": "stdout",
          "text": [
            "Accuracy: 0.5838852097130243\n",
            "Recall: 0.5065272837896727\n",
            "f1 score: 0.522733325552808\n"
          ]
        }
      ],
      "source": [
        "# Evalúo en el set de test\n",
        "vot_accuracy_viejo=accuracy_score(y_test_target,y_pred_vot)\n",
        "vot_recall_viejo=recall_score(y_test_target,y_pred_vot, average='macro')\n",
        "vot_f1_viejo=f1_score(y_test_target,y_pred_vot, average='macro')\n",
        "\n",
        "print(\"Accuracy: \"+str(vot_accuracy_viejo))\n",
        "print(\"Recall: \"+str(vot_recall_viejo))\n",
        "print(\"f1 score: \"+str(vot_f1_viejo))"
      ]
    },
    {
      "cell_type": "code",
      "execution_count": null,
      "metadata": {
        "colab": {
          "base_uri": "https://localhost:8080/",
          "height": 298
        },
        "outputId": "c2621fde-4a35-4e9c-9a66-7f3c5ba27825",
        "id": "JpW5HyINhF6V"
      },
      "outputs": [
        {
          "output_type": "execute_result",
          "data": {
            "text/plain": [
              "[Text(32.09375, 0.5, 'True'), Text(0.5, 14.09375, 'Predicted')]"
            ]
          },
          "metadata": {},
          "execution_count": 185
        },
        {
          "output_type": "display_data",
          "data": {
            "text/plain": [
              "<Figure size 432x288 with 2 Axes>"
            ],
            "image/png": "[encoded data removed]"
          },
          "metadata": {
            "needs_background": "light"
          }
        }
      ],
      "source": [
        "#Creo la matriz de confusión\n",
        "vot_tabla_viejo=confusion_matrix(y_test_target, y_pred_vot)\n",
        "\n",
        "vot_columnas_viejo=identificar_clasificacion(y_pred_vot,vot_tabla)\n",
        "\n",
        "#Grafico la matriz de confusión\n",
        "sns.heatmap(vot_tabla_viejo,cmap='GnBu',annot=True,fmt='g', yticklabels = vot_columnas, xticklabels = vot_columnas).set(xlabel=\"Predicted\", ylabel=\"True\")"
      ]
    },
    {
      "cell_type": "markdown",
      "metadata": {
        "id": "GC0ith7r9i3q"
      },
      "source": [
        "##Stacking"
      ]
    },
    {
      "cell_type": "markdown",
      "source": [
        "###Dataset con features nuevos"
      ],
      "metadata": {
        "id": "HkBzYwX7if0S"
      }
    },
    {
      "cell_type": "code",
      "source": [
        "from sklearn.ensemble import RandomForestClassifier \n",
        "from sklearn.linear_model import LogisticRegression \n",
        "from sklearn.neighbors import KNeighborsClassifier\n",
        "from sklearn.svm import SVC\n",
        "from sklearn.neural_network import MLPClassifier\n",
        "from sklearn.linear_model import LogisticRegressionCV\n",
        "\n",
        "from sklearn.model_selection import cross_val_score, RepeatedStratifiedKFold\n",
        "from sklearn.datasets import make_classification\n",
        "from sklearn.model_selection import train_test_split\n",
        "from sklearn.metrics import accuracy_score\n",
        "\n",
        "from collections import defaultdict\n",
        "\n",
        "import plotly.graph_objects as go\n",
        "%matplotlib inline"
      ],
      "metadata": {
        "id": "YuM1Yy1hb3eS"
      },
      "execution_count": null,
      "outputs": []
    },
    {
      "cell_type": "code",
      "execution_count": null,
      "metadata": {
        "id": "32J-g4eUuvLv"
      },
      "outputs": [],
      "source": [
        "#Funcion para evaluar los modelos 5fold -CV (repite 2 veces)\n",
        "def evaluate_model(model, x, y):\n",
        "    cv = RepeatedStratifiedKFold(n_splits=5, n_repeats=2, random_state=1)\n",
        "    scores = cross_val_score(model, x, y, scoring='accuracy', cv=cv, verbose=1, n_jobs=3, error_score='raise')\n",
        "    return scores"
      ]
    },
    {
      "cell_type": "code",
      "execution_count": null,
      "metadata": {
        "id": "HUq4CDj3vA9Y"
      },
      "outputs": [],
      "source": [
        "#Funcion para plotear a performance\n",
        "def plot_results(model_scores, name):\n",
        "    \n",
        "    model_names = list(model_scores.keys())\n",
        "    results = [model_scores[model] for model in model_names]\n",
        "    fig = go.Figure()\n",
        "    for model, result in zip(model_names, results):\n",
        "        fig.add_trace(go.Box(\n",
        "            y=result,\n",
        "            name=model,\n",
        "            boxpoints='all',\n",
        "            jitter=0.5,\n",
        "            whiskerwidth=0.2,\n",
        "            marker_size=2,\n",
        "            line_width=1)\n",
        "        )\n",
        "    \n",
        "\n",
        "    fig.update_layout(\n",
        "    title='Performance of Different Models Using 5-Fold Cross-Validation',\n",
        "    paper_bgcolor='rgb(243, 243, 243)',\n",
        "    plot_bgcolor='rgb(243, 243, 243)',\n",
        "    xaxis_title='Model',\n",
        "    yaxis_title='Accuracy',\n",
        "    showlegend=False)\n",
        "    fig.show()"
      ]
    },
    {
      "cell_type": "code",
      "execution_count": null,
      "metadata": {
        "id": "wbyuajOWZXAu",
        "colab": {
          "base_uri": "https://localhost:8080/"
        },
        "outputId": "338fbfa5-4a03-4bb2-d23e-a61baced281f"
      },
      "outputs": [
        {
          "output_type": "stream",
          "name": "stdout",
          "text": [
            "Evaluating random_forest\n"
          ]
        },
        {
          "output_type": "stream",
          "name": "stderr",
          "text": [
            "[Parallel(n_jobs=3)]: Using backend LokyBackend with 3 concurrent workers.\n",
            "[Parallel(n_jobs=3)]: Done  10 out of  10 | elapsed:   50.2s finished\n",
            "[Parallel(n_jobs=3)]: Using backend LokyBackend with 3 concurrent workers.\n"
          ]
        },
        {
          "output_type": "stream",
          "name": "stdout",
          "text": [
            "Evaluating adaBoost\n"
          ]
        },
        {
          "output_type": "stream",
          "name": "stderr",
          "text": [
            "[Parallel(n_jobs=3)]: Done  10 out of  10 | elapsed:  1.7min finished\n",
            "[Parallel(n_jobs=3)]: Using backend LokyBackend with 3 concurrent workers.\n"
          ]
        },
        {
          "output_type": "stream",
          "name": "stdout",
          "text": [
            "Evaluating DecisionTree\n"
          ]
        },
        {
          "output_type": "stream",
          "name": "stderr",
          "text": [
            "[Parallel(n_jobs=3)]: Done  10 out of  10 | elapsed:    2.4s finished\n"
          ]
        }
      ],
      "source": [
        "#Modelos Base\n",
        "base_models = {'random_forest':RandomForestClassifier(random_state=2).set_params(**rmf_randomcv.best_params_),\n",
        "               'adaBoost': AdaBoostClassifier(random_state=2).set_params(**ab_randomcv.best_params_),\n",
        "               'DecisionTree': DecisionTreeClassifier(random_state=2).set_params(**dt_randomcv.best_params_)}\n",
        "\n",
        "#Guarda los scores de cada modelo\n",
        "model_scores = defaultdict()\n",
        "\n",
        "#Entreno los clasificadores\n",
        "for name, model in base_models.items():\n",
        "    print('Evaluating {}'.format(name))\n",
        "    scores = evaluate_model(model, x_train_target, y_train_target)\n",
        "    model_scores[name] = scores"
      ]
    },
    {
      "cell_type": "code",
      "execution_count": null,
      "metadata": {
        "id": "5f5BaM07aRH3"
      },
      "outputs": [],
      "source": [
        "from sklearn.ensemble import StackingClassifier\n",
        "\n",
        "# #Modelos Base\n",
        "base_models = [('random_forest',RandomForestClassifier(random_state=2).set_params(**rmf_randomcv.best_params_)),\n",
        "               ('adaBoost', AdaBoostClassifier(random_state=2).set_params(**ab_randomcv.best_params_)),\n",
        "               ('DecisionTree', DecisionTreeClassifier(random_state=2).set_params(**dt_randomcv.best_params_))]\n",
        "\n",
        "#Meta Modelo\n",
        "meta_model = LogisticRegressionCV()\n",
        "\n",
        "#Ensemble Stacking\n",
        "stacking_model = StackingClassifier(estimators=base_models, \n",
        "                                    final_estimator=meta_model, \n",
        "                                    passthrough=True, \n",
        "                                    cv=5,\n",
        "                                    verbose=2)"
      ]
    },
    {
      "cell_type": "code",
      "execution_count": null,
      "metadata": {
        "id": "rBJ-OYP8aoGu",
        "colab": {
          "base_uri": "https://localhost:8080/"
        },
        "outputId": "e9ea639a-a72e-4cec-dc8d-431d365c128b"
      },
      "outputs": [
        {
          "output_type": "stream",
          "name": "stderr",
          "text": [
            "[Parallel(n_jobs=3)]: Using backend LokyBackend with 3 concurrent workers.\n",
            "[Parallel(n_jobs=3)]: Done  10 out of  10 | elapsed: 21.2min finished\n"
          ]
        }
      ],
      "source": [
        "#Performance el modelo en entrenamiento\n",
        "stacking_scores = evaluate_model(stacking_model, x_train_target, y_train_target)\n",
        "model_scores['stacking'] = stacking_scores"
      ]
    },
    {
      "cell_type": "code",
      "source": [
        "model_scores"
      ],
      "metadata": {
        "colab": {
          "base_uri": "https://localhost:8080/"
        },
        "id": "aWsChCZgmwJl",
        "outputId": "9ca5071d-14b3-434a-a27e-1db6fa81dca5"
      },
      "execution_count": null,
      "outputs": [
        {
          "output_type": "execute_result",
          "data": {
            "text/plain": [
              "defaultdict(None,\n",
              "            {'random_forest': array([0.61306612, 0.61732681, 0.60624951, 0.60727531, 0.61477156,\n",
              "                    0.61054127, 0.61551207, 0.61090507, 0.61208869, 0.60640732]),\n",
              "             'adaBoost': array([0.55688812, 0.56312135, 0.55874694, 0.55851022, 0.5573266 ,\n",
              "                    0.55783494, 0.5656462 , 0.5613509 , 0.55606407, 0.55401247]),\n",
              "             'DecisionTree': array([0.59578665, 0.60612277, 0.59891107, 0.60482916, 0.60901128,\n",
              "                    0.59673347, 0.61133028, 0.58991557, 0.60261974, 0.59906889]),\n",
              "             'stacking': array([0.62261322, 0.62931987, 0.62282017, 0.63789158, 0.63086878,\n",
              "                    0.62939877, 0.63208143, 0.63063205, 0.62621321, 0.62211   ])})"
            ]
          },
          "metadata": {},
          "execution_count": 192
        }
      ]
    },
    {
      "cell_type": "code",
      "execution_count": null,
      "metadata": {
        "id": "ijQJJcJIayzo",
        "colab": {
          "base_uri": "https://localhost:8080/",
          "height": 542
        },
        "outputId": "9ac4364d-b4d5-47ce-f292-a68bc8984479"
      },
      "outputs": [
        {
          "output_type": "display_data",
          "data": {
            "text/html": [
              "<html>\n",
              "<head><meta charset=\"utf-8\" /></head>\n",
              "<body>\n",
              "    <div>            <script src=\"https://cdnjs.cloudflare.com/ajax/libs/mathjax/2.7.5/MathJax.js?config=TeX-AMS-MML_SVG\"></script><script type=\"text/javascript\">if (window.MathJax) {MathJax.Hub.Config({SVG: {font: \"STIX-Web\"}});}</script>                <script type=\"text/javascript\">window.PlotlyConfig = {MathJaxConfig: 'local'};</script>\n",
              "        <script src=\"https://cdn.plot.ly/plotly-2.8.3.min.js\"></script>                <div id=\"e9c71018-f809-4310-ac24-a0b902d09b0a\" class=\"plotly-graph-div\" style=\"height:525px; width:100%;\"></div>            <script type=\"text/javascript\">                                    window.PLOTLYENV=window.PLOTLYENV || {};                                    if (document.getElementById(\"e9c71018-f809-4310-ac24-a0b902d09b0a\")) {                    Plotly.newPlot(                        \"e9c71018-f809-4310-ac24-a0b902d09b0a\",                        [{\"boxpoints\":\"all\",\"jitter\":0.5,\"line\":{\"width\":1},\"marker\":{\"size\":2},\"name\":\"random_forest\",\"whiskerwidth\":0.2,\"y\":[0.6130661196149597,0.617326810793751,0.6062495068255346,0.6072753097135642,0.6147715615876272,0.6105412655830835,0.6155120719583399,0.6109050737789,0.6120886924958573,0.6064073226544623],\"type\":\"box\"},{\"boxpoints\":\"all\",\"jitter\":0.5,\"line\":{\"width\":1},\"marker\":{\"size\":2},\"name\":\"adaBoost\",\"whiskerwidth\":0.2,\"y\":[0.5568881174057125,0.5631213507969071,0.5587469423183146,0.5585102185749231,0.5573265998579657,0.5578349376676661,0.5656462048287834,0.5613509034956206,0.5560640732265446,0.5540124674504853],\"type\":\"box\"},{\"boxpoints\":\"all\",\"jitter\":0.5,\"line\":{\"width\":1},\"marker\":{\"size\":2},\"name\":\"DecisionTree\",\"whiskerwidth\":0.2,\"y\":[0.5957866498343064,0.6061227710273,0.5989110707803993,0.6048291643651859,0.6090112838317683,0.5967334700962601,0.6113302824680448,0.5899155685315237,0.6026197427601988,0.5990688866093269],\"type\":\"box\"},{\"boxpoints\":\"all\",\"jitter\":0.5,\"line\":{\"width\":1},\"marker\":{\"size\":2},\"name\":\"stacking\",\"whiskerwidth\":0.2,\"y\":[0.6226132239229919,0.6293198674451633,0.622820168862937,0.6378915805255267,0.6308687761382467,0.6293987691336594,0.632081426542528,0.6306320523948552,0.6262132091848812,0.6221099976327625],\"type\":\"box\"}],                        {\"template\":{\"data\":{\"bar\":[{\"error_x\":{\"color\":\"#2a3f5f\"},\"error_y\":{\"color\":\"#2a3f5f\"},\"marker\":{\"line\":{\"color\":\"#E5ECF6\",\"width\":0.5},\"pattern\":{\"fillmode\":\"overlay\",\"size\":10,\"solidity\":0.2}},\"type\":\"bar\"}],\"barpolar\":[{\"marker\":{\"line\":{\"color\":\"#E5ECF6\",\"width\":0.5},\"pattern\":{\"fillmode\":\"overlay\",\"size\":10,\"solidity\":0.2}},\"type\":\"barpolar\"}],\"carpet\":[{\"aaxis\":{\"endlinecolor\":\"#2a3f5f\",\"gridcolor\":\"white\",\"linecolor\":\"white\",\"minorgridcolor\":\"white\",\"startlinecolor\":\"#2a3f5f\"},\"baxis\":{\"endlinecolor\":\"#2a3f5f\",\"gridcolor\":\"white\",\"linecolor\":\"white\",\"minorgridcolor\":\"white\",\"startlinecolor\":\"#2a3f5f\"},\"type\":\"carpet\"}],\"choropleth\":[{\"colorbar\":{\"outlinewidth\":0,\"ticks\":\"\"},\"type\":\"choropleth\"}],\"contour\":[{\"colorbar\":{\"outlinewidth\":0,\"ticks\":\"\"},\"colorscale\":[[0.0,\"#0d0887\"],[0.1111111111111111,\"#46039f\"],[0.2222222222222222,\"#7201a8\"],[0.3333333333333333,\"#9c179e\"],[0.4444444444444444,\"#bd3786\"],[0.5555555555555556,\"#d8576b\"],[0.6666666666666666,\"#ed7953\"],[0.7777777777777778,\"#fb9f3a\"],[0.8888888888888888,\"#fdca26\"],[1.0,\"#f0f921\"]],\"type\":\"contour\"}],\"contourcarpet\":[{\"colorbar\":{\"outlinewidth\":0,\"ticks\":\"\"},\"type\":\"contourcarpet\"}],\"heatmap\":[{\"colorbar\":{\"outlinewidth\":0,\"ticks\":\"\"},\"colorscale\":[[0.0,\"#0d0887\"],[0.1111111111111111,\"#46039f\"],[0.2222222222222222,\"#7201a8\"],[0.3333333333333333,\"#9c179e\"],[0.4444444444444444,\"#bd3786\"],[0.5555555555555556,\"#d8576b\"],[0.6666666666666666,\"#ed7953\"],[0.7777777777777778,\"#fb9f3a\"],[0.8888888888888888,\"#fdca26\"],[1.0,\"#f0f921\"]],\"type\":\"heatmap\"}],\"heatmapgl\":[{\"colorbar\":{\"outlinewidth\":0,\"ticks\":\"\"},\"colorscale\":[[0.0,\"#0d0887\"],[0.1111111111111111,\"#46039f\"],[0.2222222222222222,\"#7201a8\"],[0.3333333333333333,\"#9c179e\"],[0.4444444444444444,\"#bd3786\"],[0.5555555555555556,\"#d8576b\"],[0.6666666666666666,\"#ed7953\"],[0.7777777777777778,\"#fb9f3a\"],[0.8888888888888888,\"#fdca26\"],[1.0,\"#f0f921\"]],\"type\":\"heatmapgl\"}],\"histogram\":[{\"marker\":{\"pattern\":{\"fillmode\":\"overlay\",\"size\":10,\"solidity\":0.2}},\"type\":\"histogram\"}],\"histogram2d\":[{\"colorbar\":{\"outlinewidth\":0,\"ticks\":\"\"},\"colorscale\":[[0.0,\"#0d0887\"],[0.1111111111111111,\"#46039f\"],[0.2222222222222222,\"#7201a8\"],[0.3333333333333333,\"#9c179e\"],[0.4444444444444444,\"#bd3786\"],[0.5555555555555556,\"#d8576b\"],[0.6666666666666666,\"#ed7953\"],[0.7777777777777778,\"#fb9f3a\"],[0.8888888888888888,\"#fdca26\"],[1.0,\"#f0f921\"]],\"type\":\"histogram2d\"}],\"histogram2dcontour\":[{\"colorbar\":{\"outlinewidth\":0,\"ticks\":\"\"},\"colorscale\":[[0.0,\"#0d0887\"],[0.1111111111111111,\"#46039f\"],[0.2222222222222222,\"#7201a8\"],[0.3333333333333333,\"#9c179e\"],[0.4444444444444444,\"#bd3786\"],[0.5555555555555556,\"#d8576b\"],[0.6666666666666666,\"#ed7953\"],[0.7777777777777778,\"#fb9f3a\"],[0.8888888888888888,\"#fdca26\"],[1.0,\"#f0f921\"]],\"type\":\"histogram2dcontour\"}],\"mesh3d\":[{\"colorbar\":{\"outlinewidth\":0,\"ticks\":\"\"},\"type\":\"mesh3d\"}],\"parcoords\":[{\"line\":{\"colorbar\":{\"outlinewidth\":0,\"ticks\":\"\"}},\"type\":\"parcoords\"}],\"pie\":[{\"automargin\":true,\"type\":\"pie\"}],\"scatter\":[{\"marker\":{\"colorbar\":{\"outlinewidth\":0,\"ticks\":\"\"}},\"type\":\"scatter\"}],\"scatter3d\":[{\"line\":{\"colorbar\":{\"outlinewidth\":0,\"ticks\":\"\"}},\"marker\":{\"colorbar\":{\"outlinewidth\":0,\"ticks\":\"\"}},\"type\":\"scatter3d\"}],\"scattercarpet\":[{\"marker\":{\"colorbar\":{\"outlinewidth\":0,\"ticks\":\"\"}},\"type\":\"scattercarpet\"}],\"scattergeo\":[{\"marker\":{\"colorbar\":{\"outlinewidth\":0,\"ticks\":\"\"}},\"type\":\"scattergeo\"}],\"scattergl\":[{\"marker\":{\"colorbar\":{\"outlinewidth\":0,\"ticks\":\"\"}},\"type\":\"scattergl\"}],\"scattermapbox\":[{\"marker\":{\"colorbar\":{\"outlinewidth\":0,\"ticks\":\"\"}},\"type\":\"scattermapbox\"}],\"scatterpolar\":[{\"marker\":{\"colorbar\":{\"outlinewidth\":0,\"ticks\":\"\"}},\"type\":\"scatterpolar\"}],\"scatterpolargl\":[{\"marker\":{\"colorbar\":{\"outlinewidth\":0,\"ticks\":\"\"}},\"type\":\"scatterpolargl\"}],\"scatterternary\":[{\"marker\":{\"colorbar\":{\"outlinewidth\":0,\"ticks\":\"\"}},\"type\":\"scatterternary\"}],\"surface\":[{\"colorbar\":{\"outlinewidth\":0,\"ticks\":\"\"},\"colorscale\":[[0.0,\"#0d0887\"],[0.1111111111111111,\"#46039f\"],[0.2222222222222222,\"#7201a8\"],[0.3333333333333333,\"#9c179e\"],[0.4444444444444444,\"#bd3786\"],[0.5555555555555556,\"#d8576b\"],[0.6666666666666666,\"#ed7953\"],[0.7777777777777778,\"#fb9f3a\"],[0.8888888888888888,\"#fdca26\"],[1.0,\"#f0f921\"]],\"type\":\"surface\"}],\"table\":[{\"cells\":{\"fill\":{\"color\":\"#EBF0F8\"},\"line\":{\"color\":\"white\"}},\"header\":{\"fill\":{\"color\":\"#C8D4E3\"},\"line\":{\"color\":\"white\"}},\"type\":\"table\"}]},\"layout\":{\"annotationdefaults\":{\"arrowcolor\":\"#2a3f5f\",\"arrowhead\":0,\"arrowwidth\":1},\"autotypenumbers\":\"strict\",\"coloraxis\":{\"colorbar\":{\"outlinewidth\":0,\"ticks\":\"\"}},\"colorscale\":{\"diverging\":[[0,\"#8e0152\"],[0.1,\"#c51b7d\"],[0.2,\"#de77ae\"],[0.3,\"#f1b6da\"],[0.4,\"#fde0ef\"],[0.5,\"#f7f7f7\"],[0.6,\"#e6f5d0\"],[0.7,\"#b8e186\"],[0.8,\"#7fbc41\"],[0.9,\"#4d9221\"],[1,\"#276419\"]],\"sequential\":[[0.0,\"#0d0887\"],[0.1111111111111111,\"#46039f\"],[0.2222222222222222,\"#7201a8\"],[0.3333333333333333,\"#9c179e\"],[0.4444444444444444,\"#bd3786\"],[0.5555555555555556,\"#d8576b\"],[0.6666666666666666,\"#ed7953\"],[0.7777777777777778,\"#fb9f3a\"],[0.8888888888888888,\"#fdca26\"],[1.0,\"#f0f921\"]],\"sequentialminus\":[[0.0,\"#0d0887\"],[0.1111111111111111,\"#46039f\"],[0.2222222222222222,\"#7201a8\"],[0.3333333333333333,\"#9c179e\"],[0.4444444444444444,\"#bd3786\"],[0.5555555555555556,\"#d8576b\"],[0.6666666666666666,\"#ed7953\"],[0.7777777777777778,\"#fb9f3a\"],[0.8888888888888888,\"#fdca26\"],[1.0,\"#f0f921\"]]},\"colorway\":[\"#636efa\",\"#EF553B\",\"#00cc96\",\"#ab63fa\",\"#FFA15A\",\"#19d3f3\",\"#FF6692\",\"#B6E880\",\"#FF97FF\",\"#FECB52\"],\"font\":{\"color\":\"#2a3f5f\"},\"geo\":{\"bgcolor\":\"white\",\"lakecolor\":\"white\",\"landcolor\":\"#E5ECF6\",\"showlakes\":true,\"showland\":true,\"subunitcolor\":\"white\"},\"hoverlabel\":{\"align\":\"left\"},\"hovermode\":\"closest\",\"mapbox\":{\"style\":\"light\"},\"paper_bgcolor\":\"white\",\"plot_bgcolor\":\"#E5ECF6\",\"polar\":{\"angularaxis\":{\"gridcolor\":\"white\",\"linecolor\":\"white\",\"ticks\":\"\"},\"bgcolor\":\"#E5ECF6\",\"radialaxis\":{\"gridcolor\":\"white\",\"linecolor\":\"white\",\"ticks\":\"\"}},\"scene\":{\"xaxis\":{\"backgroundcolor\":\"#E5ECF6\",\"gridcolor\":\"white\",\"gridwidth\":2,\"linecolor\":\"white\",\"showbackground\":true,\"ticks\":\"\",\"zerolinecolor\":\"white\"},\"yaxis\":{\"backgroundcolor\":\"#E5ECF6\",\"gridcolor\":\"white\",\"gridwidth\":2,\"linecolor\":\"white\",\"showbackground\":true,\"ticks\":\"\",\"zerolinecolor\":\"white\"},\"zaxis\":{\"backgroundcolor\":\"#E5ECF6\",\"gridcolor\":\"white\",\"gridwidth\":2,\"linecolor\":\"white\",\"showbackground\":true,\"ticks\":\"\",\"zerolinecolor\":\"white\"}},\"shapedefaults\":{\"line\":{\"color\":\"#2a3f5f\"}},\"ternary\":{\"aaxis\":{\"gridcolor\":\"white\",\"linecolor\":\"white\",\"ticks\":\"\"},\"baxis\":{\"gridcolor\":\"white\",\"linecolor\":\"white\",\"ticks\":\"\"},\"bgcolor\":\"#E5ECF6\",\"caxis\":{\"gridcolor\":\"white\",\"linecolor\":\"white\",\"ticks\":\"\"}},\"title\":{\"x\":0.05},\"xaxis\":{\"automargin\":true,\"gridcolor\":\"white\",\"linecolor\":\"white\",\"ticks\":\"\",\"title\":{\"standoff\":15},\"zerolinecolor\":\"white\",\"zerolinewidth\":2},\"yaxis\":{\"automargin\":true,\"gridcolor\":\"white\",\"linecolor\":\"white\",\"ticks\":\"\",\"title\":{\"standoff\":15},\"zerolinecolor\":\"white\",\"zerolinewidth\":2}}},\"title\":{\"text\":\"Performance of Different Models Using 5-Fold Cross-Validation\"},\"paper_bgcolor\":\"rgb(243, 243, 243)\",\"plot_bgcolor\":\"rgb(243, 243, 243)\",\"xaxis\":{\"title\":{\"text\":\"Model\"}},\"yaxis\":{\"title\":{\"text\":\"Accuracy\"}},\"showlegend\":false},                        {\"responsive\": true}                    ).then(function(){\n",
              "                            \n",
              "var gd = document.getElementById('e9c71018-f809-4310-ac24-a0b902d09b0a');\n",
              "var x = new MutationObserver(function (mutations, observer) {{\n",
              "        var display = window.getComputedStyle(gd).display;\n",
              "        if (!display || display === 'none') {{\n",
              "            console.log([gd, 'removed!']);\n",
              "            Plotly.purge(gd);\n",
              "            observer.disconnect();\n",
              "        }}\n",
              "}});\n",
              "\n",
              "// Listen for the removal of the full notebook cells\n",
              "var notebookContainer = gd.closest('#notebook-container');\n",
              "if (notebookContainer) {{\n",
              "    x.observe(notebookContainer, {childList: true});\n",
              "}}\n",
              "\n",
              "// Listen for the clearing of the current output cell\n",
              "var outputEl = gd.closest('.output');\n",
              "if (outputEl) {{\n",
              "    x.observe(outputEl, {childList: true});\n",
              "}}\n",
              "\n",
              "                        })                };                            </script>        </div>\n",
              "</body>\n",
              "</html>"
            ]
          },
          "metadata": {}
        }
      ],
      "source": [
        "#Grafico performance\n",
        "plot_results(model_scores, name='stacking_model_cv')"
      ]
    },
    {
      "cell_type": "code",
      "execution_count": null,
      "metadata": {
        "id": "w7cjJgj13yie",
        "colab": {
          "base_uri": "https://localhost:8080/"
        },
        "outputId": "e5c09465-d217-4e89-a7e1-c261491f8798"
      },
      "outputs": [
        {
          "output_type": "stream",
          "name": "stderr",
          "text": [
            "[Parallel(n_jobs=1)]: Using backend SequentialBackend with 1 concurrent workers.\n",
            "[Parallel(n_jobs=1)]: Done   1 out of   1 | elapsed:    4.2s remaining:    0.0s\n",
            "[Parallel(n_jobs=1)]: Done   5 out of   5 | elapsed:   21.5s finished\n",
            "[Parallel(n_jobs=1)]: Using backend SequentialBackend with 1 concurrent workers.\n",
            "[Parallel(n_jobs=1)]: Done   1 out of   1 | elapsed:    4.6s remaining:    0.0s\n",
            "[Parallel(n_jobs=1)]: Done   5 out of   5 | elapsed:   22.3s finished\n",
            "[Parallel(n_jobs=1)]: Using backend SequentialBackend with 1 concurrent workers.\n",
            "[Parallel(n_jobs=1)]: Done   1 out of   1 | elapsed:    0.2s remaining:    0.0s\n",
            "[Parallel(n_jobs=1)]: Done   5 out of   5 | elapsed:    1.0s finished\n"
          ]
        },
        {
          "output_type": "execute_result",
          "data": {
            "text/plain": [
              "0.6255334805003679"
            ]
          },
          "metadata": {},
          "execution_count": 195
        }
      ],
      "source": [
        "#Evaluo en conjunto de test\n",
        "stacking_model.fit(x_train_target,y_train_target).score(x_test_target,y_test_target)\n",
        "y_pred_st = stacking_model.predict(x_test_target)\n",
        "accuracy_score(y_test_target, y_pred_st)"
      ]
    },
    {
      "cell_type": "markdown",
      "source": [
        "###Dataset con features TP1"
      ],
      "metadata": {
        "id": "DZ-e3TDYicI7"
      }
    },
    {
      "cell_type": "code",
      "execution_count": null,
      "metadata": {
        "colab": {
          "base_uri": "https://localhost:8080/"
        },
        "outputId": "96a306f9-81ca-4f3a-fd88-08e5b60be9b9",
        "id": "VfO4F1Euu1Ox"
      },
      "outputs": [
        {
          "output_type": "stream",
          "name": "stdout",
          "text": [
            "Evaluating random_forest\n"
          ]
        },
        {
          "output_type": "stream",
          "name": "stderr",
          "text": [
            "[Parallel(n_jobs=3)]: Using backend LokyBackend with 3 concurrent workers.\n",
            "[Parallel(n_jobs=3)]: Done  10 out of  10 | elapsed:   41.1s finished\n",
            "[Parallel(n_jobs=3)]: Using backend LokyBackend with 3 concurrent workers.\n"
          ]
        },
        {
          "output_type": "stream",
          "name": "stdout",
          "text": [
            "Evaluating adaBoost\n"
          ]
        },
        {
          "output_type": "stream",
          "name": "stderr",
          "text": [
            "[Parallel(n_jobs=3)]: Done  10 out of  10 | elapsed:  1.5min finished\n",
            "[Parallel(n_jobs=3)]: Using backend LokyBackend with 3 concurrent workers.\n"
          ]
        },
        {
          "output_type": "stream",
          "name": "stdout",
          "text": [
            "Evaluating DecisionTree\n"
          ]
        },
        {
          "output_type": "stream",
          "name": "stderr",
          "text": [
            "[Parallel(n_jobs=3)]: Done  10 out of  10 | elapsed:    2.4s finished\n"
          ]
        }
      ],
      "source": [
        "#Modelos Base\n",
        "base_models_viejo = {'random_forest':RandomForestClassifier(random_state=2).set_params(**rmf_randomcv_viejo.best_params_),\n",
        "               'adaBoost': AdaBoostClassifier(random_state=2).set_params(**ab_randomcv_viejo.best_params_),\n",
        "               'DecisionTree': DecisionTreeClassifier(random_state=2).set_params(**dt_randomcv_viejo.best_params_)}\n",
        "\n",
        "#Guarda los scores de cada modelo\n",
        "model_scores_viejo = defaultdict()\n",
        "\n",
        "#Entreno los clasificadores\n",
        "for name, model in base_models_viejo.items():\n",
        "    print('Evaluating {}'.format(name))\n",
        "    scores = evaluate_model(model, x_train_target_viejo, y_train_target)\n",
        "    model_scores[name] = scores"
      ]
    },
    {
      "cell_type": "code",
      "execution_count": null,
      "metadata": {
        "id": "NSBfcjyGu1Ox"
      },
      "outputs": [],
      "source": [
        "from sklearn.ensemble import StackingClassifier\n",
        "\n",
        "# #Modelos Base\n",
        "base_models_viejo = [('random_forest',RandomForestClassifier(random_state=2).set_params(**rmf_randomcv_viejo.best_params_)),\n",
        "               ('adaBoost', AdaBoostClassifier(random_state=2).set_params(**ab_randomcv_viejo.best_params_)),\n",
        "               ('DecisionTree', DecisionTreeClassifier(random_state=2).set_params(**dt_randomcv_viejo.best_params_))]\n",
        "\n",
        "#Meta Modelo\n",
        "meta_model_viejo = LogisticRegressionCV()\n",
        "\n",
        "#Ensemble Stacking\n",
        "stacking_model_viejo = StackingClassifier(estimators=base_models_viejo, \n",
        "                                    final_estimator=meta_model_viejo, \n",
        "                                    passthrough=True, \n",
        "                                    cv=5,\n",
        "                                    verbose=2)"
      ]
    },
    {
      "cell_type": "code",
      "execution_count": null,
      "metadata": {
        "colab": {
          "base_uri": "https://localhost:8080/"
        },
        "id": "cpR2V3FEu1Ox",
        "outputId": "c1dbb29c-6bbe-4b15-f05b-2d5adabd50dc"
      },
      "outputs": [
        {
          "output_type": "stream",
          "name": "stderr",
          "text": [
            "[Parallel(n_jobs=3)]: Using backend LokyBackend with 3 concurrent workers.\n",
            "[Parallel(n_jobs=3)]: Done  10 out of  10 | elapsed: 17.7min finished\n"
          ]
        }
      ],
      "source": [
        "#Performance el modelo en entrenamiento\n",
        "stacking_scores_viejo = evaluate_model(stacking_model_viejo, x_train_target_viejo, y_train_target)\n",
        "model_scores_viejo['stacking'] = stacking_scores_viejo"
      ]
    },
    {
      "cell_type": "code",
      "source": [
        "model_scores_viejo"
      ],
      "metadata": {
        "colab": {
          "base_uri": "https://localhost:8080/"
        },
        "id": "gQrbhZDSu1Oy",
        "outputId": "47103e68-7620-4dc0-f023-5af71e4999ee"
      },
      "execution_count": null,
      "outputs": [
        {
          "output_type": "execute_result",
          "data": {
            "text/plain": [
              "defaultdict(None,\n",
              "            {'stacking': array([0.60557046, 0.62316554, 0.60569715, 0.61082617, 0.61051053,\n",
              "                    0.60123087, 0.62032507, 0.60372445, 0.61382467, 0.61271996])})"
            ]
          },
          "metadata": {},
          "execution_count": 199
        }
      ]
    },
    {
      "cell_type": "code",
      "execution_count": null,
      "metadata": {
        "colab": {
          "base_uri": "https://localhost:8080/",
          "height": 542
        },
        "id": "NQ4StHNJu1Oy",
        "outputId": "b866e6b0-7dc3-4708-9a6a-27e2cdb3c6ff"
      },
      "outputs": [
        {
          "output_type": "display_data",
          "data": {
            "text/html": [
              "<html>\n",
              "<head><meta charset=\"utf-8\" /></head>\n",
              "<body>\n",
              "    <div>            <script src=\"https://cdnjs.cloudflare.com/ajax/libs/mathjax/2.7.5/MathJax.js?config=TeX-AMS-MML_SVG\"></script><script type=\"text/javascript\">if (window.MathJax) {MathJax.Hub.Config({SVG: {font: \"STIX-Web\"}});}</script>                <script type=\"text/javascript\">window.PlotlyConfig = {MathJaxConfig: 'local'};</script>\n",
              "        <script src=\"https://cdn.plot.ly/plotly-2.8.3.min.js\"></script>                <div id=\"06e3a783-97ec-4d9f-9f25-bd892b1942fb\" class=\"plotly-graph-div\" style=\"height:525px; width:100%;\"></div>            <script type=\"text/javascript\">                                    window.PLOTLYENV=window.PLOTLYENV || {};                                    if (document.getElementById(\"06e3a783-97ec-4d9f-9f25-bd892b1942fb\")) {                    Plotly.newPlot(                        \"06e3a783-97ec-4d9f-9f25-bd892b1942fb\",                        [{\"boxpoints\":\"all\",\"jitter\":0.5,\"line\":{\"width\":1},\"marker\":{\"size\":2},\"name\":\"stacking\",\"whiskerwidth\":0.2,\"y\":[0.605570459207827,0.6231655357424649,0.6056971514242878,0.6108261658644362,0.610510534206581,0.6012308663405397,0.620325074956604,0.6037244535626923,0.6138246666140614,0.6127199558115679],\"type\":\"box\"}],                        {\"template\":{\"data\":{\"bar\":[{\"error_x\":{\"color\":\"#2a3f5f\"},\"error_y\":{\"color\":\"#2a3f5f\"},\"marker\":{\"line\":{\"color\":\"#E5ECF6\",\"width\":0.5},\"pattern\":{\"fillmode\":\"overlay\",\"size\":10,\"solidity\":0.2}},\"type\":\"bar\"}],\"barpolar\":[{\"marker\":{\"line\":{\"color\":\"#E5ECF6\",\"width\":0.5},\"pattern\":{\"fillmode\":\"overlay\",\"size\":10,\"solidity\":0.2}},\"type\":\"barpolar\"}],\"carpet\":[{\"aaxis\":{\"endlinecolor\":\"#2a3f5f\",\"gridcolor\":\"white\",\"linecolor\":\"white\",\"minorgridcolor\":\"white\",\"startlinecolor\":\"#2a3f5f\"},\"baxis\":{\"endlinecolor\":\"#2a3f5f\",\"gridcolor\":\"white\",\"linecolor\":\"white\",\"minorgridcolor\":\"white\",\"startlinecolor\":\"#2a3f5f\"},\"type\":\"carpet\"}],\"choropleth\":[{\"colorbar\":{\"outlinewidth\":0,\"ticks\":\"\"},\"type\":\"choropleth\"}],\"contour\":[{\"colorbar\":{\"outlinewidth\":0,\"ticks\":\"\"},\"colorscale\":[[0.0,\"#0d0887\"],[0.1111111111111111,\"#46039f\"],[0.2222222222222222,\"#7201a8\"],[0.3333333333333333,\"#9c179e\"],[0.4444444444444444,\"#bd3786\"],[0.5555555555555556,\"#d8576b\"],[0.6666666666666666,\"#ed7953\"],[0.7777777777777778,\"#fb9f3a\"],[0.8888888888888888,\"#fdca26\"],[1.0,\"#f0f921\"]],\"type\":\"contour\"}],\"contourcarpet\":[{\"colorbar\":{\"outlinewidth\":0,\"ticks\":\"\"},\"type\":\"contourcarpet\"}],\"heatmap\":[{\"colorbar\":{\"outlinewidth\":0,\"ticks\":\"\"},\"colorscale\":[[0.0,\"#0d0887\"],[0.1111111111111111,\"#46039f\"],[0.2222222222222222,\"#7201a8\"],[0.3333333333333333,\"#9c179e\"],[0.4444444444444444,\"#bd3786\"],[0.5555555555555556,\"#d8576b\"],[0.6666666666666666,\"#ed7953\"],[0.7777777777777778,\"#fb9f3a\"],[0.8888888888888888,\"#fdca26\"],[1.0,\"#f0f921\"]],\"type\":\"heatmap\"}],\"heatmapgl\":[{\"colorbar\":{\"outlinewidth\":0,\"ticks\":\"\"},\"colorscale\":[[0.0,\"#0d0887\"],[0.1111111111111111,\"#46039f\"],[0.2222222222222222,\"#7201a8\"],[0.3333333333333333,\"#9c179e\"],[0.4444444444444444,\"#bd3786\"],[0.5555555555555556,\"#d8576b\"],[0.6666666666666666,\"#ed7953\"],[0.7777777777777778,\"#fb9f3a\"],[0.8888888888888888,\"#fdca26\"],[1.0,\"#f0f921\"]],\"type\":\"heatmapgl\"}],\"histogram\":[{\"marker\":{\"pattern\":{\"fillmode\":\"overlay\",\"size\":10,\"solidity\":0.2}},\"type\":\"histogram\"}],\"histogram2d\":[{\"colorbar\":{\"outlinewidth\":0,\"ticks\":\"\"},\"colorscale\":[[0.0,\"#0d0887\"],[0.1111111111111111,\"#46039f\"],[0.2222222222222222,\"#7201a8\"],[0.3333333333333333,\"#9c179e\"],[0.4444444444444444,\"#bd3786\"],[0.5555555555555556,\"#d8576b\"],[0.6666666666666666,\"#ed7953\"],[0.7777777777777778,\"#fb9f3a\"],[0.8888888888888888,\"#fdca26\"],[1.0,\"#f0f921\"]],\"type\":\"histogram2d\"}],\"histogram2dcontour\":[{\"colorbar\":{\"outlinewidth\":0,\"ticks\":\"\"},\"colorscale\":[[0.0,\"#0d0887\"],[0.1111111111111111,\"#46039f\"],[0.2222222222222222,\"#7201a8\"],[0.3333333333333333,\"#9c179e\"],[0.4444444444444444,\"#bd3786\"],[0.5555555555555556,\"#d8576b\"],[0.6666666666666666,\"#ed7953\"],[0.7777777777777778,\"#fb9f3a\"],[0.8888888888888888,\"#fdca26\"],[1.0,\"#f0f921\"]],\"type\":\"histogram2dcontour\"}],\"mesh3d\":[{\"colorbar\":{\"outlinewidth\":0,\"ticks\":\"\"},\"type\":\"mesh3d\"}],\"parcoords\":[{\"line\":{\"colorbar\":{\"outlinewidth\":0,\"ticks\":\"\"}},\"type\":\"parcoords\"}],\"pie\":[{\"automargin\":true,\"type\":\"pie\"}],\"scatter\":[{\"marker\":{\"colorbar\":{\"outlinewidth\":0,\"ticks\":\"\"}},\"type\":\"scatter\"}],\"scatter3d\":[{\"line\":{\"colorbar\":{\"outlinewidth\":0,\"ticks\":\"\"}},\"marker\":{\"colorbar\":{\"outlinewidth\":0,\"ticks\":\"\"}},\"type\":\"scatter3d\"}],\"scattercarpet\":[{\"marker\":{\"colorbar\":{\"outlinewidth\":0,\"ticks\":\"\"}},\"type\":\"scattercarpet\"}],\"scattergeo\":[{\"marker\":{\"colorbar\":{\"outlinewidth\":0,\"ticks\":\"\"}},\"type\":\"scattergeo\"}],\"scattergl\":[{\"marker\":{\"colorbar\":{\"outlinewidth\":0,\"ticks\":\"\"}},\"type\":\"scattergl\"}],\"scattermapbox\":[{\"marker\":{\"colorbar\":{\"outlinewidth\":0,\"ticks\":\"\"}},\"type\":\"scattermapbox\"}],\"scatterpolar\":[{\"marker\":{\"colorbar\":{\"outlinewidth\":0,\"ticks\":\"\"}},\"type\":\"scatterpolar\"}],\"scatterpolargl\":[{\"marker\":{\"colorbar\":{\"outlinewidth\":0,\"ticks\":\"\"}},\"type\":\"scatterpolargl\"}],\"scatterternary\":[{\"marker\":{\"colorbar\":{\"outlinewidth\":0,\"ticks\":\"\"}},\"type\":\"scatterternary\"}],\"surface\":[{\"colorbar\":{\"outlinewidth\":0,\"ticks\":\"\"},\"colorscale\":[[0.0,\"#0d0887\"],[0.1111111111111111,\"#46039f\"],[0.2222222222222222,\"#7201a8\"],[0.3333333333333333,\"#9c179e\"],[0.4444444444444444,\"#bd3786\"],[0.5555555555555556,\"#d8576b\"],[0.6666666666666666,\"#ed7953\"],[0.7777777777777778,\"#fb9f3a\"],[0.8888888888888888,\"#fdca26\"],[1.0,\"#f0f921\"]],\"type\":\"surface\"}],\"table\":[{\"cells\":{\"fill\":{\"color\":\"#EBF0F8\"},\"line\":{\"color\":\"white\"}},\"header\":{\"fill\":{\"color\":\"#C8D4E3\"},\"line\":{\"color\":\"white\"}},\"type\":\"table\"}]},\"layout\":{\"annotationdefaults\":{\"arrowcolor\":\"#2a3f5f\",\"arrowhead\":0,\"arrowwidth\":1},\"autotypenumbers\":\"strict\",\"coloraxis\":{\"colorbar\":{\"outlinewidth\":0,\"ticks\":\"\"}},\"colorscale\":{\"diverging\":[[0,\"#8e0152\"],[0.1,\"#c51b7d\"],[0.2,\"#de77ae\"],[0.3,\"#f1b6da\"],[0.4,\"#fde0ef\"],[0.5,\"#f7f7f7\"],[0.6,\"#e6f5d0\"],[0.7,\"#b8e186\"],[0.8,\"#7fbc41\"],[0.9,\"#4d9221\"],[1,\"#276419\"]],\"sequential\":[[0.0,\"#0d0887\"],[0.1111111111111111,\"#46039f\"],[0.2222222222222222,\"#7201a8\"],[0.3333333333333333,\"#9c179e\"],[0.4444444444444444,\"#bd3786\"],[0.5555555555555556,\"#d8576b\"],[0.6666666666666666,\"#ed7953\"],[0.7777777777777778,\"#fb9f3a\"],[0.8888888888888888,\"#fdca26\"],[1.0,\"#f0f921\"]],\"sequentialminus\":[[0.0,\"#0d0887\"],[0.1111111111111111,\"#46039f\"],[0.2222222222222222,\"#7201a8\"],[0.3333333333333333,\"#9c179e\"],[0.4444444444444444,\"#bd3786\"],[0.5555555555555556,\"#d8576b\"],[0.6666666666666666,\"#ed7953\"],[0.7777777777777778,\"#fb9f3a\"],[0.8888888888888888,\"#fdca26\"],[1.0,\"#f0f921\"]]},\"colorway\":[\"#636efa\",\"#EF553B\",\"#00cc96\",\"#ab63fa\",\"#FFA15A\",\"#19d3f3\",\"#FF6692\",\"#B6E880\",\"#FF97FF\",\"#FECB52\"],\"font\":{\"color\":\"#2a3f5f\"},\"geo\":{\"bgcolor\":\"white\",\"lakecolor\":\"white\",\"landcolor\":\"#E5ECF6\",\"showlakes\":true,\"showland\":true,\"subunitcolor\":\"white\"},\"hoverlabel\":{\"align\":\"left\"},\"hovermode\":\"closest\",\"mapbox\":{\"style\":\"light\"},\"paper_bgcolor\":\"white\",\"plot_bgcolor\":\"#E5ECF6\",\"polar\":{\"angularaxis\":{\"gridcolor\":\"white\",\"linecolor\":\"white\",\"ticks\":\"\"},\"bgcolor\":\"#E5ECF6\",\"radialaxis\":{\"gridcolor\":\"white\",\"linecolor\":\"white\",\"ticks\":\"\"}},\"scene\":{\"xaxis\":{\"backgroundcolor\":\"#E5ECF6\",\"gridcolor\":\"white\",\"gridwidth\":2,\"linecolor\":\"white\",\"showbackground\":true,\"ticks\":\"\",\"zerolinecolor\":\"white\"},\"yaxis\":{\"backgroundcolor\":\"#E5ECF6\",\"gridcolor\":\"white\",\"gridwidth\":2,\"linecolor\":\"white\",\"showbackground\":true,\"ticks\":\"\",\"zerolinecolor\":\"white\"},\"zaxis\":{\"backgroundcolor\":\"#E5ECF6\",\"gridcolor\":\"white\",\"gridwidth\":2,\"linecolor\":\"white\",\"showbackground\":true,\"ticks\":\"\",\"zerolinecolor\":\"white\"}},\"shapedefaults\":{\"line\":{\"color\":\"#2a3f5f\"}},\"ternary\":{\"aaxis\":{\"gridcolor\":\"white\",\"linecolor\":\"white\",\"ticks\":\"\"},\"baxis\":{\"gridcolor\":\"white\",\"linecolor\":\"white\",\"ticks\":\"\"},\"bgcolor\":\"#E5ECF6\",\"caxis\":{\"gridcolor\":\"white\",\"linecolor\":\"white\",\"ticks\":\"\"}},\"title\":{\"x\":0.05},\"xaxis\":{\"automargin\":true,\"gridcolor\":\"white\",\"linecolor\":\"white\",\"ticks\":\"\",\"title\":{\"standoff\":15},\"zerolinecolor\":\"white\",\"zerolinewidth\":2},\"yaxis\":{\"automargin\":true,\"gridcolor\":\"white\",\"linecolor\":\"white\",\"ticks\":\"\",\"title\":{\"standoff\":15},\"zerolinecolor\":\"white\",\"zerolinewidth\":2}}},\"title\":{\"text\":\"Performance of Different Models Using 5-Fold Cross-Validation\"},\"paper_bgcolor\":\"rgb(243, 243, 243)\",\"plot_bgcolor\":\"rgb(243, 243, 243)\",\"xaxis\":{\"title\":{\"text\":\"Model\"}},\"yaxis\":{\"title\":{\"text\":\"Accuracy\"}},\"showlegend\":false},                        {\"responsive\": true}                    ).then(function(){\n",
              "                            \n",
              "var gd = document.getElementById('06e3a783-97ec-4d9f-9f25-bd892b1942fb');\n",
              "var x = new MutationObserver(function (mutations, observer) {{\n",
              "        var display = window.getComputedStyle(gd).display;\n",
              "        if (!display || display === 'none') {{\n",
              "            console.log([gd, 'removed!']);\n",
              "            Plotly.purge(gd);\n",
              "            observer.disconnect();\n",
              "        }}\n",
              "}});\n",
              "\n",
              "// Listen for the removal of the full notebook cells\n",
              "var notebookContainer = gd.closest('#notebook-container');\n",
              "if (notebookContainer) {{\n",
              "    x.observe(notebookContainer, {childList: true});\n",
              "}}\n",
              "\n",
              "// Listen for the clearing of the current output cell\n",
              "var outputEl = gd.closest('.output');\n",
              "if (outputEl) {{\n",
              "    x.observe(outputEl, {childList: true});\n",
              "}}\n",
              "\n",
              "                        })                };                            </script>        </div>\n",
              "</body>\n",
              "</html>"
            ]
          },
          "metadata": {}
        }
      ],
      "source": [
        "#Grafico performance\n",
        "plot_results(model_scores_viejo, name='stacking_model_cv')"
      ]
    },
    {
      "cell_type": "code",
      "execution_count": null,
      "metadata": {
        "colab": {
          "base_uri": "https://localhost:8080/"
        },
        "id": "ImALbUWgu1Oy",
        "outputId": "a68bd5be-b205-4f61-822c-fa281de720eb"
      },
      "outputs": [
        {
          "output_type": "stream",
          "name": "stderr",
          "text": [
            "[Parallel(n_jobs=1)]: Using backend SequentialBackend with 1 concurrent workers.\n",
            "[Parallel(n_jobs=1)]: Done   1 out of   1 | elapsed:    4.6s remaining:    0.0s\n",
            "[Parallel(n_jobs=1)]: Done   5 out of   5 | elapsed:   19.9s finished\n",
            "[Parallel(n_jobs=1)]: Using backend SequentialBackend with 1 concurrent workers.\n",
            "[Parallel(n_jobs=1)]: Done   1 out of   1 | elapsed:    3.8s remaining:    0.0s\n",
            "[Parallel(n_jobs=1)]: Done   5 out of   5 | elapsed:   19.3s finished\n",
            "[Parallel(n_jobs=1)]: Using backend SequentialBackend with 1 concurrent workers.\n",
            "[Parallel(n_jobs=1)]: Done   1 out of   1 | elapsed:    0.2s remaining:    0.0s\n",
            "[Parallel(n_jobs=1)]: Done   5 out of   5 | elapsed:    0.8s finished\n"
          ]
        },
        {
          "output_type": "execute_result",
          "data": {
            "text/plain": [
              "0.6122516556291391"
            ]
          },
          "metadata": {},
          "execution_count": 201
        }
      ],
      "source": [
        "#Evaluo en conjunto de test\n",
        "stacking_model_viejo.fit(x_train_target_viejo,y_train_target).score(x_test_target_viejo,y_test_target)\n",
        "y_pred_st = stacking_model_viejo.predict(x_test_target_viejo)\n",
        "accuracy_score(y_test_target, y_pred_st)"
      ]
    }
  ],
  "metadata": {
    "colab": {
      "collapsed_sections": [
        "mDqyrSoVaNJT",
        "Ct8FTKq8vdie"
      ],
      "provenance": [],
      "toc_visible": true
    },
    "kernelspec": {
      "display_name": "Python 3",
      "name": "python3"
    },
    "language_info": {
      "name": "python"
    }
  },
  "nbformat": 4,
  "nbformat_minor": 0
}